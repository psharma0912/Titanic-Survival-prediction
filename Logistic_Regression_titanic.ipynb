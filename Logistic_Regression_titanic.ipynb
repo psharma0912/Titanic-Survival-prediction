{
 "cells": [
  {
   "cell_type": "code",
   "execution_count": 2,
   "id": "2b006044",
   "metadata": {},
   "outputs": [],
   "source": [
    "import numpy as np\n",
    "import pandas as pd\n",
    "import seaborn as sns\n",
    "import matplotlib.pyplot as plt\n",
    "%matplotlib inline\n",
    "\n",
    "from sklearn.model_selection import train_test_split\n",
    "from sklearn.preprocessing import StandardScaler\n",
    "\n",
    "from sklearn.linear_model import LogisticRegression\n",
    "from sklearn.metrics import confusion_matrix\n",
    "from sklearn.metrics import classification_report\n",
    "from sklearn import metrics\n",
    "\n",
    "import warnings;\n",
    "warnings.filterwarnings('ignore');"
   ]
  },
  {
   "cell_type": "code",
   "execution_count": 3,
   "id": "6b3100f7",
   "metadata": {},
   "outputs": [
    {
     "data": {
      "text/html": [
       "<div>\n",
       "<style scoped>\n",
       "    .dataframe tbody tr th:only-of-type {\n",
       "        vertical-align: middle;\n",
       "    }\n",
       "\n",
       "    .dataframe tbody tr th {\n",
       "        vertical-align: top;\n",
       "    }\n",
       "\n",
       "    .dataframe thead th {\n",
       "        text-align: right;\n",
       "    }\n",
       "</style>\n",
       "<table border=\"1\" class=\"dataframe\">\n",
       "  <thead>\n",
       "    <tr style=\"text-align: right;\">\n",
       "      <th></th>\n",
       "      <th>PassengerId</th>\n",
       "      <th>Survived</th>\n",
       "      <th>Pclass</th>\n",
       "      <th>Name</th>\n",
       "      <th>Sex</th>\n",
       "      <th>Age</th>\n",
       "      <th>SibSp</th>\n",
       "      <th>Parch</th>\n",
       "      <th>Ticket</th>\n",
       "      <th>Fare</th>\n",
       "      <th>Cabin</th>\n",
       "      <th>Embarked</th>\n",
       "    </tr>\n",
       "  </thead>\n",
       "  <tbody>\n",
       "    <tr>\n",
       "      <th>0</th>\n",
       "      <td>1</td>\n",
       "      <td>0</td>\n",
       "      <td>3</td>\n",
       "      <td>Braund, Mr. Owen Harris</td>\n",
       "      <td>male</td>\n",
       "      <td>22.0</td>\n",
       "      <td>1</td>\n",
       "      <td>0</td>\n",
       "      <td>A/5 21171</td>\n",
       "      <td>7.2500</td>\n",
       "      <td>NaN</td>\n",
       "      <td>S</td>\n",
       "    </tr>\n",
       "    <tr>\n",
       "      <th>1</th>\n",
       "      <td>2</td>\n",
       "      <td>1</td>\n",
       "      <td>1</td>\n",
       "      <td>Cumings, Mrs. John Bradley (Florence Briggs Th...</td>\n",
       "      <td>female</td>\n",
       "      <td>38.0</td>\n",
       "      <td>1</td>\n",
       "      <td>0</td>\n",
       "      <td>PC 17599</td>\n",
       "      <td>71.2833</td>\n",
       "      <td>C85</td>\n",
       "      <td>C</td>\n",
       "    </tr>\n",
       "    <tr>\n",
       "      <th>2</th>\n",
       "      <td>3</td>\n",
       "      <td>1</td>\n",
       "      <td>3</td>\n",
       "      <td>Heikkinen, Miss. Laina</td>\n",
       "      <td>female</td>\n",
       "      <td>26.0</td>\n",
       "      <td>0</td>\n",
       "      <td>0</td>\n",
       "      <td>STON/O2. 3101282</td>\n",
       "      <td>7.9250</td>\n",
       "      <td>NaN</td>\n",
       "      <td>S</td>\n",
       "    </tr>\n",
       "    <tr>\n",
       "      <th>3</th>\n",
       "      <td>4</td>\n",
       "      <td>1</td>\n",
       "      <td>1</td>\n",
       "      <td>Futrelle, Mrs. Jacques Heath (Lily May Peel)</td>\n",
       "      <td>female</td>\n",
       "      <td>35.0</td>\n",
       "      <td>1</td>\n",
       "      <td>0</td>\n",
       "      <td>113803</td>\n",
       "      <td>53.1000</td>\n",
       "      <td>C123</td>\n",
       "      <td>S</td>\n",
       "    </tr>\n",
       "    <tr>\n",
       "      <th>4</th>\n",
       "      <td>5</td>\n",
       "      <td>0</td>\n",
       "      <td>3</td>\n",
       "      <td>Allen, Mr. William Henry</td>\n",
       "      <td>male</td>\n",
       "      <td>35.0</td>\n",
       "      <td>0</td>\n",
       "      <td>0</td>\n",
       "      <td>373450</td>\n",
       "      <td>8.0500</td>\n",
       "      <td>NaN</td>\n",
       "      <td>S</td>\n",
       "    </tr>\n",
       "    <tr>\n",
       "      <th>5</th>\n",
       "      <td>6</td>\n",
       "      <td>0</td>\n",
       "      <td>3</td>\n",
       "      <td>Moran, Mr. James</td>\n",
       "      <td>male</td>\n",
       "      <td>NaN</td>\n",
       "      <td>0</td>\n",
       "      <td>0</td>\n",
       "      <td>330877</td>\n",
       "      <td>8.4583</td>\n",
       "      <td>NaN</td>\n",
       "      <td>Q</td>\n",
       "    </tr>\n",
       "    <tr>\n",
       "      <th>6</th>\n",
       "      <td>7</td>\n",
       "      <td>0</td>\n",
       "      <td>1</td>\n",
       "      <td>McCarthy, Mr. Timothy J</td>\n",
       "      <td>male</td>\n",
       "      <td>54.0</td>\n",
       "      <td>0</td>\n",
       "      <td>0</td>\n",
       "      <td>17463</td>\n",
       "      <td>51.8625</td>\n",
       "      <td>E46</td>\n",
       "      <td>S</td>\n",
       "    </tr>\n",
       "    <tr>\n",
       "      <th>7</th>\n",
       "      <td>8</td>\n",
       "      <td>0</td>\n",
       "      <td>3</td>\n",
       "      <td>Palsson, Master. Gosta Leonard</td>\n",
       "      <td>male</td>\n",
       "      <td>2.0</td>\n",
       "      <td>3</td>\n",
       "      <td>1</td>\n",
       "      <td>349909</td>\n",
       "      <td>21.0750</td>\n",
       "      <td>NaN</td>\n",
       "      <td>S</td>\n",
       "    </tr>\n",
       "    <tr>\n",
       "      <th>8</th>\n",
       "      <td>9</td>\n",
       "      <td>1</td>\n",
       "      <td>3</td>\n",
       "      <td>Johnson, Mrs. Oscar W (Elisabeth Vilhelmina Berg)</td>\n",
       "      <td>female</td>\n",
       "      <td>27.0</td>\n",
       "      <td>0</td>\n",
       "      <td>2</td>\n",
       "      <td>347742</td>\n",
       "      <td>11.1333</td>\n",
       "      <td>NaN</td>\n",
       "      <td>S</td>\n",
       "    </tr>\n",
       "    <tr>\n",
       "      <th>9</th>\n",
       "      <td>10</td>\n",
       "      <td>1</td>\n",
       "      <td>2</td>\n",
       "      <td>Nasser, Mrs. Nicholas (Adele Achem)</td>\n",
       "      <td>female</td>\n",
       "      <td>14.0</td>\n",
       "      <td>1</td>\n",
       "      <td>0</td>\n",
       "      <td>237736</td>\n",
       "      <td>30.0708</td>\n",
       "      <td>NaN</td>\n",
       "      <td>C</td>\n",
       "    </tr>\n",
       "  </tbody>\n",
       "</table>\n",
       "</div>"
      ],
      "text/plain": [
       "   PassengerId  Survived  Pclass  \\\n",
       "0            1         0       3   \n",
       "1            2         1       1   \n",
       "2            3         1       3   \n",
       "3            4         1       1   \n",
       "4            5         0       3   \n",
       "5            6         0       3   \n",
       "6            7         0       1   \n",
       "7            8         0       3   \n",
       "8            9         1       3   \n",
       "9           10         1       2   \n",
       "\n",
       "                                                Name     Sex   Age  SibSp  \\\n",
       "0                            Braund, Mr. Owen Harris    male  22.0      1   \n",
       "1  Cumings, Mrs. John Bradley (Florence Briggs Th...  female  38.0      1   \n",
       "2                             Heikkinen, Miss. Laina  female  26.0      0   \n",
       "3       Futrelle, Mrs. Jacques Heath (Lily May Peel)  female  35.0      1   \n",
       "4                           Allen, Mr. William Henry    male  35.0      0   \n",
       "5                                   Moran, Mr. James    male   NaN      0   \n",
       "6                            McCarthy, Mr. Timothy J    male  54.0      0   \n",
       "7                     Palsson, Master. Gosta Leonard    male   2.0      3   \n",
       "8  Johnson, Mrs. Oscar W (Elisabeth Vilhelmina Berg)  female  27.0      0   \n",
       "9                Nasser, Mrs. Nicholas (Adele Achem)  female  14.0      1   \n",
       "\n",
       "   Parch            Ticket     Fare Cabin Embarked  \n",
       "0      0         A/5 21171   7.2500   NaN        S  \n",
       "1      0          PC 17599  71.2833   C85        C  \n",
       "2      0  STON/O2. 3101282   7.9250   NaN        S  \n",
       "3      0            113803  53.1000  C123        S  \n",
       "4      0            373450   8.0500   NaN        S  \n",
       "5      0            330877   8.4583   NaN        Q  \n",
       "6      0             17463  51.8625   E46        S  \n",
       "7      1            349909  21.0750   NaN        S  \n",
       "8      2            347742  11.1333   NaN        S  \n",
       "9      0            237736  30.0708   NaN        C  "
      ]
     },
     "execution_count": 3,
     "metadata": {},
     "output_type": "execute_result"
    }
   ],
   "source": [
    "titanic=pd.read_csv('titanic.csv')\n",
    "titanic.head(10)"
   ]
  },
  {
   "cell_type": "code",
   "execution_count": 4,
   "id": "c06cca9d",
   "metadata": {},
   "outputs": [
    {
     "name": "stdout",
     "output_type": "stream",
     "text": [
      "<class 'pandas.core.frame.DataFrame'>\n",
      "RangeIndex: 891 entries, 0 to 890\n",
      "Data columns (total 12 columns):\n",
      " #   Column       Non-Null Count  Dtype  \n",
      "---  ------       --------------  -----  \n",
      " 0   PassengerId  891 non-null    int64  \n",
      " 1   Survived     891 non-null    int64  \n",
      " 2   Pclass       891 non-null    int64  \n",
      " 3   Name         891 non-null    object \n",
      " 4   Sex          891 non-null    object \n",
      " 5   Age          714 non-null    float64\n",
      " 6   SibSp        891 non-null    int64  \n",
      " 7   Parch        891 non-null    int64  \n",
      " 8   Ticket       891 non-null    object \n",
      " 9   Fare         891 non-null    float64\n",
      " 10  Cabin        204 non-null    object \n",
      " 11  Embarked     889 non-null    object \n",
      "dtypes: float64(2), int64(5), object(5)\n",
      "memory usage: 83.7+ KB\n"
     ]
    }
   ],
   "source": [
    "titanic.info()"
   ]
  },
  {
   "cell_type": "code",
   "execution_count": 5,
   "id": "1af56f69",
   "metadata": {},
   "outputs": [
    {
     "data": {
      "text/html": [
       "<div>\n",
       "<style scoped>\n",
       "    .dataframe tbody tr th:only-of-type {\n",
       "        vertical-align: middle;\n",
       "    }\n",
       "\n",
       "    .dataframe tbody tr th {\n",
       "        vertical-align: top;\n",
       "    }\n",
       "\n",
       "    .dataframe thead th {\n",
       "        text-align: right;\n",
       "    }\n",
       "</style>\n",
       "<table border=\"1\" class=\"dataframe\">\n",
       "  <thead>\n",
       "    <tr style=\"text-align: right;\">\n",
       "      <th></th>\n",
       "      <th>PassengerId</th>\n",
       "      <th>Survived</th>\n",
       "      <th>Pclass</th>\n",
       "      <th>Age</th>\n",
       "      <th>SibSp</th>\n",
       "      <th>Parch</th>\n",
       "      <th>Fare</th>\n",
       "    </tr>\n",
       "  </thead>\n",
       "  <tbody>\n",
       "    <tr>\n",
       "      <th>count</th>\n",
       "      <td>891.000000</td>\n",
       "      <td>891.000000</td>\n",
       "      <td>891.000000</td>\n",
       "      <td>714.000000</td>\n",
       "      <td>891.000000</td>\n",
       "      <td>891.000000</td>\n",
       "      <td>891.000000</td>\n",
       "    </tr>\n",
       "    <tr>\n",
       "      <th>mean</th>\n",
       "      <td>446.000000</td>\n",
       "      <td>0.383838</td>\n",
       "      <td>2.308642</td>\n",
       "      <td>29.699118</td>\n",
       "      <td>0.523008</td>\n",
       "      <td>0.381594</td>\n",
       "      <td>32.204208</td>\n",
       "    </tr>\n",
       "    <tr>\n",
       "      <th>std</th>\n",
       "      <td>257.353842</td>\n",
       "      <td>0.486592</td>\n",
       "      <td>0.836071</td>\n",
       "      <td>14.526497</td>\n",
       "      <td>1.102743</td>\n",
       "      <td>0.806057</td>\n",
       "      <td>49.693429</td>\n",
       "    </tr>\n",
       "    <tr>\n",
       "      <th>min</th>\n",
       "      <td>1.000000</td>\n",
       "      <td>0.000000</td>\n",
       "      <td>1.000000</td>\n",
       "      <td>0.420000</td>\n",
       "      <td>0.000000</td>\n",
       "      <td>0.000000</td>\n",
       "      <td>0.000000</td>\n",
       "    </tr>\n",
       "    <tr>\n",
       "      <th>25%</th>\n",
       "      <td>223.500000</td>\n",
       "      <td>0.000000</td>\n",
       "      <td>2.000000</td>\n",
       "      <td>20.125000</td>\n",
       "      <td>0.000000</td>\n",
       "      <td>0.000000</td>\n",
       "      <td>7.910400</td>\n",
       "    </tr>\n",
       "    <tr>\n",
       "      <th>50%</th>\n",
       "      <td>446.000000</td>\n",
       "      <td>0.000000</td>\n",
       "      <td>3.000000</td>\n",
       "      <td>28.000000</td>\n",
       "      <td>0.000000</td>\n",
       "      <td>0.000000</td>\n",
       "      <td>14.454200</td>\n",
       "    </tr>\n",
       "    <tr>\n",
       "      <th>75%</th>\n",
       "      <td>668.500000</td>\n",
       "      <td>1.000000</td>\n",
       "      <td>3.000000</td>\n",
       "      <td>38.000000</td>\n",
       "      <td>1.000000</td>\n",
       "      <td>0.000000</td>\n",
       "      <td>31.000000</td>\n",
       "    </tr>\n",
       "    <tr>\n",
       "      <th>max</th>\n",
       "      <td>891.000000</td>\n",
       "      <td>1.000000</td>\n",
       "      <td>3.000000</td>\n",
       "      <td>80.000000</td>\n",
       "      <td>8.000000</td>\n",
       "      <td>6.000000</td>\n",
       "      <td>512.329200</td>\n",
       "    </tr>\n",
       "  </tbody>\n",
       "</table>\n",
       "</div>"
      ],
      "text/plain": [
       "       PassengerId    Survived      Pclass         Age       SibSp  \\\n",
       "count   891.000000  891.000000  891.000000  714.000000  891.000000   \n",
       "mean    446.000000    0.383838    2.308642   29.699118    0.523008   \n",
       "std     257.353842    0.486592    0.836071   14.526497    1.102743   \n",
       "min       1.000000    0.000000    1.000000    0.420000    0.000000   \n",
       "25%     223.500000    0.000000    2.000000   20.125000    0.000000   \n",
       "50%     446.000000    0.000000    3.000000   28.000000    0.000000   \n",
       "75%     668.500000    1.000000    3.000000   38.000000    1.000000   \n",
       "max     891.000000    1.000000    3.000000   80.000000    8.000000   \n",
       "\n",
       "            Parch        Fare  \n",
       "count  891.000000  891.000000  \n",
       "mean     0.381594   32.204208  \n",
       "std      0.806057   49.693429  \n",
       "min      0.000000    0.000000  \n",
       "25%      0.000000    7.910400  \n",
       "50%      0.000000   14.454200  \n",
       "75%      0.000000   31.000000  \n",
       "max      6.000000  512.329200  "
      ]
     },
     "execution_count": 5,
     "metadata": {},
     "output_type": "execute_result"
    }
   ],
   "source": [
    "titanic.describe()"
   ]
  },
  {
   "cell_type": "code",
   "execution_count": 6,
   "id": "6da5d98a",
   "metadata": {},
   "outputs": [
    {
     "data": {
      "text/plain": [
       "258    512.3292\n",
       "737    512.3292\n",
       "679    512.3292\n",
       "88     263.0000\n",
       "27     263.0000\n",
       "         ...   \n",
       "633      0.0000\n",
       "413      0.0000\n",
       "822      0.0000\n",
       "732      0.0000\n",
       "674      0.0000\n",
       "Name: Fare, Length: 891, dtype: float64"
      ]
     },
     "execution_count": 6,
     "metadata": {},
     "output_type": "execute_result"
    }
   ],
   "source": [
    "titanic['Fare'].sort_values(ascending=False)"
   ]
  },
  {
   "cell_type": "code",
   "execution_count": 6,
   "id": "08b85032",
   "metadata": {},
   "outputs": [
    {
     "data": {
      "text/plain": [
       "<AxesSubplot:>"
      ]
     },
     "execution_count": 6,
     "metadata": {},
     "output_type": "execute_result"
    },
    {
     "data": {
      "image/png": "[encoded data removed]",
      "text/plain": [
       "<Figure size 432x288 with 1 Axes>"
      ]
     },
     "metadata": {
      "needs_background": "light"
     },
     "output_type": "display_data"
    }
   ],
   "source": [
    "titanic['Fare'].hist()"
   ]
  },
  {
   "cell_type": "code",
   "execution_count": 7,
   "id": "e1d1eea6",
   "metadata": {},
   "outputs": [
    {
     "data": {
      "text/plain": [
       "<AxesSubplot:xlabel='Fare'>"
      ]
     },
     "execution_count": 7,
     "metadata": {},
     "output_type": "execute_result"
    },
    {
     "data": {
      "image/png": "[encoded data removed]",
      "text/plain": [
       "<Figure size 432x288 with 1 Axes>"
      ]
     },
     "metadata": {
      "needs_background": "light"
     },
     "output_type": "display_data"
    }
   ],
   "source": [
    "sns.boxplot(x='Fare',data=titanic)"
   ]
  },
  {
   "cell_type": "code",
   "execution_count": 8,
   "id": "0034cd38",
   "metadata": {},
   "outputs": [],
   "source": [
    "Q1 = titanic['Fare'].quantile(0.25)\n",
    "Q3 = titanic['Fare'].quantile(0.75)\n",
    "IQR = Q3 - Q1\n",
    "whisker_width = 1.5\n",
    "lower_whisker = Q1 -(whisker_width*IQR)\n",
    "upper_whisker = Q3 + (whisker_width*IQR)\n",
    "titanic['Fare1']=np.where(titanic['Fare']>upper_whisker,upper_whisker,np.where(titanic['Fare']<lower_whisker,lower_whisker,titanic['Fare']))\n",
    "#print(boston_df_o1 < (Q1 - 1.5 * IQR)) |(boston_df_o1 > (Q3 + 1.5 * IQR))\n",
    "#boston_df_out = boston_df_o1[~((boston_df_o1 < (Q1 - 1.5 * IQR)) |(boston_df_o1 > (Q3 + 1.5 * IQR))).any(axis=1)]\n"
   ]
  },
  {
   "cell_type": "code",
   "execution_count": 9,
   "id": "367a2f54",
   "metadata": {},
   "outputs": [
    {
     "name": "stdout",
     "output_type": "stream",
     "text": [
      "(891, 13)\n",
      "(891,)\n"
     ]
    }
   ],
   "source": [
    "print(titanic.shape)\n",
    "print(titanic['Fare1'].shape)"
   ]
  },
  {
   "cell_type": "code",
   "execution_count": 10,
   "id": "2f07813f",
   "metadata": {},
   "outputs": [
    {
     "data": {
      "text/plain": [
       "271    0.0000\n",
       "597    0.0000\n",
       "302    0.0000\n",
       "633    0.0000\n",
       "277    0.0000\n",
       "413    0.0000\n",
       "674    0.0000\n",
       "263    0.0000\n",
       "466    0.0000\n",
       "732    0.0000\n",
       "179    0.0000\n",
       "806    0.0000\n",
       "481    0.0000\n",
       "822    0.0000\n",
       "815    0.0000\n",
       "378    4.0125\n",
       "872    5.0000\n",
       "326    6.2375\n",
       "843    6.4375\n",
       "818    6.4500\n",
       "371    6.4958\n",
       "202    6.4958\n",
       "654    6.7500\n",
       "143    6.7500\n",
       "411    6.8583\n",
       "825    6.9500\n",
       "129    6.9750\n",
       "804    6.9750\n",
       "477    7.0458\n",
       "611    7.0500\n",
       "Name: Fare1, dtype: float64"
      ]
     },
     "execution_count": 10,
     "metadata": {},
     "output_type": "execute_result"
    }
   ],
   "source": [
    "titanic['Fare1'].sort_values(ascending=True).head(30)"
   ]
  },
  {
   "cell_type": "code",
   "execution_count": 11,
   "id": "1b5c75da",
   "metadata": {},
   "outputs": [
    {
     "data": {
      "image/png": "[encoded data removed]",
      "text/plain": [
       "<Figure size 432x288 with 1 Axes>"
      ]
     },
     "metadata": {
      "needs_background": "light"
     },
     "output_type": "display_data"
    }
   ],
   "source": [
    "sns.heatmap(titanic.isnull(),yticklabels=False,cbar=False,cmap='viridis');"
   ]
  },
  {
   "cell_type": "code",
   "execution_count": 12,
   "id": "9f8354f0",
   "metadata": {},
   "outputs": [
    {
     "data": {
      "text/plain": [
       "PassengerId     0.000000\n",
       "Survived        0.000000\n",
       "Pclass          0.000000\n",
       "Name            0.000000\n",
       "Sex             0.000000\n",
       "Age            19.865320\n",
       "SibSp           0.000000\n",
       "Parch           0.000000\n",
       "Ticket          0.000000\n",
       "Fare            0.000000\n",
       "Cabin          77.104377\n",
       "Embarked        0.224467\n",
       "Fare1           0.000000\n",
       "dtype: float64"
      ]
     },
     "execution_count": 12,
     "metadata": {},
     "output_type": "execute_result"
    }
   ],
   "source": [
    "titanic.isnull().sum()/len(titanic)*100"
   ]
  },
  {
   "cell_type": "code",
   "execution_count": 13,
   "id": "024b11f2",
   "metadata": {},
   "outputs": [
    {
     "data": {
      "text/plain": [
       "<AxesSubplot:>"
      ]
     },
     "execution_count": 13,
     "metadata": {},
     "output_type": "execute_result"
    },
    {
     "data": {
      "image/png": "[encoded data removed]",
      "text/plain": [
       "<Figure size 432x288 with 2 Axes>"
      ]
     },
     "metadata": {
      "needs_background": "light"
     },
     "output_type": "display_data"
    }
   ],
   "source": [
    "sns.heatmap(titanic.corr(), annot = True, cmap = 'RdYlGn')"
   ]
  },
  {
   "cell_type": "code",
   "execution_count": 14,
   "id": "fbe4c716",
   "metadata": {},
   "outputs": [
    {
     "data": {
      "text/plain": [
       "<AxesSubplot:xlabel='Survived', ylabel='count'>"
      ]
     },
     "execution_count": 14,
     "metadata": {},
     "output_type": "execute_result"
    },
    {
     "data": {
      "image/png": "[encoded data removed]",
      "text/plain": [
       "<Figure size 432x288 with 1 Axes>"
      ]
     },
     "metadata": {
      "needs_background": "light"
     },
     "output_type": "display_data"
    }
   ],
   "source": [
    "sns.countplot(x='Survived',data=titanic)"
   ]
  },
  {
   "cell_type": "code",
   "execution_count": 15,
   "id": "31fdfb4f",
   "metadata": {},
   "outputs": [
    {
     "data": {
      "text/plain": [
       "<AxesSubplot:xlabel='Survived', ylabel='count'>"
      ]
     },
     "execution_count": 15,
     "metadata": {},
     "output_type": "execute_result"
    },
    {
     "data": {
      "image/png": "[encoded data removed]",
      "text/plain": [
       "<Figure size 432x288 with 1 Axes>"
      ]
     },
     "metadata": {
      "needs_background": "light"
     },
     "output_type": "display_data"
    }
   ],
   "source": [
    "sns.countplot(x='Survived',data=titanic,hue='Sex')"
   ]
  },
  {
   "cell_type": "code",
   "execution_count": 16,
   "id": "accaef4b",
   "metadata": {},
   "outputs": [
    {
     "data": {
      "text/plain": [
       "<AxesSubplot:xlabel='SibSp', ylabel='count'>"
      ]
     },
     "execution_count": 16,
     "metadata": {},
     "output_type": "execute_result"
    },
    {
     "data": {
      "image/png": "[encoded data removed]",
      "text/plain": [
       "<Figure size 432x288 with 1 Axes>"
      ]
     },
     "metadata": {
      "needs_background": "light"
     },
     "output_type": "display_data"
    }
   ],
   "source": [
    "sns.countplot(x='SibSp',data=titanic)"
   ]
  },
  {
   "cell_type": "code",
   "execution_count": 17,
   "id": "f813289e",
   "metadata": {},
   "outputs": [
    {
     "data": {
      "text/plain": [
       "<AxesSubplot:xlabel='Age'>"
      ]
     },
     "execution_count": 17,
     "metadata": {},
     "output_type": "execute_result"
    },
    {
     "data": {
      "image/png": "[encoded data removed]",
      "text/plain": [
       "<Figure size 432x288 with 1 Axes>"
      ]
     },
     "metadata": {
      "needs_background": "light"
     },
     "output_type": "display_data"
    }
   ],
   "source": [
    "sns.boxplot(x='Age',data=titanic)"
   ]
  },
  {
   "cell_type": "code",
   "execution_count": 18,
   "id": "94df63ed",
   "metadata": {},
   "outputs": [
    {
     "data": {
      "text/plain": [
       "<AxesSubplot:xlabel='Age', ylabel='Fare'>"
      ]
     },
     "execution_count": 18,
     "metadata": {},
     "output_type": "execute_result"
    },
    {
     "data": {
      "image/png": "[encoded data removed]",
      "text/plain": [
       "<Figure size 432x288 with 1 Axes>"
      ]
     },
     "metadata": {
      "needs_background": "light"
     },
     "output_type": "display_data"
    }
   ],
   "source": [
    "sns.scatterplot(x='Age', y='Fare', data=titanic)"
   ]
  },
  {
   "cell_type": "code",
   "execution_count": 19,
   "id": "9d7e0139",
   "metadata": {},
   "outputs": [
    {
     "data": {
      "text/plain": [
       "<AxesSubplot:xlabel='Pclass', ylabel='Age'>"
      ]
     },
     "execution_count": 19,
     "metadata": {},
     "output_type": "execute_result"
    },
    {
     "data": {
      "image/png": "[encoded data removed]",
      "text/plain": [
       "<Figure size 432x288 with 1 Axes>"
      ]
     },
     "metadata": {
      "needs_background": "light"
     },
     "output_type": "display_data"
    }
   ],
   "source": [
    "sns.boxplot(y='Age',x='Pclass',data=titanic)"
   ]
  },
  {
   "cell_type": "code",
   "execution_count": 7,
   "id": "f7b75d15",
   "metadata": {},
   "outputs": [],
   "source": [
    "\n",
    "# print(np.nanmean(titanic['Age']))\n",
    "# titanic['mean_Age']=np.nanmean(titanic['Age'])\n",
    "#Imputing median for missing values in column A and creating a new column for it\n",
    "\n",
    "titanic['Age_median'] = titanic['Age'].fillna(titanic['Age'].median())\n"
   ]
  },
  {
   "cell_type": "code",
   "execution_count": 8,
   "id": "93068588",
   "metadata": {},
   "outputs": [
    {
     "data": {
      "text/html": [
       "<div>\n",
       "<style scoped>\n",
       "    .dataframe tbody tr th:only-of-type {\n",
       "        vertical-align: middle;\n",
       "    }\n",
       "\n",
       "    .dataframe tbody tr th {\n",
       "        vertical-align: top;\n",
       "    }\n",
       "\n",
       "    .dataframe thead th {\n",
       "        text-align: right;\n",
       "    }\n",
       "</style>\n",
       "<table border=\"1\" class=\"dataframe\">\n",
       "  <thead>\n",
       "    <tr style=\"text-align: right;\">\n",
       "      <th></th>\n",
       "      <th>PassengerId</th>\n",
       "      <th>Survived</th>\n",
       "      <th>Pclass</th>\n",
       "      <th>Name</th>\n",
       "      <th>Sex</th>\n",
       "      <th>Age</th>\n",
       "      <th>SibSp</th>\n",
       "      <th>Parch</th>\n",
       "      <th>Ticket</th>\n",
       "      <th>Fare</th>\n",
       "      <th>Cabin</th>\n",
       "      <th>Embarked</th>\n",
       "      <th>Age_median</th>\n",
       "    </tr>\n",
       "  </thead>\n",
       "  <tbody>\n",
       "    <tr>\n",
       "      <th>0</th>\n",
       "      <td>1</td>\n",
       "      <td>0</td>\n",
       "      <td>3</td>\n",
       "      <td>Braund, Mr. Owen Harris</td>\n",
       "      <td>male</td>\n",
       "      <td>22.0</td>\n",
       "      <td>1</td>\n",
       "      <td>0</td>\n",
       "      <td>A/5 21171</td>\n",
       "      <td>7.2500</td>\n",
       "      <td>NaN</td>\n",
       "      <td>S</td>\n",
       "      <td>22.0</td>\n",
       "    </tr>\n",
       "    <tr>\n",
       "      <th>1</th>\n",
       "      <td>2</td>\n",
       "      <td>1</td>\n",
       "      <td>1</td>\n",
       "      <td>Cumings, Mrs. John Bradley (Florence Briggs Th...</td>\n",
       "      <td>female</td>\n",
       "      <td>38.0</td>\n",
       "      <td>1</td>\n",
       "      <td>0</td>\n",
       "      <td>PC 17599</td>\n",
       "      <td>71.2833</td>\n",
       "      <td>C85</td>\n",
       "      <td>C</td>\n",
       "      <td>38.0</td>\n",
       "    </tr>\n",
       "    <tr>\n",
       "      <th>2</th>\n",
       "      <td>3</td>\n",
       "      <td>1</td>\n",
       "      <td>3</td>\n",
       "      <td>Heikkinen, Miss. Laina</td>\n",
       "      <td>female</td>\n",
       "      <td>26.0</td>\n",
       "      <td>0</td>\n",
       "      <td>0</td>\n",
       "      <td>STON/O2. 3101282</td>\n",
       "      <td>7.9250</td>\n",
       "      <td>NaN</td>\n",
       "      <td>S</td>\n",
       "      <td>26.0</td>\n",
       "    </tr>\n",
       "    <tr>\n",
       "      <th>3</th>\n",
       "      <td>4</td>\n",
       "      <td>1</td>\n",
       "      <td>1</td>\n",
       "      <td>Futrelle, Mrs. Jacques Heath (Lily May Peel)</td>\n",
       "      <td>female</td>\n",
       "      <td>35.0</td>\n",
       "      <td>1</td>\n",
       "      <td>0</td>\n",
       "      <td>113803</td>\n",
       "      <td>53.1000</td>\n",
       "      <td>C123</td>\n",
       "      <td>S</td>\n",
       "      <td>35.0</td>\n",
       "    </tr>\n",
       "    <tr>\n",
       "      <th>4</th>\n",
       "      <td>5</td>\n",
       "      <td>0</td>\n",
       "      <td>3</td>\n",
       "      <td>Allen, Mr. William Henry</td>\n",
       "      <td>male</td>\n",
       "      <td>35.0</td>\n",
       "      <td>0</td>\n",
       "      <td>0</td>\n",
       "      <td>373450</td>\n",
       "      <td>8.0500</td>\n",
       "      <td>NaN</td>\n",
       "      <td>S</td>\n",
       "      <td>35.0</td>\n",
       "    </tr>\n",
       "    <tr>\n",
       "      <th>5</th>\n",
       "      <td>6</td>\n",
       "      <td>0</td>\n",
       "      <td>3</td>\n",
       "      <td>Moran, Mr. James</td>\n",
       "      <td>male</td>\n",
       "      <td>NaN</td>\n",
       "      <td>0</td>\n",
       "      <td>0</td>\n",
       "      <td>330877</td>\n",
       "      <td>8.4583</td>\n",
       "      <td>NaN</td>\n",
       "      <td>Q</td>\n",
       "      <td>28.0</td>\n",
       "    </tr>\n",
       "    <tr>\n",
       "      <th>6</th>\n",
       "      <td>7</td>\n",
       "      <td>0</td>\n",
       "      <td>1</td>\n",
       "      <td>McCarthy, Mr. Timothy J</td>\n",
       "      <td>male</td>\n",
       "      <td>54.0</td>\n",
       "      <td>0</td>\n",
       "      <td>0</td>\n",
       "      <td>17463</td>\n",
       "      <td>51.8625</td>\n",
       "      <td>E46</td>\n",
       "      <td>S</td>\n",
       "      <td>54.0</td>\n",
       "    </tr>\n",
       "    <tr>\n",
       "      <th>7</th>\n",
       "      <td>8</td>\n",
       "      <td>0</td>\n",
       "      <td>3</td>\n",
       "      <td>Palsson, Master. Gosta Leonard</td>\n",
       "      <td>male</td>\n",
       "      <td>2.0</td>\n",
       "      <td>3</td>\n",
       "      <td>1</td>\n",
       "      <td>349909</td>\n",
       "      <td>21.0750</td>\n",
       "      <td>NaN</td>\n",
       "      <td>S</td>\n",
       "      <td>2.0</td>\n",
       "    </tr>\n",
       "    <tr>\n",
       "      <th>8</th>\n",
       "      <td>9</td>\n",
       "      <td>1</td>\n",
       "      <td>3</td>\n",
       "      <td>Johnson, Mrs. Oscar W (Elisabeth Vilhelmina Berg)</td>\n",
       "      <td>female</td>\n",
       "      <td>27.0</td>\n",
       "      <td>0</td>\n",
       "      <td>2</td>\n",
       "      <td>347742</td>\n",
       "      <td>11.1333</td>\n",
       "      <td>NaN</td>\n",
       "      <td>S</td>\n",
       "      <td>27.0</td>\n",
       "    </tr>\n",
       "    <tr>\n",
       "      <th>9</th>\n",
       "      <td>10</td>\n",
       "      <td>1</td>\n",
       "      <td>2</td>\n",
       "      <td>Nasser, Mrs. Nicholas (Adele Achem)</td>\n",
       "      <td>female</td>\n",
       "      <td>14.0</td>\n",
       "      <td>1</td>\n",
       "      <td>0</td>\n",
       "      <td>237736</td>\n",
       "      <td>30.0708</td>\n",
       "      <td>NaN</td>\n",
       "      <td>C</td>\n",
       "      <td>14.0</td>\n",
       "    </tr>\n",
       "  </tbody>\n",
       "</table>\n",
       "</div>"
      ],
      "text/plain": [
       "   PassengerId  Survived  Pclass  \\\n",
       "0            1         0       3   \n",
       "1            2         1       1   \n",
       "2            3         1       3   \n",
       "3            4         1       1   \n",
       "4            5         0       3   \n",
       "5            6         0       3   \n",
       "6            7         0       1   \n",
       "7            8         0       3   \n",
       "8            9         1       3   \n",
       "9           10         1       2   \n",
       "\n",
       "                                                Name     Sex   Age  SibSp  \\\n",
       "0                            Braund, Mr. Owen Harris    male  22.0      1   \n",
       "1  Cumings, Mrs. John Bradley (Florence Briggs Th...  female  38.0      1   \n",
       "2                             Heikkinen, Miss. Laina  female  26.0      0   \n",
       "3       Futrelle, Mrs. Jacques Heath (Lily May Peel)  female  35.0      1   \n",
       "4                           Allen, Mr. William Henry    male  35.0      0   \n",
       "5                                   Moran, Mr. James    male   NaN      0   \n",
       "6                            McCarthy, Mr. Timothy J    male  54.0      0   \n",
       "7                     Palsson, Master. Gosta Leonard    male   2.0      3   \n",
       "8  Johnson, Mrs. Oscar W (Elisabeth Vilhelmina Berg)  female  27.0      0   \n",
       "9                Nasser, Mrs. Nicholas (Adele Achem)  female  14.0      1   \n",
       "\n",
       "   Parch            Ticket     Fare Cabin Embarked  Age_median  \n",
       "0      0         A/5 21171   7.2500   NaN        S        22.0  \n",
       "1      0          PC 17599  71.2833   C85        C        38.0  \n",
       "2      0  STON/O2. 3101282   7.9250   NaN        S        26.0  \n",
       "3      0            113803  53.1000  C123        S        35.0  \n",
       "4      0            373450   8.0500   NaN        S        35.0  \n",
       "5      0            330877   8.4583   NaN        Q        28.0  \n",
       "6      0             17463  51.8625   E46        S        54.0  \n",
       "7      1            349909  21.0750   NaN        S         2.0  \n",
       "8      2            347742  11.1333   NaN        S        27.0  \n",
       "9      0            237736  30.0708   NaN        C        14.0  "
      ]
     },
     "execution_count": 8,
     "metadata": {},
     "output_type": "execute_result"
    }
   ],
   "source": [
    "titanic.head(10)"
   ]
  },
  {
   "cell_type": "code",
   "execution_count": 9,
   "id": "6fd2eed2",
   "metadata": {},
   "outputs": [
    {
     "name": "stdout",
     "output_type": "stream",
     "text": [
      "<class 'pandas.core.frame.DataFrame'>\n",
      "RangeIndex: 891 entries, 0 to 890\n",
      "Data columns (total 13 columns):\n",
      " #   Column       Non-Null Count  Dtype  \n",
      "---  ------       --------------  -----  \n",
      " 0   PassengerId  891 non-null    int64  \n",
      " 1   Survived     891 non-null    int64  \n",
      " 2   Pclass       891 non-null    int64  \n",
      " 3   Name         891 non-null    object \n",
      " 4   Sex          891 non-null    object \n",
      " 5   Age          714 non-null    float64\n",
      " 6   SibSp        891 non-null    int64  \n",
      " 7   Parch        891 non-null    int64  \n",
      " 8   Ticket       891 non-null    object \n",
      " 9   Fare         891 non-null    float64\n",
      " 10  Cabin        204 non-null    object \n",
      " 11  Embarked     889 non-null    object \n",
      " 12  Age_median   891 non-null    float64\n",
      "dtypes: float64(3), int64(5), object(5)\n",
      "memory usage: 90.6+ KB\n"
     ]
    }
   ],
   "source": [
    "titanic.info()"
   ]
  },
  {
   "cell_type": "code",
   "execution_count": 10,
   "id": "4935aa1b",
   "metadata": {},
   "outputs": [
    {
     "data": {
      "text/plain": [
       "PassengerId      0\n",
       "Survived         0\n",
       "Pclass           0\n",
       "Name             0\n",
       "Sex              0\n",
       "Age            177\n",
       "SibSp            0\n",
       "Parch            0\n",
       "Ticket           0\n",
       "Fare             0\n",
       "Cabin          687\n",
       "Embarked         2\n",
       "Age_median       0\n",
       "dtype: int64"
      ]
     },
     "execution_count": 10,
     "metadata": {},
     "output_type": "execute_result"
    }
   ],
   "source": [
    "titanic.isnull().sum()"
   ]
  },
  {
   "cell_type": "code",
   "execution_count": 11,
   "id": "419a1432",
   "metadata": {},
   "outputs": [],
   "source": [
    "titanic.drop(['Age'], axis = 1, inplace = True) "
   ]
  },
  {
   "cell_type": "code",
   "execution_count": 12,
   "id": "58495608",
   "metadata": {},
   "outputs": [
    {
     "name": "stdout",
     "output_type": "stream",
     "text": [
      "<class 'pandas.core.frame.DataFrame'>\n",
      "RangeIndex: 891 entries, 0 to 890\n",
      "Data columns (total 12 columns):\n",
      " #   Column       Non-Null Count  Dtype  \n",
      "---  ------       --------------  -----  \n",
      " 0   PassengerId  891 non-null    int64  \n",
      " 1   Survived     891 non-null    int64  \n",
      " 2   Pclass       891 non-null    int64  \n",
      " 3   Name         891 non-null    object \n",
      " 4   Sex          891 non-null    object \n",
      " 5   SibSp        891 non-null    int64  \n",
      " 6   Parch        891 non-null    int64  \n",
      " 7   Ticket       891 non-null    object \n",
      " 8   Fare         891 non-null    float64\n",
      " 9   Cabin        204 non-null    object \n",
      " 10  Embarked     889 non-null    object \n",
      " 11  Age_median   891 non-null    float64\n",
      "dtypes: float64(2), int64(5), object(5)\n",
      "memory usage: 83.7+ KB\n"
     ]
    }
   ],
   "source": [
    "titanic.info()"
   ]
  },
  {
   "cell_type": "code",
   "execution_count": null,
   "id": "ec5c4c7a",
   "metadata": {},
   "outputs": [],
   "source": []
  },
  {
   "cell_type": "code",
   "execution_count": 13,
   "id": "12876f80",
   "metadata": {},
   "outputs": [
    {
     "data": {
      "text/plain": [
       "S    644\n",
       "C    168\n",
       "Q     77\n",
       "Name: Embarked, dtype: int64"
      ]
     },
     "execution_count": 13,
     "metadata": {},
     "output_type": "execute_result"
    }
   ],
   "source": [
    "titanic['Embarked'].value_counts()"
   ]
  },
  {
   "cell_type": "code",
   "execution_count": 14,
   "id": "3c1f6f7e",
   "metadata": {},
   "outputs": [
    {
     "data": {
      "text/plain": [
       "'S'"
      ]
     },
     "execution_count": 14,
     "metadata": {},
     "output_type": "execute_result"
    }
   ],
   "source": [
    "titanic['Embarked'].mode()[0]"
   ]
  },
  {
   "cell_type": "code",
   "execution_count": 15,
   "id": "0ca834f2",
   "metadata": {},
   "outputs": [],
   "source": [
    "titanic[titanic['Embarked'].isnull()]['Embarked']=titanic['Embarked'].mode()[0]"
   ]
  },
  {
   "cell_type": "code",
   "execution_count": 16,
   "id": "4a06ce6a",
   "metadata": {},
   "outputs": [
    {
     "name": "stdout",
     "output_type": "stream",
     "text": [
      "<class 'pandas.core.frame.DataFrame'>\n",
      "RangeIndex: 891 entries, 0 to 890\n",
      "Data columns (total 12 columns):\n",
      " #   Column       Non-Null Count  Dtype  \n",
      "---  ------       --------------  -----  \n",
      " 0   PassengerId  891 non-null    int64  \n",
      " 1   Survived     891 non-null    int64  \n",
      " 2   Pclass       891 non-null    int64  \n",
      " 3   Name         891 non-null    object \n",
      " 4   Sex          891 non-null    object \n",
      " 5   SibSp        891 non-null    int64  \n",
      " 6   Parch        891 non-null    int64  \n",
      " 7   Ticket       891 non-null    object \n",
      " 8   Fare         891 non-null    float64\n",
      " 9   Cabin        204 non-null    object \n",
      " 10  Embarked     889 non-null    object \n",
      " 11  Age_median   891 non-null    float64\n",
      "dtypes: float64(2), int64(5), object(5)\n",
      "memory usage: 83.7+ KB\n"
     ]
    }
   ],
   "source": [
    "titanic.info()"
   ]
  },
  {
   "cell_type": "code",
   "execution_count": 17,
   "id": "d82e9165",
   "metadata": {},
   "outputs": [
    {
     "data": {
      "text/html": [
       "<div>\n",
       "<style scoped>\n",
       "    .dataframe tbody tr th:only-of-type {\n",
       "        vertical-align: middle;\n",
       "    }\n",
       "\n",
       "    .dataframe tbody tr th {\n",
       "        vertical-align: top;\n",
       "    }\n",
       "\n",
       "    .dataframe thead th {\n",
       "        text-align: right;\n",
       "    }\n",
       "</style>\n",
       "<table border=\"1\" class=\"dataframe\">\n",
       "  <thead>\n",
       "    <tr style=\"text-align: right;\">\n",
       "      <th></th>\n",
       "      <th>PassengerId</th>\n",
       "      <th>Survived</th>\n",
       "      <th>Pclass</th>\n",
       "      <th>Name</th>\n",
       "      <th>Sex</th>\n",
       "      <th>SibSp</th>\n",
       "      <th>Parch</th>\n",
       "      <th>Ticket</th>\n",
       "      <th>Fare</th>\n",
       "      <th>Cabin</th>\n",
       "      <th>Embarked</th>\n",
       "      <th>Age_median</th>\n",
       "    </tr>\n",
       "  </thead>\n",
       "  <tbody>\n",
       "    <tr>\n",
       "      <th>0</th>\n",
       "      <td>1</td>\n",
       "      <td>0</td>\n",
       "      <td>3</td>\n",
       "      <td>Braund, Mr. Owen Harris</td>\n",
       "      <td>male</td>\n",
       "      <td>1</td>\n",
       "      <td>0</td>\n",
       "      <td>A/5 21171</td>\n",
       "      <td>7.2500</td>\n",
       "      <td>NaN</td>\n",
       "      <td>S</td>\n",
       "      <td>22.0</td>\n",
       "    </tr>\n",
       "    <tr>\n",
       "      <th>1</th>\n",
       "      <td>2</td>\n",
       "      <td>1</td>\n",
       "      <td>1</td>\n",
       "      <td>Cumings, Mrs. John Bradley (Florence Briggs Th...</td>\n",
       "      <td>female</td>\n",
       "      <td>1</td>\n",
       "      <td>0</td>\n",
       "      <td>PC 17599</td>\n",
       "      <td>71.2833</td>\n",
       "      <td>C85</td>\n",
       "      <td>C</td>\n",
       "      <td>38.0</td>\n",
       "    </tr>\n",
       "    <tr>\n",
       "      <th>2</th>\n",
       "      <td>3</td>\n",
       "      <td>1</td>\n",
       "      <td>3</td>\n",
       "      <td>Heikkinen, Miss. Laina</td>\n",
       "      <td>female</td>\n",
       "      <td>0</td>\n",
       "      <td>0</td>\n",
       "      <td>STON/O2. 3101282</td>\n",
       "      <td>7.9250</td>\n",
       "      <td>NaN</td>\n",
       "      <td>S</td>\n",
       "      <td>26.0</td>\n",
       "    </tr>\n",
       "    <tr>\n",
       "      <th>3</th>\n",
       "      <td>4</td>\n",
       "      <td>1</td>\n",
       "      <td>1</td>\n",
       "      <td>Futrelle, Mrs. Jacques Heath (Lily May Peel)</td>\n",
       "      <td>female</td>\n",
       "      <td>1</td>\n",
       "      <td>0</td>\n",
       "      <td>113803</td>\n",
       "      <td>53.1000</td>\n",
       "      <td>C123</td>\n",
       "      <td>S</td>\n",
       "      <td>35.0</td>\n",
       "    </tr>\n",
       "    <tr>\n",
       "      <th>4</th>\n",
       "      <td>5</td>\n",
       "      <td>0</td>\n",
       "      <td>3</td>\n",
       "      <td>Allen, Mr. William Henry</td>\n",
       "      <td>male</td>\n",
       "      <td>0</td>\n",
       "      <td>0</td>\n",
       "      <td>373450</td>\n",
       "      <td>8.0500</td>\n",
       "      <td>NaN</td>\n",
       "      <td>S</td>\n",
       "      <td>35.0</td>\n",
       "    </tr>\n",
       "  </tbody>\n",
       "</table>\n",
       "</div>"
      ],
      "text/plain": [
       "   PassengerId  Survived  Pclass  \\\n",
       "0            1         0       3   \n",
       "1            2         1       1   \n",
       "2            3         1       3   \n",
       "3            4         1       1   \n",
       "4            5         0       3   \n",
       "\n",
       "                                                Name     Sex  SibSp  Parch  \\\n",
       "0                            Braund, Mr. Owen Harris    male      1      0   \n",
       "1  Cumings, Mrs. John Bradley (Florence Briggs Th...  female      1      0   \n",
       "2                             Heikkinen, Miss. Laina  female      0      0   \n",
       "3       Futrelle, Mrs. Jacques Heath (Lily May Peel)  female      1      0   \n",
       "4                           Allen, Mr. William Henry    male      0      0   \n",
       "\n",
       "             Ticket     Fare Cabin Embarked  Age_median  \n",
       "0         A/5 21171   7.2500   NaN        S        22.0  \n",
       "1          PC 17599  71.2833   C85        C        38.0  \n",
       "2  STON/O2. 3101282   7.9250   NaN        S        26.0  \n",
       "3            113803  53.1000  C123        S        35.0  \n",
       "4            373450   8.0500   NaN        S        35.0  "
      ]
     },
     "execution_count": 17,
     "metadata": {},
     "output_type": "execute_result"
    }
   ],
   "source": [
    "titanic.head()"
   ]
  },
  {
   "cell_type": "code",
   "execution_count": 31,
   "id": "ac68207c",
   "metadata": {},
   "outputs": [
    {
     "data": {
      "text/html": [
       "<div>\n",
       "<style scoped>\n",
       "    .dataframe tbody tr th:only-of-type {\n",
       "        vertical-align: middle;\n",
       "    }\n",
       "\n",
       "    .dataframe tbody tr th {\n",
       "        vertical-align: top;\n",
       "    }\n",
       "\n",
       "    .dataframe thead th {\n",
       "        text-align: right;\n",
       "    }\n",
       "</style>\n",
       "<table border=\"1\" class=\"dataframe\">\n",
       "  <thead>\n",
       "    <tr style=\"text-align: right;\">\n",
       "      <th></th>\n",
       "      <th>PassengerId</th>\n",
       "      <th>Survived</th>\n",
       "      <th>Pclass</th>\n",
       "      <th>Name</th>\n",
       "      <th>Sex</th>\n",
       "      <th>SibSp</th>\n",
       "      <th>Parch</th>\n",
       "      <th>Ticket</th>\n",
       "      <th>Fare</th>\n",
       "      <th>Cabin</th>\n",
       "      <th>Embarked</th>\n",
       "      <th>Fare1</th>\n",
       "      <th>Age_median</th>\n",
       "    </tr>\n",
       "  </thead>\n",
       "  <tbody>\n",
       "    <tr>\n",
       "      <th>0</th>\n",
       "      <td>1</td>\n",
       "      <td>0</td>\n",
       "      <td>3</td>\n",
       "      <td>Braund, Mr. Owen Harris</td>\n",
       "      <td>male</td>\n",
       "      <td>1</td>\n",
       "      <td>0</td>\n",
       "      <td>A/5 21171</td>\n",
       "      <td>7.2500</td>\n",
       "      <td>NaN</td>\n",
       "      <td>S</td>\n",
       "      <td>7.2500</td>\n",
       "      <td>22.0</td>\n",
       "    </tr>\n",
       "    <tr>\n",
       "      <th>2</th>\n",
       "      <td>3</td>\n",
       "      <td>1</td>\n",
       "      <td>3</td>\n",
       "      <td>Heikkinen, Miss. Laina</td>\n",
       "      <td>female</td>\n",
       "      <td>0</td>\n",
       "      <td>0</td>\n",
       "      <td>STON/O2. 3101282</td>\n",
       "      <td>7.9250</td>\n",
       "      <td>NaN</td>\n",
       "      <td>S</td>\n",
       "      <td>7.9250</td>\n",
       "      <td>26.0</td>\n",
       "    </tr>\n",
       "    <tr>\n",
       "      <th>4</th>\n",
       "      <td>5</td>\n",
       "      <td>0</td>\n",
       "      <td>3</td>\n",
       "      <td>Allen, Mr. William Henry</td>\n",
       "      <td>male</td>\n",
       "      <td>0</td>\n",
       "      <td>0</td>\n",
       "      <td>373450</td>\n",
       "      <td>8.0500</td>\n",
       "      <td>NaN</td>\n",
       "      <td>S</td>\n",
       "      <td>8.0500</td>\n",
       "      <td>35.0</td>\n",
       "    </tr>\n",
       "    <tr>\n",
       "      <th>5</th>\n",
       "      <td>6</td>\n",
       "      <td>0</td>\n",
       "      <td>3</td>\n",
       "      <td>Moran, Mr. James</td>\n",
       "      <td>male</td>\n",
       "      <td>0</td>\n",
       "      <td>0</td>\n",
       "      <td>330877</td>\n",
       "      <td>8.4583</td>\n",
       "      <td>NaN</td>\n",
       "      <td>Q</td>\n",
       "      <td>8.4583</td>\n",
       "      <td>28.0</td>\n",
       "    </tr>\n",
       "    <tr>\n",
       "      <th>7</th>\n",
       "      <td>8</td>\n",
       "      <td>0</td>\n",
       "      <td>3</td>\n",
       "      <td>Palsson, Master. Gosta Leonard</td>\n",
       "      <td>male</td>\n",
       "      <td>3</td>\n",
       "      <td>1</td>\n",
       "      <td>349909</td>\n",
       "      <td>21.0750</td>\n",
       "      <td>NaN</td>\n",
       "      <td>S</td>\n",
       "      <td>21.0750</td>\n",
       "      <td>2.0</td>\n",
       "    </tr>\n",
       "    <tr>\n",
       "      <th>...</th>\n",
       "      <td>...</td>\n",
       "      <td>...</td>\n",
       "      <td>...</td>\n",
       "      <td>...</td>\n",
       "      <td>...</td>\n",
       "      <td>...</td>\n",
       "      <td>...</td>\n",
       "      <td>...</td>\n",
       "      <td>...</td>\n",
       "      <td>...</td>\n",
       "      <td>...</td>\n",
       "      <td>...</td>\n",
       "      <td>...</td>\n",
       "    </tr>\n",
       "    <tr>\n",
       "      <th>884</th>\n",
       "      <td>885</td>\n",
       "      <td>0</td>\n",
       "      <td>3</td>\n",
       "      <td>Sutehall, Mr. Henry Jr</td>\n",
       "      <td>male</td>\n",
       "      <td>0</td>\n",
       "      <td>0</td>\n",
       "      <td>SOTON/OQ 392076</td>\n",
       "      <td>7.0500</td>\n",
       "      <td>NaN</td>\n",
       "      <td>S</td>\n",
       "      <td>7.0500</td>\n",
       "      <td>25.0</td>\n",
       "    </tr>\n",
       "    <tr>\n",
       "      <th>885</th>\n",
       "      <td>886</td>\n",
       "      <td>0</td>\n",
       "      <td>3</td>\n",
       "      <td>Rice, Mrs. William (Margaret Norton)</td>\n",
       "      <td>female</td>\n",
       "      <td>0</td>\n",
       "      <td>5</td>\n",
       "      <td>382652</td>\n",
       "      <td>29.1250</td>\n",
       "      <td>NaN</td>\n",
       "      <td>Q</td>\n",
       "      <td>29.1250</td>\n",
       "      <td>39.0</td>\n",
       "    </tr>\n",
       "    <tr>\n",
       "      <th>886</th>\n",
       "      <td>887</td>\n",
       "      <td>0</td>\n",
       "      <td>2</td>\n",
       "      <td>Montvila, Rev. Juozas</td>\n",
       "      <td>male</td>\n",
       "      <td>0</td>\n",
       "      <td>0</td>\n",
       "      <td>211536</td>\n",
       "      <td>13.0000</td>\n",
       "      <td>NaN</td>\n",
       "      <td>S</td>\n",
       "      <td>13.0000</td>\n",
       "      <td>27.0</td>\n",
       "    </tr>\n",
       "    <tr>\n",
       "      <th>888</th>\n",
       "      <td>889</td>\n",
       "      <td>0</td>\n",
       "      <td>3</td>\n",
       "      <td>Johnston, Miss. Catherine Helen \"Carrie\"</td>\n",
       "      <td>female</td>\n",
       "      <td>1</td>\n",
       "      <td>2</td>\n",
       "      <td>W./C. 6607</td>\n",
       "      <td>23.4500</td>\n",
       "      <td>NaN</td>\n",
       "      <td>S</td>\n",
       "      <td>23.4500</td>\n",
       "      <td>28.0</td>\n",
       "    </tr>\n",
       "    <tr>\n",
       "      <th>890</th>\n",
       "      <td>891</td>\n",
       "      <td>0</td>\n",
       "      <td>3</td>\n",
       "      <td>Dooley, Mr. Patrick</td>\n",
       "      <td>male</td>\n",
       "      <td>0</td>\n",
       "      <td>0</td>\n",
       "      <td>370376</td>\n",
       "      <td>7.7500</td>\n",
       "      <td>NaN</td>\n",
       "      <td>Q</td>\n",
       "      <td>7.7500</td>\n",
       "      <td>32.0</td>\n",
       "    </tr>\n",
       "  </tbody>\n",
       "</table>\n",
       "<p>687 rows × 13 columns</p>\n",
       "</div>"
      ],
      "text/plain": [
       "     PassengerId  Survived  Pclass                                      Name  \\\n",
       "0              1         0       3                   Braund, Mr. Owen Harris   \n",
       "2              3         1       3                    Heikkinen, Miss. Laina   \n",
       "4              5         0       3                  Allen, Mr. William Henry   \n",
       "5              6         0       3                          Moran, Mr. James   \n",
       "7              8         0       3            Palsson, Master. Gosta Leonard   \n",
       "..           ...       ...     ...                                       ...   \n",
       "884          885         0       3                    Sutehall, Mr. Henry Jr   \n",
       "885          886         0       3      Rice, Mrs. William (Margaret Norton)   \n",
       "886          887         0       2                     Montvila, Rev. Juozas   \n",
       "888          889         0       3  Johnston, Miss. Catherine Helen \"Carrie\"   \n",
       "890          891         0       3                       Dooley, Mr. Patrick   \n",
       "\n",
       "        Sex  SibSp  Parch            Ticket     Fare Cabin Embarked    Fare1  \\\n",
       "0      male      1      0         A/5 21171   7.2500   NaN        S   7.2500   \n",
       "2    female      0      0  STON/O2. 3101282   7.9250   NaN        S   7.9250   \n",
       "4      male      0      0            373450   8.0500   NaN        S   8.0500   \n",
       "5      male      0      0            330877   8.4583   NaN        Q   8.4583   \n",
       "7      male      3      1            349909  21.0750   NaN        S  21.0750   \n",
       "..      ...    ...    ...               ...      ...   ...      ...      ...   \n",
       "884    male      0      0   SOTON/OQ 392076   7.0500   NaN        S   7.0500   \n",
       "885  female      0      5            382652  29.1250   NaN        Q  29.1250   \n",
       "886    male      0      0            211536  13.0000   NaN        S  13.0000   \n",
       "888  female      1      2        W./C. 6607  23.4500   NaN        S  23.4500   \n",
       "890    male      0      0            370376   7.7500   NaN        Q   7.7500   \n",
       "\n",
       "     Age_median  \n",
       "0          22.0  \n",
       "2          26.0  \n",
       "4          35.0  \n",
       "5          28.0  \n",
       "7           2.0  \n",
       "..          ...  \n",
       "884        25.0  \n",
       "885        39.0  \n",
       "886        27.0  \n",
       "888        28.0  \n",
       "890        32.0  \n",
       "\n",
       "[687 rows x 13 columns]"
      ]
     },
     "execution_count": 31,
     "metadata": {},
     "output_type": "execute_result"
    }
   ],
   "source": [
    "titanic[titanic['Cabin'].isnull()]"
   ]
  },
  {
   "cell_type": "code",
   "execution_count": 18,
   "id": "26d55c4b",
   "metadata": {},
   "outputs": [
    {
     "data": {
      "text/plain": [
       "array([nan, 'C85', 'C123', 'E46', 'G6', 'C103', 'D56', 'A6',\n",
       "       'C23 C25 C27', 'B78', 'D33', 'B30', 'C52', 'B28', 'C83', 'F33',\n",
       "       'F G73', 'E31', 'A5', 'D10 D12', 'D26', 'C110', 'B58 B60', 'E101',\n",
       "       'F E69', 'D47', 'B86', 'F2', 'C2', 'E33', 'B19', 'A7', 'C49', 'F4',\n",
       "       'A32', 'B4', 'B80', 'A31', 'D36', 'D15', 'C93', 'C78', 'D35',\n",
       "       'C87', 'B77', 'E67', 'B94', 'C125', 'C99', 'C118', 'D7', 'A19',\n",
       "       'B49', 'D', 'C22 C26', 'C106', 'C65', 'E36', 'C54',\n",
       "       'B57 B59 B63 B66', 'C7', 'E34', 'C32', 'B18', 'C124', 'C91', 'E40',\n",
       "       'T', 'C128', 'D37', 'B35', 'E50', 'C82', 'B96 B98', 'E10', 'E44',\n",
       "       'A34', 'C104', 'C111', 'C92', 'E38', 'D21', 'E12', 'E63', 'A14',\n",
       "       'B37', 'C30', 'D20', 'B79', 'E25', 'D46', 'B73', 'C95', 'B38',\n",
       "       'B39', 'B22', 'C86', 'C70', 'A16', 'C101', 'C68', 'A10', 'E68',\n",
       "       'B41', 'A20', 'D19', 'D50', 'D9', 'A23', 'B50', 'A26', 'D48',\n",
       "       'E58', 'C126', 'B71', 'B51 B53 B55', 'D49', 'B5', 'B20', 'F G63',\n",
       "       'C62 C64', 'E24', 'C90', 'C45', 'E8', 'B101', 'D45', 'C46', 'D30',\n",
       "       'E121', 'D11', 'E77', 'F38', 'B3', 'D6', 'B82 B84', 'D17', 'A36',\n",
       "       'B102', 'B69', 'E49', 'C47', 'D28', 'E17', 'A24', 'C50', 'B42',\n",
       "       'C148'], dtype=object)"
      ]
     },
     "execution_count": 18,
     "metadata": {},
     "output_type": "execute_result"
    }
   ],
   "source": [
    "titanic['Cabin'].unique()"
   ]
  },
  {
   "cell_type": "code",
   "execution_count": 19,
   "id": "2a0b4716",
   "metadata": {},
   "outputs": [
    {
     "data": {
      "text/plain": [
       "'C'"
      ]
     },
     "execution_count": 19,
     "metadata": {},
     "output_type": "execute_result"
    }
   ],
   "source": [
    "titanic['Cabin'].iloc[1][0]"
   ]
  },
  {
   "cell_type": "code",
   "execution_count": 20,
   "id": "81c49589",
   "metadata": {},
   "outputs": [],
   "source": [
    "titanic['Cabin_new']=titanic['Cabin'].apply(lambda x:str(x)[0].upper() if x else None)"
   ]
  },
  {
   "cell_type": "code",
   "execution_count": 21,
   "id": "0b30adb2",
   "metadata": {},
   "outputs": [
    {
     "data": {
      "text/html": [
       "<div>\n",
       "<style scoped>\n",
       "    .dataframe tbody tr th:only-of-type {\n",
       "        vertical-align: middle;\n",
       "    }\n",
       "\n",
       "    .dataframe tbody tr th {\n",
       "        vertical-align: top;\n",
       "    }\n",
       "\n",
       "    .dataframe thead th {\n",
       "        text-align: right;\n",
       "    }\n",
       "</style>\n",
       "<table border=\"1\" class=\"dataframe\">\n",
       "  <thead>\n",
       "    <tr style=\"text-align: right;\">\n",
       "      <th></th>\n",
       "      <th>PassengerId</th>\n",
       "      <th>Survived</th>\n",
       "      <th>Pclass</th>\n",
       "      <th>Name</th>\n",
       "      <th>Sex</th>\n",
       "      <th>SibSp</th>\n",
       "      <th>Parch</th>\n",
       "      <th>Ticket</th>\n",
       "      <th>Fare</th>\n",
       "      <th>Cabin</th>\n",
       "      <th>Embarked</th>\n",
       "      <th>Age_median</th>\n",
       "      <th>Cabin_new</th>\n",
       "    </tr>\n",
       "  </thead>\n",
       "  <tbody>\n",
       "    <tr>\n",
       "      <th>0</th>\n",
       "      <td>1</td>\n",
       "      <td>0</td>\n",
       "      <td>3</td>\n",
       "      <td>Braund, Mr. Owen Harris</td>\n",
       "      <td>male</td>\n",
       "      <td>1</td>\n",
       "      <td>0</td>\n",
       "      <td>A/5 21171</td>\n",
       "      <td>7.2500</td>\n",
       "      <td>NaN</td>\n",
       "      <td>S</td>\n",
       "      <td>22.0</td>\n",
       "      <td>N</td>\n",
       "    </tr>\n",
       "    <tr>\n",
       "      <th>1</th>\n",
       "      <td>2</td>\n",
       "      <td>1</td>\n",
       "      <td>1</td>\n",
       "      <td>Cumings, Mrs. John Bradley (Florence Briggs Th...</td>\n",
       "      <td>female</td>\n",
       "      <td>1</td>\n",
       "      <td>0</td>\n",
       "      <td>PC 17599</td>\n",
       "      <td>71.2833</td>\n",
       "      <td>C85</td>\n",
       "      <td>C</td>\n",
       "      <td>38.0</td>\n",
       "      <td>C</td>\n",
       "    </tr>\n",
       "    <tr>\n",
       "      <th>2</th>\n",
       "      <td>3</td>\n",
       "      <td>1</td>\n",
       "      <td>3</td>\n",
       "      <td>Heikkinen, Miss. Laina</td>\n",
       "      <td>female</td>\n",
       "      <td>0</td>\n",
       "      <td>0</td>\n",
       "      <td>STON/O2. 3101282</td>\n",
       "      <td>7.9250</td>\n",
       "      <td>NaN</td>\n",
       "      <td>S</td>\n",
       "      <td>26.0</td>\n",
       "      <td>N</td>\n",
       "    </tr>\n",
       "    <tr>\n",
       "      <th>3</th>\n",
       "      <td>4</td>\n",
       "      <td>1</td>\n",
       "      <td>1</td>\n",
       "      <td>Futrelle, Mrs. Jacques Heath (Lily May Peel)</td>\n",
       "      <td>female</td>\n",
       "      <td>1</td>\n",
       "      <td>0</td>\n",
       "      <td>113803</td>\n",
       "      <td>53.1000</td>\n",
       "      <td>C123</td>\n",
       "      <td>S</td>\n",
       "      <td>35.0</td>\n",
       "      <td>C</td>\n",
       "    </tr>\n",
       "    <tr>\n",
       "      <th>4</th>\n",
       "      <td>5</td>\n",
       "      <td>0</td>\n",
       "      <td>3</td>\n",
       "      <td>Allen, Mr. William Henry</td>\n",
       "      <td>male</td>\n",
       "      <td>0</td>\n",
       "      <td>0</td>\n",
       "      <td>373450</td>\n",
       "      <td>8.0500</td>\n",
       "      <td>NaN</td>\n",
       "      <td>S</td>\n",
       "      <td>35.0</td>\n",
       "      <td>N</td>\n",
       "    </tr>\n",
       "  </tbody>\n",
       "</table>\n",
       "</div>"
      ],
      "text/plain": [
       "   PassengerId  Survived  Pclass  \\\n",
       "0            1         0       3   \n",
       "1            2         1       1   \n",
       "2            3         1       3   \n",
       "3            4         1       1   \n",
       "4            5         0       3   \n",
       "\n",
       "                                                Name     Sex  SibSp  Parch  \\\n",
       "0                            Braund, Mr. Owen Harris    male      1      0   \n",
       "1  Cumings, Mrs. John Bradley (Florence Briggs Th...  female      1      0   \n",
       "2                             Heikkinen, Miss. Laina  female      0      0   \n",
       "3       Futrelle, Mrs. Jacques Heath (Lily May Peel)  female      1      0   \n",
       "4                           Allen, Mr. William Henry    male      0      0   \n",
       "\n",
       "             Ticket     Fare Cabin Embarked  Age_median Cabin_new  \n",
       "0         A/5 21171   7.2500   NaN        S        22.0         N  \n",
       "1          PC 17599  71.2833   C85        C        38.0         C  \n",
       "2  STON/O2. 3101282   7.9250   NaN        S        26.0         N  \n",
       "3            113803  53.1000  C123        S        35.0         C  \n",
       "4            373450   8.0500   NaN        S        35.0         N  "
      ]
     },
     "execution_count": 21,
     "metadata": {},
     "output_type": "execute_result"
    }
   ],
   "source": [
    "titanic.head()"
   ]
  },
  {
   "cell_type": "code",
   "execution_count": 22,
   "id": "ec58dcbd",
   "metadata": {},
   "outputs": [
    {
     "data": {
      "text/plain": [
       "array(['N', 'C', 'E', 'G', 'D', 'A', 'B', 'F', 'T'], dtype=object)"
      ]
     },
     "execution_count": 22,
     "metadata": {},
     "output_type": "execute_result"
    }
   ],
   "source": [
    "titanic['Cabin_new'].unique()"
   ]
  },
  {
   "cell_type": "code",
   "execution_count": 23,
   "id": "2e7fe332",
   "metadata": {},
   "outputs": [
    {
     "data": {
      "text/html": [
       "<div>\n",
       "<style scoped>\n",
       "    .dataframe tbody tr th:only-of-type {\n",
       "        vertical-align: middle;\n",
       "    }\n",
       "\n",
       "    .dataframe tbody tr th {\n",
       "        vertical-align: top;\n",
       "    }\n",
       "\n",
       "    .dataframe thead th {\n",
       "        text-align: right;\n",
       "    }\n",
       "</style>\n",
       "<table border=\"1\" class=\"dataframe\">\n",
       "  <thead>\n",
       "    <tr style=\"text-align: right;\">\n",
       "      <th></th>\n",
       "      <th>PassengerId</th>\n",
       "      <th>Survived</th>\n",
       "      <th>Pclass</th>\n",
       "      <th>Name</th>\n",
       "      <th>Sex</th>\n",
       "      <th>SibSp</th>\n",
       "      <th>Parch</th>\n",
       "      <th>Ticket</th>\n",
       "      <th>Fare</th>\n",
       "      <th>Cabin</th>\n",
       "      <th>Embarked</th>\n",
       "      <th>Age_median</th>\n",
       "      <th>Cabin_new</th>\n",
       "    </tr>\n",
       "  </thead>\n",
       "  <tbody>\n",
       "    <tr>\n",
       "      <th>0</th>\n",
       "      <td>1</td>\n",
       "      <td>0</td>\n",
       "      <td>3</td>\n",
       "      <td>Braund, Mr. Owen Harris</td>\n",
       "      <td>male</td>\n",
       "      <td>1</td>\n",
       "      <td>0</td>\n",
       "      <td>A/5 21171</td>\n",
       "      <td>7.2500</td>\n",
       "      <td>NaN</td>\n",
       "      <td>S</td>\n",
       "      <td>22.0</td>\n",
       "      <td>N</td>\n",
       "    </tr>\n",
       "    <tr>\n",
       "      <th>2</th>\n",
       "      <td>3</td>\n",
       "      <td>1</td>\n",
       "      <td>3</td>\n",
       "      <td>Heikkinen, Miss. Laina</td>\n",
       "      <td>female</td>\n",
       "      <td>0</td>\n",
       "      <td>0</td>\n",
       "      <td>STON/O2. 3101282</td>\n",
       "      <td>7.9250</td>\n",
       "      <td>NaN</td>\n",
       "      <td>S</td>\n",
       "      <td>26.0</td>\n",
       "      <td>N</td>\n",
       "    </tr>\n",
       "    <tr>\n",
       "      <th>4</th>\n",
       "      <td>5</td>\n",
       "      <td>0</td>\n",
       "      <td>3</td>\n",
       "      <td>Allen, Mr. William Henry</td>\n",
       "      <td>male</td>\n",
       "      <td>0</td>\n",
       "      <td>0</td>\n",
       "      <td>373450</td>\n",
       "      <td>8.0500</td>\n",
       "      <td>NaN</td>\n",
       "      <td>S</td>\n",
       "      <td>35.0</td>\n",
       "      <td>N</td>\n",
       "    </tr>\n",
       "    <tr>\n",
       "      <th>5</th>\n",
       "      <td>6</td>\n",
       "      <td>0</td>\n",
       "      <td>3</td>\n",
       "      <td>Moran, Mr. James</td>\n",
       "      <td>male</td>\n",
       "      <td>0</td>\n",
       "      <td>0</td>\n",
       "      <td>330877</td>\n",
       "      <td>8.4583</td>\n",
       "      <td>NaN</td>\n",
       "      <td>Q</td>\n",
       "      <td>28.0</td>\n",
       "      <td>N</td>\n",
       "    </tr>\n",
       "    <tr>\n",
       "      <th>7</th>\n",
       "      <td>8</td>\n",
       "      <td>0</td>\n",
       "      <td>3</td>\n",
       "      <td>Palsson, Master. Gosta Leonard</td>\n",
       "      <td>male</td>\n",
       "      <td>3</td>\n",
       "      <td>1</td>\n",
       "      <td>349909</td>\n",
       "      <td>21.0750</td>\n",
       "      <td>NaN</td>\n",
       "      <td>S</td>\n",
       "      <td>2.0</td>\n",
       "      <td>N</td>\n",
       "    </tr>\n",
       "    <tr>\n",
       "      <th>...</th>\n",
       "      <td>...</td>\n",
       "      <td>...</td>\n",
       "      <td>...</td>\n",
       "      <td>...</td>\n",
       "      <td>...</td>\n",
       "      <td>...</td>\n",
       "      <td>...</td>\n",
       "      <td>...</td>\n",
       "      <td>...</td>\n",
       "      <td>...</td>\n",
       "      <td>...</td>\n",
       "      <td>...</td>\n",
       "      <td>...</td>\n",
       "    </tr>\n",
       "    <tr>\n",
       "      <th>884</th>\n",
       "      <td>885</td>\n",
       "      <td>0</td>\n",
       "      <td>3</td>\n",
       "      <td>Sutehall, Mr. Henry Jr</td>\n",
       "      <td>male</td>\n",
       "      <td>0</td>\n",
       "      <td>0</td>\n",
       "      <td>SOTON/OQ 392076</td>\n",
       "      <td>7.0500</td>\n",
       "      <td>NaN</td>\n",
       "      <td>S</td>\n",
       "      <td>25.0</td>\n",
       "      <td>N</td>\n",
       "    </tr>\n",
       "    <tr>\n",
       "      <th>885</th>\n",
       "      <td>886</td>\n",
       "      <td>0</td>\n",
       "      <td>3</td>\n",
       "      <td>Rice, Mrs. William (Margaret Norton)</td>\n",
       "      <td>female</td>\n",
       "      <td>0</td>\n",
       "      <td>5</td>\n",
       "      <td>382652</td>\n",
       "      <td>29.1250</td>\n",
       "      <td>NaN</td>\n",
       "      <td>Q</td>\n",
       "      <td>39.0</td>\n",
       "      <td>N</td>\n",
       "    </tr>\n",
       "    <tr>\n",
       "      <th>886</th>\n",
       "      <td>887</td>\n",
       "      <td>0</td>\n",
       "      <td>2</td>\n",
       "      <td>Montvila, Rev. Juozas</td>\n",
       "      <td>male</td>\n",
       "      <td>0</td>\n",
       "      <td>0</td>\n",
       "      <td>211536</td>\n",
       "      <td>13.0000</td>\n",
       "      <td>NaN</td>\n",
       "      <td>S</td>\n",
       "      <td>27.0</td>\n",
       "      <td>N</td>\n",
       "    </tr>\n",
       "    <tr>\n",
       "      <th>888</th>\n",
       "      <td>889</td>\n",
       "      <td>0</td>\n",
       "      <td>3</td>\n",
       "      <td>Johnston, Miss. Catherine Helen \"Carrie\"</td>\n",
       "      <td>female</td>\n",
       "      <td>1</td>\n",
       "      <td>2</td>\n",
       "      <td>W./C. 6607</td>\n",
       "      <td>23.4500</td>\n",
       "      <td>NaN</td>\n",
       "      <td>S</td>\n",
       "      <td>28.0</td>\n",
       "      <td>N</td>\n",
       "    </tr>\n",
       "    <tr>\n",
       "      <th>890</th>\n",
       "      <td>891</td>\n",
       "      <td>0</td>\n",
       "      <td>3</td>\n",
       "      <td>Dooley, Mr. Patrick</td>\n",
       "      <td>male</td>\n",
       "      <td>0</td>\n",
       "      <td>0</td>\n",
       "      <td>370376</td>\n",
       "      <td>7.7500</td>\n",
       "      <td>NaN</td>\n",
       "      <td>Q</td>\n",
       "      <td>32.0</td>\n",
       "      <td>N</td>\n",
       "    </tr>\n",
       "  </tbody>\n",
       "</table>\n",
       "<p>687 rows × 13 columns</p>\n",
       "</div>"
      ],
      "text/plain": [
       "     PassengerId  Survived  Pclass                                      Name  \\\n",
       "0              1         0       3                   Braund, Mr. Owen Harris   \n",
       "2              3         1       3                    Heikkinen, Miss. Laina   \n",
       "4              5         0       3                  Allen, Mr. William Henry   \n",
       "5              6         0       3                          Moran, Mr. James   \n",
       "7              8         0       3            Palsson, Master. Gosta Leonard   \n",
       "..           ...       ...     ...                                       ...   \n",
       "884          885         0       3                    Sutehall, Mr. Henry Jr   \n",
       "885          886         0       3      Rice, Mrs. William (Margaret Norton)   \n",
       "886          887         0       2                     Montvila, Rev. Juozas   \n",
       "888          889         0       3  Johnston, Miss. Catherine Helen \"Carrie\"   \n",
       "890          891         0       3                       Dooley, Mr. Patrick   \n",
       "\n",
       "        Sex  SibSp  Parch            Ticket     Fare Cabin Embarked  \\\n",
       "0      male      1      0         A/5 21171   7.2500   NaN        S   \n",
       "2    female      0      0  STON/O2. 3101282   7.9250   NaN        S   \n",
       "4      male      0      0            373450   8.0500   NaN        S   \n",
       "5      male      0      0            330877   8.4583   NaN        Q   \n",
       "7      male      3      1            349909  21.0750   NaN        S   \n",
       "..      ...    ...    ...               ...      ...   ...      ...   \n",
       "884    male      0      0   SOTON/OQ 392076   7.0500   NaN        S   \n",
       "885  female      0      5            382652  29.1250   NaN        Q   \n",
       "886    male      0      0            211536  13.0000   NaN        S   \n",
       "888  female      1      2        W./C. 6607  23.4500   NaN        S   \n",
       "890    male      0      0            370376   7.7500   NaN        Q   \n",
       "\n",
       "     Age_median Cabin_new  \n",
       "0          22.0         N  \n",
       "2          26.0         N  \n",
       "4          35.0         N  \n",
       "5          28.0         N  \n",
       "7           2.0         N  \n",
       "..          ...       ...  \n",
       "884        25.0         N  \n",
       "885        39.0         N  \n",
       "886        27.0         N  \n",
       "888        28.0         N  \n",
       "890        32.0         N  \n",
       "\n",
       "[687 rows x 13 columns]"
      ]
     },
     "execution_count": 23,
     "metadata": {},
     "output_type": "execute_result"
    }
   ],
   "source": [
    "titanic[titanic['Cabin_new']=='N']"
   ]
  },
  {
   "cell_type": "code",
   "execution_count": 25,
   "id": "1441aafe",
   "metadata": {},
   "outputs": [],
   "source": [
    "titanic['Cabin_new']=titanic['Cabin_new'].replace('N','missing')"
   ]
  },
  {
   "cell_type": "code",
   "execution_count": 26,
   "id": "06417b07",
   "metadata": {},
   "outputs": [
    {
     "data": {
      "text/plain": [
       "array(['missing', 'C', 'E', 'G', 'D', 'A', 'B', 'F', 'T'], dtype=object)"
      ]
     },
     "execution_count": 26,
     "metadata": {},
     "output_type": "execute_result"
    }
   ],
   "source": [
    "titanic['Cabin_new'].unique()"
   ]
  },
  {
   "cell_type": "code",
   "execution_count": 27,
   "id": "523a9c38",
   "metadata": {},
   "outputs": [
    {
     "data": {
      "text/plain": [
       "<AxesSubplot:xlabel='Cabin_new', ylabel='count'>"
      ]
     },
     "execution_count": 27,
     "metadata": {},
     "output_type": "execute_result"
    },
    {
     "data": {
      "image/png": "[encoded data removed]",
      "text/plain": [
       "<Figure size 432x288 with 1 Axes>"
      ]
     },
     "metadata": {
      "needs_background": "light"
     },
     "output_type": "display_data"
    }
   ],
   "source": [
    "\n",
    "sns.countplot(x='Cabin_new', data=titanic)"
   ]
  },
  {
   "cell_type": "code",
   "execution_count": 28,
   "id": "11982413",
   "metadata": {},
   "outputs": [
    {
     "data": {
      "text/plain": [
       "<AxesSubplot:xlabel='Cabin_new', ylabel='Survived'>"
      ]
     },
     "execution_count": 28,
     "metadata": {},
     "output_type": "execute_result"
    },
    {
     "data": {
      "image/png": "[encoded data removed]",
      "text/plain": [
       "<Figure size 432x288 with 1 Axes>"
      ]
     },
     "metadata": {
      "needs_background": "light"
     },
     "output_type": "display_data"
    }
   ],
   "source": [
    "sns.barplot(y='Survived',x='Cabin_new',data=titanic)"
   ]
  },
  {
   "cell_type": "code",
   "execution_count": 29,
   "id": "cae6b559",
   "metadata": {},
   "outputs": [],
   "source": [
    "titanic.drop(['Fare','Cabin','PassengerId','Name'], axis=1, inplace=True)\n"
   ]
  },
  {
   "cell_type": "code",
   "execution_count": 30,
   "id": "6c9f3523",
   "metadata": {},
   "outputs": [],
   "source": [
    "titanic.drop(['Ticket'],axis=1,inplace=True)"
   ]
  },
  {
   "cell_type": "code",
   "execution_count": 31,
   "id": "4c49bb8e",
   "metadata": {},
   "outputs": [
    {
     "name": "stdout",
     "output_type": "stream",
     "text": [
      "<class 'pandas.core.frame.DataFrame'>\n",
      "RangeIndex: 891 entries, 0 to 890\n",
      "Data columns (total 8 columns):\n",
      " #   Column      Non-Null Count  Dtype  \n",
      "---  ------      --------------  -----  \n",
      " 0   Survived    891 non-null    int64  \n",
      " 1   Pclass      891 non-null    int64  \n",
      " 2   Sex         891 non-null    object \n",
      " 3   SibSp       891 non-null    int64  \n",
      " 4   Parch       891 non-null    int64  \n",
      " 5   Embarked    889 non-null    object \n",
      " 6   Age_median  891 non-null    float64\n",
      " 7   Cabin_new   891 non-null    object \n",
      "dtypes: float64(1), int64(4), object(3)\n",
      "memory usage: 55.8+ KB\n"
     ]
    }
   ],
   "source": [
    "titanic.info()"
   ]
  },
  {
   "cell_type": "code",
   "execution_count": 32,
   "id": "4eaf9ad8",
   "metadata": {},
   "outputs": [],
   "source": [
    "#categorical\n",
    "titanic=pd.get_dummies(titanic,columns=['Sex','Embarked','Cabin_new'])"
   ]
  },
  {
   "cell_type": "code",
   "execution_count": 33,
   "id": "62930afd",
   "metadata": {},
   "outputs": [
    {
     "data": {
      "text/html": [
       "<div>\n",
       "<style scoped>\n",
       "    .dataframe tbody tr th:only-of-type {\n",
       "        vertical-align: middle;\n",
       "    }\n",
       "\n",
       "    .dataframe tbody tr th {\n",
       "        vertical-align: top;\n",
       "    }\n",
       "\n",
       "    .dataframe thead th {\n",
       "        text-align: right;\n",
       "    }\n",
       "</style>\n",
       "<table border=\"1\" class=\"dataframe\">\n",
       "  <thead>\n",
       "    <tr style=\"text-align: right;\">\n",
       "      <th></th>\n",
       "      <th>Survived</th>\n",
       "      <th>Pclass</th>\n",
       "      <th>SibSp</th>\n",
       "      <th>Parch</th>\n",
       "      <th>Age_median</th>\n",
       "      <th>Sex_female</th>\n",
       "      <th>Sex_male</th>\n",
       "      <th>Embarked_C</th>\n",
       "      <th>Embarked_Q</th>\n",
       "      <th>Embarked_S</th>\n",
       "      <th>Cabin_new_A</th>\n",
       "      <th>Cabin_new_B</th>\n",
       "      <th>Cabin_new_C</th>\n",
       "      <th>Cabin_new_D</th>\n",
       "      <th>Cabin_new_E</th>\n",
       "      <th>Cabin_new_F</th>\n",
       "      <th>Cabin_new_G</th>\n",
       "      <th>Cabin_new_T</th>\n",
       "      <th>Cabin_new_missing</th>\n",
       "    </tr>\n",
       "  </thead>\n",
       "  <tbody>\n",
       "    <tr>\n",
       "      <th>0</th>\n",
       "      <td>0</td>\n",
       "      <td>3</td>\n",
       "      <td>1</td>\n",
       "      <td>0</td>\n",
       "      <td>22.0</td>\n",
       "      <td>0</td>\n",
       "      <td>1</td>\n",
       "      <td>0</td>\n",
       "      <td>0</td>\n",
       "      <td>1</td>\n",
       "      <td>0</td>\n",
       "      <td>0</td>\n",
       "      <td>0</td>\n",
       "      <td>0</td>\n",
       "      <td>0</td>\n",
       "      <td>0</td>\n",
       "      <td>0</td>\n",
       "      <td>0</td>\n",
       "      <td>1</td>\n",
       "    </tr>\n",
       "    <tr>\n",
       "      <th>1</th>\n",
       "      <td>1</td>\n",
       "      <td>1</td>\n",
       "      <td>1</td>\n",
       "      <td>0</td>\n",
       "      <td>38.0</td>\n",
       "      <td>1</td>\n",
       "      <td>0</td>\n",
       "      <td>1</td>\n",
       "      <td>0</td>\n",
       "      <td>0</td>\n",
       "      <td>0</td>\n",
       "      <td>0</td>\n",
       "      <td>1</td>\n",
       "      <td>0</td>\n",
       "      <td>0</td>\n",
       "      <td>0</td>\n",
       "      <td>0</td>\n",
       "      <td>0</td>\n",
       "      <td>0</td>\n",
       "    </tr>\n",
       "    <tr>\n",
       "      <th>2</th>\n",
       "      <td>1</td>\n",
       "      <td>3</td>\n",
       "      <td>0</td>\n",
       "      <td>0</td>\n",
       "      <td>26.0</td>\n",
       "      <td>1</td>\n",
       "      <td>0</td>\n",
       "      <td>0</td>\n",
       "      <td>0</td>\n",
       "      <td>1</td>\n",
       "      <td>0</td>\n",
       "      <td>0</td>\n",
       "      <td>0</td>\n",
       "      <td>0</td>\n",
       "      <td>0</td>\n",
       "      <td>0</td>\n",
       "      <td>0</td>\n",
       "      <td>0</td>\n",
       "      <td>1</td>\n",
       "    </tr>\n",
       "    <tr>\n",
       "      <th>3</th>\n",
       "      <td>1</td>\n",
       "      <td>1</td>\n",
       "      <td>1</td>\n",
       "      <td>0</td>\n",
       "      <td>35.0</td>\n",
       "      <td>1</td>\n",
       "      <td>0</td>\n",
       "      <td>0</td>\n",
       "      <td>0</td>\n",
       "      <td>1</td>\n",
       "      <td>0</td>\n",
       "      <td>0</td>\n",
       "      <td>1</td>\n",
       "      <td>0</td>\n",
       "      <td>0</td>\n",
       "      <td>0</td>\n",
       "      <td>0</td>\n",
       "      <td>0</td>\n",
       "      <td>0</td>\n",
       "    </tr>\n",
       "    <tr>\n",
       "      <th>4</th>\n",
       "      <td>0</td>\n",
       "      <td>3</td>\n",
       "      <td>0</td>\n",
       "      <td>0</td>\n",
       "      <td>35.0</td>\n",
       "      <td>0</td>\n",
       "      <td>1</td>\n",
       "      <td>0</td>\n",
       "      <td>0</td>\n",
       "      <td>1</td>\n",
       "      <td>0</td>\n",
       "      <td>0</td>\n",
       "      <td>0</td>\n",
       "      <td>0</td>\n",
       "      <td>0</td>\n",
       "      <td>0</td>\n",
       "      <td>0</td>\n",
       "      <td>0</td>\n",
       "      <td>1</td>\n",
       "    </tr>\n",
       "  </tbody>\n",
       "</table>\n",
       "</div>"
      ],
      "text/plain": [
       "   Survived  Pclass  SibSp  Parch  Age_median  Sex_female  Sex_male  \\\n",
       "0         0       3      1      0        22.0           0         1   \n",
       "1         1       1      1      0        38.0           1         0   \n",
       "2         1       3      0      0        26.0           1         0   \n",
       "3         1       1      1      0        35.0           1         0   \n",
       "4         0       3      0      0        35.0           0         1   \n",
       "\n",
       "   Embarked_C  Embarked_Q  Embarked_S  Cabin_new_A  Cabin_new_B  Cabin_new_C  \\\n",
       "0           0           0           1            0            0            0   \n",
       "1           1           0           0            0            0            1   \n",
       "2           0           0           1            0            0            0   \n",
       "3           0           0           1            0            0            1   \n",
       "4           0           0           1            0            0            0   \n",
       "\n",
       "   Cabin_new_D  Cabin_new_E  Cabin_new_F  Cabin_new_G  Cabin_new_T  \\\n",
       "0            0            0            0            0            0   \n",
       "1            0            0            0            0            0   \n",
       "2            0            0            0            0            0   \n",
       "3            0            0            0            0            0   \n",
       "4            0            0            0            0            0   \n",
       "\n",
       "   Cabin_new_missing  \n",
       "0                  1  \n",
       "1                  0  \n",
       "2                  1  \n",
       "3                  0  \n",
       "4                  1  "
      ]
     },
     "execution_count": 33,
     "metadata": {},
     "output_type": "execute_result"
    }
   ],
   "source": [
    "titanic.head()"
   ]
  },
  {
   "cell_type": "code",
   "execution_count": 34,
   "id": "c4b181a1",
   "metadata": {},
   "outputs": [],
   "source": [
    "X = titanic.drop('Survived',axis=1)\n",
    "y=titanic['Survived']"
   ]
  },
  {
   "cell_type": "code",
   "execution_count": 35,
   "id": "41534d58",
   "metadata": {},
   "outputs": [],
   "source": [
    "X_train,X_test,y_train,y_test=train_test_split(X,y,test_size=1/3,random_state=32)"
   ]
  },
  {
   "cell_type": "code",
   "execution_count": 36,
   "id": "f3e73062",
   "metadata": {},
   "outputs": [
    {
     "data": {
      "text/plain": [
       "array([[ 0.82737724,  0.43279337, -0.47367361, ..., -0.06715343,\n",
       "        -0.03352008,  0.54492498],\n",
       "       [-1.56610693,  0.43279337, -0.47367361, ..., -0.06715343,\n",
       "        -0.03352008, -1.835115  ],\n",
       "       [ 0.82737724, -0.4745452 , -0.47367361, ..., -0.06715343,\n",
       "        -0.03352008,  0.54492498],\n",
       "       ...,\n",
       "       [ 0.82737724,  0.43279337,  2.00893337, ..., -0.06715343,\n",
       "        -0.03352008,  0.54492498],\n",
       "       [-1.56610693, -0.4745452 , -0.47367361, ..., -0.06715343,\n",
       "        -0.03352008, -1.835115  ],\n",
       "       [ 0.82737724, -0.4745452 , -0.47367361, ..., -0.06715343,\n",
       "        -0.03352008,  0.54492498]])"
      ]
     },
     "execution_count": 36,
     "metadata": {},
     "output_type": "execute_result"
    }
   ],
   "source": [
    "#Feature scaling\n",
    "#Scaling the independent variables\n",
    "\n",
    "#standard_Scaler=StandardScaler()\n",
    "scaler = StandardScaler()\n",
    "scaled_features = scaler.fit_transform(X)\n",
    "scaled_features"
   ]
  },
  {
   "cell_type": "code",
   "execution_count": 37,
   "id": "2ebb144c",
   "metadata": {},
   "outputs": [],
   "source": [
    "X_train,X_test,y_train,y_test=train_test_split(X,y,test_size=1/3,random_state=32)"
   ]
  },
  {
   "cell_type": "code",
   "execution_count": 41,
   "id": "bd6d6955",
   "metadata": {},
   "outputs": [
    {
     "data": {
      "text/plain": [
       "(594, 18)"
      ]
     },
     "execution_count": 41,
     "metadata": {},
     "output_type": "execute_result"
    }
   ],
   "source": [
    "X_train.shape"
   ]
  },
  {
   "cell_type": "code",
   "execution_count": 42,
   "id": "e779f6c9",
   "metadata": {},
   "outputs": [
    {
     "data": {
      "text/plain": [
       "(297, 18)"
      ]
     },
     "execution_count": 42,
     "metadata": {},
     "output_type": "execute_result"
    }
   ],
   "source": [
    "X_test.shape"
   ]
  },
  {
   "cell_type": "code",
   "execution_count": 43,
   "id": "ddbea65a",
   "metadata": {},
   "outputs": [
    {
     "data": {
      "text/plain": [
       "(297,)"
      ]
     },
     "execution_count": 43,
     "metadata": {},
     "output_type": "execute_result"
    }
   ],
   "source": [
    "y_test.shape\n"
   ]
  },
  {
   "cell_type": "code",
   "execution_count": 44,
   "id": "f4bd21c9",
   "metadata": {},
   "outputs": [
    {
     "data": {
      "text/plain": [
       "LogisticRegression(random_state=0)"
      ]
     },
     "execution_count": 44,
     "metadata": {},
     "output_type": "execute_result"
    }
   ],
   "source": [
    "log_reg=LogisticRegression(random_state=0)\n",
    "log_reg.fit(X_train,y_train)"
   ]
  },
  {
   "cell_type": "code",
   "execution_count": 142,
   "id": "172fc7ac",
   "metadata": {},
   "outputs": [
    {
     "data": {
      "text/plain": [
       "array([0, 1, 1, 0, 0, 1, 0, 0, 0, 0, 0, 1, 0, 0, 1, 0, 0, 0, 1, 0, 0, 1,\n",
       "       1, 0, 0, 0, 0, 0, 1, 1, 0, 1, 1, 1, 1, 0, 1, 0, 0, 1, 1, 1, 1, 0,\n",
       "       0, 0, 0, 1, 0, 0, 1, 1, 0, 0, 1, 0, 0, 0, 0, 0, 0, 0, 0, 0, 0, 0,\n",
       "       0, 0, 1, 0, 0, 0, 1, 0, 0, 0, 1, 0, 0, 0, 1, 0, 0, 0, 1, 0, 0, 0,\n",
       "       0, 0, 1, 0, 0, 0, 1, 1, 0, 1, 1, 1, 0, 0, 1, 0, 1, 1, 1, 0, 0, 0,\n",
       "       0, 0, 0, 0, 0, 0, 1, 1, 1, 1, 1, 0, 1, 0, 1, 0, 1, 0, 1, 0, 0, 0,\n",
       "       0, 0, 0, 0, 0, 1, 0, 0, 0, 1, 1, 1, 1, 0, 0, 1, 0, 1, 1, 0, 1, 0,\n",
       "       1, 0, 0, 1, 1, 0, 0, 1, 0, 1, 1, 1, 0, 0, 0, 0, 0, 1, 0, 1, 0, 1,\n",
       "       0, 0, 1, 1, 1, 0, 0, 1, 0, 1, 1, 0, 0, 0, 0, 0, 0, 1, 0, 0, 1, 0,\n",
       "       0, 0, 0, 0, 0, 0, 0, 0, 1, 0, 0, 0, 1, 1, 0, 1, 1, 0, 0, 1, 0, 1,\n",
       "       1, 0, 1, 0, 1, 0, 0, 1, 0, 0, 0, 0, 0, 1, 0, 0, 0, 0, 1, 1, 1, 0,\n",
       "       1, 0, 1, 0, 0, 0, 0, 0, 1, 0, 1, 1, 1, 1, 0, 1, 1, 0, 0, 0, 0, 0,\n",
       "       0, 1, 0, 0, 1, 1, 0, 1, 0, 1, 0, 1, 1, 0, 1, 0, 1, 0, 1, 0, 0, 0,\n",
       "       1, 0, 1, 0, 0, 0, 1, 1, 0, 1, 0], dtype=int64)"
      ]
     },
     "execution_count": 142,
     "metadata": {},
     "output_type": "execute_result"
    }
   ],
   "source": [
    "y_pred=log_reg.predict(X_test)\n",
    "y_pred"
   ]
  },
  {
   "cell_type": "code",
   "execution_count": 143,
   "id": "f5504cbd",
   "metadata": {},
   "outputs": [
    {
     "data": {
      "text/plain": [
       "837    0\n",
       "334    1\n",
       "849    1\n",
       "778    0\n",
       "413    0\n",
       "      ..\n",
       "299    1\n",
       "801    1\n",
       "392    0\n",
       "22     1\n",
       "137    0\n",
       "Name: Survived, Length: 297, dtype: int64"
      ]
     },
     "execution_count": 143,
     "metadata": {},
     "output_type": "execute_result"
    }
   ],
   "source": [
    "y_test"
   ]
  },
  {
   "cell_type": "code",
   "execution_count": 144,
   "id": "1dc1528d",
   "metadata": {},
   "outputs": [
    {
     "data": {
      "text/plain": [
       "Survived\n",
       " 0          236\n",
       " 1           36\n",
       "-1           25\n",
       "dtype: int64"
      ]
     },
     "execution_count": 144,
     "metadata": {},
     "output_type": "execute_result"
    }
   ],
   "source": [
    "difference = pd.DataFrame(y_test - y_pred)\n",
    "difference.value_counts()"
   ]
  },
  {
   "cell_type": "code",
   "execution_count": 145,
   "id": "832114db",
   "metadata": {},
   "outputs": [
    {
     "data": {
      "text/plain": [
       "array([[148,  25],\n",
       "       [ 36,  88]], dtype=int64)"
      ]
     },
     "execution_count": 145,
     "metadata": {},
     "output_type": "execute_result"
    }
   ],
   "source": [
    "from sklearn.metrics import confusion_matrix\n",
    "conf_matrix = confusion_matrix(y_test,y_pred)\n",
    "conf_matrix "
   ]
  },
  {
   "cell_type": "code",
   "execution_count": 146,
   "id": "3085eb6b",
   "metadata": {},
   "outputs": [
    {
     "data": {
      "text/plain": [
       "<AxesSubplot:>"
      ]
     },
     "execution_count": 146,
     "metadata": {},
     "output_type": "execute_result"
    },
    {
     "data": {
      "image/png": "[encoded data removed]",
      "text/plain": [
       "<Figure size 432x288 with 2 Axes>"
      ]
     },
     "metadata": {
      "needs_background": "light"
     },
     "output_type": "display_data"
    }
   ],
   "source": [
    "sns.heatmap(conf_matrix, annot = True)"
   ]
  },
  {
   "cell_type": "code",
   "execution_count": 59,
   "id": "dfecaaab",
   "metadata": {},
   "outputs": [],
   "source": [
    "#TP=89, 89 people actually survived which is predicted correct by the model, \n",
    "#TN=149 people didnt survive which is also predicted corrrectly by the model.\n",
    "#FN=35 actally survived but they were predicted wrong by the model.\n",
    "#FP=24 actually didnt survive but were predicted wrong by the model."
   ]
  },
  {
   "cell_type": "code",
   "execution_count": 60,
   "id": "57281ed1",
   "metadata": {},
   "outputs": [],
   "source": [
    "###Matching the calclations ###\n",
    "#Accuracy=(TP + TN )/ Total=(89+149)/297=80%\n",
    "#Precision=(TP / Total predicted positive)=89/113=78.7%\n",
    "#Recall=(TP / Total actual positves)=89/124=71.7"
   ]
  },
  {
   "cell_type": "code",
   "execution_count": 148,
   "id": "19fccc01",
   "metadata": {},
   "outputs": [
    {
     "name": "stdout",
     "output_type": "stream",
     "text": [
      "              precision    recall  f1-score   support\n",
      "\n",
      "           0       0.80      0.86      0.83       173\n",
      "           1       0.78      0.71      0.74       124\n",
      "\n",
      "    accuracy                           0.79       297\n",
      "   macro avg       0.79      0.78      0.79       297\n",
      "weighted avg       0.79      0.79      0.79       297\n",
      "\n"
     ]
    }
   ],
   "source": [
    "from sklearn.metrics import classification_report\n",
    "print(classification_report(y_test,y_pred))"
   ]
  },
  {
   "cell_type": "code",
   "execution_count": 149,
   "id": "0a45f73c",
   "metadata": {},
   "outputs": [
    {
     "name": "stdout",
     "output_type": "stream",
     "text": [
      "[[0.89771805 0.10228195]\n",
      " [0.11474217 0.88525783]\n",
      " [0.07903213 0.92096787]\n",
      " [0.86627575 0.13372425]\n",
      " [0.83268404 0.16731596]\n",
      " [0.08576777 0.91423223]\n",
      " [0.81289209 0.18710791]\n",
      " [0.83465976 0.16534024]\n",
      " [0.9165257  0.0834743 ]\n",
      " [0.7711245  0.2288755 ]\n",
      " [0.83808633 0.16191367]\n",
      " [0.09125901 0.90874099]\n",
      " [0.82478143 0.17521857]\n",
      " [0.52106019 0.47893981]\n",
      " [0.09401792 0.90598208]\n",
      " [0.67891794 0.32108206]\n",
      " [0.90786973 0.09213027]\n",
      " [0.85511784 0.14488216]\n",
      " [0.34224032 0.65775968]\n",
      " [0.53086571 0.46913429]\n",
      " [0.59181073 0.40818927]\n",
      " [0.22032894 0.77967106]\n",
      " [0.49694325 0.50305675]\n",
      " [0.86843874 0.13156126]\n",
      " [0.96298398 0.03701602]\n",
      " [0.55774122 0.44225878]\n",
      " [0.71757077 0.28242923]\n",
      " [0.88879571 0.11120429]\n",
      " [0.41583158 0.58416842]\n",
      " [0.45634659 0.54365341]\n",
      " [0.85904113 0.14095887]\n",
      " [0.08469421 0.91530579]\n",
      " [0.31370791 0.68629209]\n",
      " [0.34660774 0.65339226]\n",
      " [0.37391815 0.62608185]\n",
      " [0.86774723 0.13225277]\n",
      " [0.13615952 0.86384048]\n",
      " [0.85484031 0.14515969]\n",
      " [0.8675944  0.1324056 ]\n",
      " [0.48134053 0.51865947]\n",
      " [0.49765039 0.50234961]\n",
      " [0.47767434 0.52232566]\n",
      " [0.35617166 0.64382834]\n",
      " [0.90576918 0.09423082]\n",
      " [0.88928384 0.11071616]\n",
      " [0.86625473 0.13374527]\n",
      " [0.90194288 0.09805712]\n",
      " [0.41815653 0.58184347]\n",
      " [0.8552828  0.1447172 ]\n",
      " [0.81036116 0.18963884]\n",
      " [0.022476   0.977524  ]\n",
      " [0.40591917 0.59408083]\n",
      " [0.67001845 0.32998155]\n",
      " [0.95425352 0.04574648]\n",
      " [0.34655284 0.65344716]\n",
      " [0.95829104 0.04170896]\n",
      " [0.9153018  0.0846982 ]\n",
      " [0.89378719 0.10621281]\n",
      " [0.86162817 0.13837183]\n",
      " [0.61173591 0.38826409]\n",
      " [0.86550154 0.13449846]\n",
      " [0.72996847 0.27003153]\n",
      " [0.88669249 0.11330751]\n",
      " [0.89792338 0.10207662]\n",
      " [0.87057974 0.12942026]\n",
      " [0.94624838 0.05375162]\n",
      " [0.86163544 0.13836456]\n",
      " [0.88460732 0.11539268]\n",
      " [0.43651864 0.56348136]\n",
      " [0.88024692 0.11975308]\n",
      " [0.91445918 0.08554082]\n",
      " [0.84863642 0.15136358]\n",
      " [0.36581303 0.63418697]\n",
      " [0.66205023 0.33794977]\n",
      " [0.89983689 0.10016311]\n",
      " [0.99570253 0.00429747]\n",
      " [0.39437077 0.60562923]\n",
      " [0.83608168 0.16391832]\n",
      " [0.97229954 0.02770046]\n",
      " [0.87573757 0.12426243]\n",
      " [0.1226071  0.8773929 ]\n",
      " [0.54836416 0.45163584]\n",
      " [0.88869134 0.11130866]\n",
      " [0.86199193 0.13800807]\n",
      " [0.45153036 0.54846964]\n",
      " [0.77304305 0.22695695]\n",
      " [0.80290855 0.19709145]\n",
      " [0.58995341 0.41004659]\n",
      " [0.68904883 0.31095117]\n",
      " [0.81708128 0.18291872]\n",
      " [0.09827169 0.90172831]\n",
      " [0.86592341 0.13407659]\n",
      " [0.80472159 0.19527841]\n",
      " [0.93956836 0.06043164]\n",
      " [0.0234764  0.9765236 ]\n",
      " [0.26758009 0.73241991]\n",
      " [0.92127265 0.07872735]\n",
      " [0.13767021 0.86232979]\n",
      " [0.33306315 0.66693685]\n",
      " [0.20416292 0.79583708]\n",
      " [0.86625473 0.13374527]\n",
      " [0.94465292 0.05534708]\n",
      " [0.45069973 0.54930027]\n",
      " [0.82201399 0.17798601]\n",
      " [0.05005464 0.94994536]\n",
      " [0.29709968 0.70290032]\n",
      " [0.05323159 0.94676841]\n",
      " [0.63069163 0.36930837]\n",
      " [0.79038357 0.20961643]\n",
      " [0.89347579 0.10652421]\n",
      " [0.67419603 0.32580397]\n",
      " [0.89364904 0.10635096]\n",
      " [0.81289209 0.18710791]\n",
      " [0.79635755 0.20364245]\n",
      " [0.90440573 0.09559427]\n",
      " [0.90945111 0.09054889]\n",
      " [0.17692306 0.82307694]\n",
      " [0.17755286 0.82244714]\n",
      " [0.4043679  0.5956321 ]\n",
      " [0.3974313  0.6025687 ]\n",
      " [0.23475561 0.76524439]\n",
      " [0.86625473 0.13374527]\n",
      " [0.15787287 0.84212713]\n",
      " [0.91092687 0.08907313]\n",
      " [0.02246604 0.97753396]\n",
      " [0.8791936  0.1208064 ]\n",
      " [0.28899816 0.71100184]\n",
      " [0.85963338 0.14036662]\n",
      " [0.36334654 0.63665346]\n",
      " [0.93199981 0.06800019]\n",
      " [0.98545226 0.01454774]\n",
      " [0.96052825 0.03947175]\n",
      " [0.76752348 0.23247652]\n",
      " [0.58221043 0.41778957]\n",
      " [0.86059737 0.13940263]\n",
      " [0.85770661 0.14229339]\n",
      " [0.51383313 0.48616687]\n",
      " [0.27467408 0.72532592]\n",
      " [0.90656623 0.09343377]\n",
      " [0.86163544 0.13836456]\n",
      " [0.90745659 0.09254341]\n",
      " [0.30522044 0.69477956]\n",
      " [0.04101876 0.95898124]\n",
      " [0.31963668 0.68036332]\n",
      " [0.30568514 0.69431486]\n",
      " [0.79902903 0.20097097]\n",
      " [0.89504936 0.10495064]\n",
      " [0.18912057 0.81087943]\n",
      " [0.82676207 0.17323793]\n",
      " [0.28719508 0.71280492]\n",
      " [0.12050363 0.87949637]\n",
      " [0.69960887 0.30039113]\n",
      " [0.43768562 0.56231438]\n",
      " [0.86485255 0.13514745]\n",
      " [0.14948996 0.85051004]\n",
      " [0.66709814 0.33290186]\n",
      " [0.88602044 0.11397956]\n",
      " [0.32314786 0.67685214]\n",
      " [0.33770729 0.66229271]\n",
      " [0.86162817 0.13837183]\n",
      " [0.72996847 0.27003153]\n",
      " [0.42871281 0.57128719]\n",
      " [0.87675058 0.12324942]\n",
      " [0.44010636 0.55989364]\n",
      " [0.43988713 0.56011287]\n",
      " [0.35783768 0.64216232]\n",
      " [0.89792338 0.10207662]\n",
      " [0.95878002 0.04121998]\n",
      " [0.86628282 0.13371718]\n",
      " [0.96314115 0.03685885]\n",
      " [0.83754393 0.16245607]\n",
      " [0.39559973 0.60440027]\n",
      " [0.83002061 0.16997939]\n",
      " [0.02278978 0.97721022]\n",
      " [0.83838563 0.16161437]\n",
      " [0.05220543 0.94779457]\n",
      " [0.87801046 0.12198954]\n",
      " [0.59388695 0.40611305]\n",
      " [0.3736639  0.6263361 ]\n",
      " [0.37301356 0.62698644]\n",
      " [0.48888854 0.51111146]\n",
      " [0.89402454 0.10597546]\n",
      " [0.52880648 0.47119352]\n",
      " [0.14306702 0.85693298]\n",
      " [0.88550169 0.11449831]\n",
      " [0.07493623 0.92506377]\n",
      " [0.33099533 0.66900467]\n",
      " [0.91303666 0.08696334]\n",
      " [0.74141117 0.25858883]\n",
      " [0.78493262 0.21506738]\n",
      " [0.86446322 0.13553678]\n",
      " [0.9265265  0.0734735 ]\n",
      " [0.89771805 0.10228195]\n",
      " [0.27667139 0.72332861]\n",
      " [0.94460996 0.05539004]\n",
      " [0.83268404 0.16731596]\n",
      " [0.31985908 0.68014092]\n",
      " [0.86945399 0.13054601]\n",
      " [0.92746875 0.07253125]\n",
      " [0.93472577 0.06527423]\n",
      " [0.8817686  0.1182314 ]\n",
      " [0.92347772 0.07652228]\n",
      " [0.8657092  0.1342908 ]\n",
      " [0.68241561 0.31758439]\n",
      " [0.95881247 0.04118753]\n",
      " [0.9161774  0.0838226 ]\n",
      " [0.43651864 0.56348136]\n",
      " [0.88950403 0.11049597]\n",
      " [0.86625473 0.13374527]\n",
      " [0.84980811 0.15019189]\n",
      " [0.38713575 0.61286425]\n",
      " [0.03518521 0.96481479]\n",
      " [0.97093571 0.02906429]\n",
      " [0.0612462  0.9387538 ]\n",
      " [0.06034763 0.93965237]\n",
      " [0.56151786 0.43848214]\n",
      " [0.89771805 0.10228195]\n",
      " [0.39990391 0.60009609]\n",
      " [0.69200861 0.30799139]\n",
      " [0.23456287 0.76543713]\n",
      " [0.39647057 0.60352943]\n",
      " [0.77771108 0.22228892]\n",
      " [0.17685118 0.82314882]\n",
      " [0.85484031 0.14515969]\n",
      " [0.34655284 0.65344716]\n",
      " [0.89792338 0.10207662]\n",
      " [0.88507034 0.11492966]\n",
      " [0.36707675 0.63292325]\n",
      " [0.88951587 0.11048413]\n",
      " [0.89771805 0.10228195]\n",
      " [0.89877938 0.10122062]\n",
      " [0.9432429  0.0567571 ]\n",
      " [0.91324081 0.08675919]\n",
      " [0.04263589 0.95736411]\n",
      " [0.61552376 0.38447624]\n",
      " [0.86625473 0.13374527]\n",
      " [0.79765985 0.20234015]\n",
      " [0.89797871 0.10202129]\n",
      " [0.09148724 0.90851276]\n",
      " [0.44536961 0.55463039]\n",
      " [0.34655284 0.65344716]\n",
      " [0.6893238  0.3106762 ]\n",
      " [0.3452802  0.6547198 ]\n",
      " [0.89374416 0.10625584]\n",
      " [0.27997356 0.72002644]\n",
      " [0.88247653 0.11752347]\n",
      " [0.59465911 0.40534089]\n",
      " [0.88669249 0.11330751]\n",
      " [0.86243966 0.13756034]\n",
      " [0.87230423 0.12769577]\n",
      " [0.2920168  0.7079832 ]\n",
      " [0.89808399 0.10191601]\n",
      " [0.2395652  0.7604348 ]\n",
      " [0.19153033 0.80846967]\n",
      " [0.34629255 0.65370745]\n",
      " [0.07047602 0.92952398]\n",
      " [0.9213412  0.0786588 ]\n",
      " [0.05268693 0.94731307]\n",
      " [0.2375275  0.7624725 ]\n",
      " [0.86047404 0.13952596]\n",
      " [0.83268404 0.16731596]\n",
      " [0.67846275 0.32153725]\n",
      " [0.85511784 0.14488216]\n",
      " [0.73542718 0.26457282]\n",
      " [0.90828249 0.09171751]\n",
      " [0.3470166  0.6529834 ]\n",
      " [0.89272606 0.10727394]\n",
      " [0.89762272 0.10237728]\n",
      " [0.14717779 0.85282221]\n",
      " [0.03946734 0.96053266]\n",
      " [0.5756927  0.4243073 ]\n",
      " [0.21475085 0.78524915]\n",
      " [0.83619561 0.16380439]\n",
      " [0.11792897 0.88207103]\n",
      " [0.70445433 0.29554567]\n",
      " [0.01930865 0.98069135]\n",
      " [0.34642959 0.65357041]\n",
      " [0.66360098 0.33639902]\n",
      " [0.42411579 0.57588421]\n",
      " [0.94855265 0.05144735]\n",
      " [0.08329868 0.91670132]\n",
      " [0.86025606 0.13974394]\n",
      " [0.20773052 0.79226948]\n",
      " [0.83838563 0.16161437]\n",
      " [0.76837691 0.23162309]\n",
      " [0.96492484 0.03507516]\n",
      " [0.24790672 0.75209328]\n",
      " [0.65913636 0.34086364]\n",
      " [0.06765479 0.93234521]\n",
      " [0.72671059 0.27328941]\n",
      " [0.74046617 0.25953383]\n",
      " [0.61416841 0.38583159]\n",
      " [0.07369087 0.92630913]\n",
      " [0.36230213 0.63769787]\n",
      " [0.95917474 0.04082526]\n",
      " [0.22887512 0.77112488]\n",
      " [0.72771095 0.27228905]] [0.10228195 0.88525783 0.92096787 0.13372425 0.16731596 0.91423223\n",
      " 0.18710791 0.16534024 0.0834743  0.2288755  0.16191367 0.90874099\n",
      " 0.17521857 0.47893981 0.90598208 0.32108206 0.09213027 0.14488216\n",
      " 0.65775968 0.46913429 0.40818927 0.77967106 0.50305675 0.13156126\n",
      " 0.03701602 0.44225878 0.28242923 0.11120429 0.58416842 0.54365341\n",
      " 0.14095887 0.91530579 0.68629209 0.65339226 0.62608185 0.13225277\n",
      " 0.86384048 0.14515969 0.1324056  0.51865947 0.50234961 0.52232566\n",
      " 0.64382834 0.09423082 0.11071616 0.13374527 0.09805712 0.58184347\n",
      " 0.1447172  0.18963884 0.977524   0.59408083 0.32998155 0.04574648\n",
      " 0.65344716 0.04170896 0.0846982  0.10621281 0.13837183 0.38826409\n",
      " 0.13449846 0.27003153 0.11330751 0.10207662 0.12942026 0.05375162\n",
      " 0.13836456 0.11539268 0.56348136 0.11975308 0.08554082 0.15136358\n",
      " 0.63418697 0.33794977 0.10016311 0.00429747 0.60562923 0.16391832\n",
      " 0.02770046 0.12426243 0.8773929  0.45163584 0.11130866 0.13800807\n",
      " 0.54846964 0.22695695 0.19709145 0.41004659 0.31095117 0.18291872\n",
      " 0.90172831 0.13407659 0.19527841 0.06043164 0.9765236  0.73241991\n",
      " 0.07872735 0.86232979 0.66693685 0.79583708 0.13374527 0.05534708\n",
      " 0.54930027 0.17798601 0.94994536 0.70290032 0.94676841 0.36930837\n",
      " 0.20961643 0.10652421 0.32580397 0.10635096 0.18710791 0.20364245\n",
      " 0.09559427 0.09054889 0.82307694 0.82244714 0.5956321  0.6025687\n",
      " 0.76524439 0.13374527 0.84212713 0.08907313 0.97753396 0.1208064\n",
      " 0.71100184 0.14036662 0.63665346 0.06800019 0.01454774 0.03947175\n",
      " 0.23247652 0.41778957 0.13940263 0.14229339 0.48616687 0.72532592\n",
      " 0.09343377 0.13836456 0.09254341 0.69477956 0.95898124 0.68036332\n",
      " 0.69431486 0.20097097 0.10495064 0.81087943 0.17323793 0.71280492\n",
      " 0.87949637 0.30039113 0.56231438 0.13514745 0.85051004 0.33290186\n",
      " 0.11397956 0.67685214 0.66229271 0.13837183 0.27003153 0.57128719\n",
      " 0.12324942 0.55989364 0.56011287 0.64216232 0.10207662 0.04121998\n",
      " 0.13371718 0.03685885 0.16245607 0.60440027 0.16997939 0.97721022\n",
      " 0.16161437 0.94779457 0.12198954 0.40611305 0.6263361  0.62698644\n",
      " 0.51111146 0.10597546 0.47119352 0.85693298 0.11449831 0.92506377\n",
      " 0.66900467 0.08696334 0.25858883 0.21506738 0.13553678 0.0734735\n",
      " 0.10228195 0.72332861 0.05539004 0.16731596 0.68014092 0.13054601\n",
      " 0.07253125 0.06527423 0.1182314  0.07652228 0.1342908  0.31758439\n",
      " 0.04118753 0.0838226  0.56348136 0.11049597 0.13374527 0.15019189\n",
      " 0.61286425 0.96481479 0.02906429 0.9387538  0.93965237 0.43848214\n",
      " 0.10228195 0.60009609 0.30799139 0.76543713 0.60352943 0.22228892\n",
      " 0.82314882 0.14515969 0.65344716 0.10207662 0.11492966 0.63292325\n",
      " 0.11048413 0.10228195 0.10122062 0.0567571  0.08675919 0.95736411\n",
      " 0.38447624 0.13374527 0.20234015 0.10202129 0.90851276 0.55463039\n",
      " 0.65344716 0.3106762  0.6547198  0.10625584 0.72002644 0.11752347\n",
      " 0.40534089 0.11330751 0.13756034 0.12769577 0.7079832  0.10191601\n",
      " 0.7604348  0.80846967 0.65370745 0.92952398 0.0786588  0.94731307\n",
      " 0.7624725  0.13952596 0.16731596 0.32153725 0.14488216 0.26457282\n",
      " 0.09171751 0.6529834  0.10727394 0.10237728 0.85282221 0.96053266\n",
      " 0.4243073  0.78524915 0.16380439 0.88207103 0.29554567 0.98069135\n",
      " 0.65357041 0.33639902 0.57588421 0.05144735 0.91670132 0.13974394\n",
      " 0.79226948 0.16161437 0.23162309 0.03507516 0.75209328 0.34086364\n",
      " 0.93234521 0.27328941 0.25953383 0.38583159 0.92630913 0.63769787\n",
      " 0.04082526 0.77112488 0.27228905]\n"
     ]
    }
   ],
   "source": [
    "y_pred_proba = log_reg.predict_proba(X_test)\n",
    "print(y_pred_proba, y_pred_proba[::,1])"
   ]
  },
  {
   "cell_type": "code",
   "execution_count": 150,
   "id": "bb271661",
   "metadata": {},
   "outputs": [
    {
     "data": {
      "image/png": "[encoded data removed]",
      "text/plain": [
       "<Figure size 864x720 with 1 Axes>"
      ]
     },
     "metadata": {
      "needs_background": "light"
     },
     "output_type": "display_data"
    }
   ],
   "source": [
    "#Predict_proba returns the probability of 0 and 1, since we slice [::,1] this implies we only take the probability of 1\n",
    "#\n",
    "\n",
    "y_pred_proba = log_reg.predict_proba(X_test)[::,1]    #[0.25 to be labeled as 0, 0.75 to be labeld as 1]   \n",
    "\n",
    "# metrics.roc_curve returns three outputs: fpr, tpr and different thresholds\n",
    "fpr, tpr, thresholds = metrics.roc_curve(y_test,  y_pred_proba)\n",
    "\n",
    "#metrics.roc_auc_score directly returns the auc for y_actual and corresponding prob values of success for each row\n",
    "auc = metrics.roc_auc_score(y_test, y_pred_proba)\n",
    "\n",
    "# Plotting the AUC curve\n",
    "plt.figure(figsize=(12,10))\n",
    "plt.plot(fpr,tpr,label=\"auc=\"+str(auc))\n",
    "plt.legend(loc=4)\n",
    "plt.title(\"Receiver Operating Characteristic Curve (ROC)\")\n",
    "plt.xlabel(\"FPR ---->\")\n",
    "plt.ylabel(\"TPR ---->\")\n",
    "plt.show()"
   ]
  },
  {
   "cell_type": "code",
   "execution_count": 151,
   "id": "786f8efe",
   "metadata": {},
   "outputs": [
    {
     "data": {
      "text/plain": [
       "0.8672851016222264"
      ]
     },
     "execution_count": 151,
     "metadata": {},
     "output_type": "execute_result"
    }
   ],
   "source": [
    "auc = metrics.roc_auc_score(y_test, y_pred_proba)     #returns the single auc value\n",
    "auc"
   ]
  },
  {
   "cell_type": "code",
   "execution_count": 152,
   "id": "2ece65a1",
   "metadata": {},
   "outputs": [],
   "source": [
    "from sklearn.tree import DecisionTreeClassifier      #DecisionTreeClassifier & DecisionTreeRegressor\n",
    "\n",
    "#Evaluation libraries\n",
    "from sklearn.metrics import confusion_matrix , classification_report , accuracy_score\n",
    "from sklearn.metrics import roc_curve, auc"
   ]
  },
  {
   "cell_type": "code",
   "execution_count": 153,
   "id": "cf37d61c",
   "metadata": {},
   "outputs": [],
   "source": [
    "###Decision Tree#####\n",
    "# Instatiating the DecisionTreeClassifer model , with a fixed random state and max_depth\n",
    "\n",
    "model=DecisionTreeClassifier(random_state=42,max_depth=5)    #constraint"
   ]
  },
  {
   "cell_type": "code",
   "execution_count": 154,
   "id": "9b549ee9",
   "metadata": {},
   "outputs": [],
   "source": [
    "# fit the DecisionTreeClassifeir model on the train dataset\n",
    "\n",
    "dt=model.fit(X_train,y_train)"
   ]
  },
  {
   "cell_type": "code",
   "execution_count": 155,
   "id": "3d5abaa0",
   "metadata": {},
   "outputs": [],
   "source": [
    "#Predict the output variable value for the X test dataset\n",
    "\n",
    "y_pred=dt.predict(X_test)\n",
    "y_pred_proba = dt.predict_proba(X_test)[::,1]  "
   ]
  },
  {
   "cell_type": "code",
   "execution_count": 157,
   "id": "c70647d1",
   "metadata": {},
   "outputs": [
    {
     "name": "stdout",
     "output_type": "stream",
     "text": [
      "0.7946127946127947\n"
     ]
    }
   ],
   "source": [
    "###Evaluation of the model##\n",
    "print(accuracy_score(y_test,y_pred))\n",
    "print(confusion_matrix(y_test,y_pred))"
   ]
  },
  {
   "cell_type": "code",
   "execution_count": 158,
   "id": "53a1c18e",
   "metadata": {},
   "outputs": [
    {
     "name": "stdout",
     "output_type": "stream",
     "text": [
      "[[150  23]\n",
      " [ 38  86]]\n"
     ]
    }
   ],
   "source": []
  },
  {
   "cell_type": "code",
   "execution_count": 159,
   "id": "01716b76",
   "metadata": {},
   "outputs": [
    {
     "data": {
      "text/plain": [
       "<AxesSubplot:>"
      ]
     },
     "execution_count": 159,
     "metadata": {},
     "output_type": "execute_result"
    },
    {
     "data": {
      "image/png": "[encoded data removed]",
      "text/plain": [
       "<Figure size 432x288 with 2 Axes>"
      ]
     },
     "metadata": {
      "needs_background": "light"
     },
     "output_type": "display_data"
    }
   ],
   "source": [
    "conf_matrix = confusion_matrix(y_test,y_pred)\n",
    "sns.heatmap(conf_matrix, annot = True , fmt=\"3\")"
   ]
  },
  {
   "cell_type": "code",
   "execution_count": 160,
   "id": "b8d399ab",
   "metadata": {},
   "outputs": [
    {
     "name": "stdout",
     "output_type": "stream",
     "text": [
      "              precision    recall  f1-score   support\n",
      "\n",
      "           0       0.80      0.87      0.83       173\n",
      "           1       0.79      0.69      0.74       124\n",
      "\n",
      "    accuracy                           0.79       297\n",
      "   macro avg       0.79      0.78      0.78       297\n",
      "weighted avg       0.79      0.79      0.79       297\n",
      "\n"
     ]
    }
   ],
   "source": [
    "# classification: recall, precision, F1 score , Accuracy \n",
    "\n",
    "print(classification_report(y_test,y_pred))"
   ]
  },
  {
   "cell_type": "code",
   "execution_count": 161,
   "id": "d2befdc8",
   "metadata": {},
   "outputs": [
    {
     "data": {
      "image/png": "[encoded data removed]",
      "text/plain": [
       "<Figure size 3000x2400 with 1 Axes>"
      ]
     },
     "metadata": {
      "needs_background": "light"
     },
     "output_type": "display_data"
    }
   ],
   "source": [
    "# Plotting the Decision Tree\n",
    "\n",
    "from sklearn import tree\n",
    "df1=pd.DataFrame(titanic.drop(['Survived'],axis=1))\n",
    "column_names=list(df1.columns)\n",
    "fn=column_names\n",
    "cn=['Survived','Not Survived']\n",
    "\n",
    "fig, axes = plt.subplots(nrows = 1,ncols = 1,figsize = (10,8), dpi=300)\n",
    "\n",
    "tree.plot_tree(model,\n",
    "           feature_names = fn, \n",
    "           class_names=cn,\n",
    "           filled = True);\n",
    "\n",
    "fig.savefig('DecisionTree.png')"
   ]
  },
  {
   "cell_type": "code",
   "execution_count": 162,
   "id": "d504ed3c",
   "metadata": {},
   "outputs": [
    {
     "data": {
      "text/plain": [
       "<matplotlib.legend.Legend at 0x18ce8579700>"
      ]
     },
     "execution_count": 162,
     "metadata": {},
     "output_type": "execute_result"
    },
    {
     "data": {
      "image/png": "[encoded data removed]",
      "text/plain": [
       "<Figure size 432x288 with 1 Axes>"
      ]
     },
     "metadata": {
      "needs_background": "light"
     },
     "output_type": "display_data"
    }
   ],
   "source": [
    "#Plotting the AUROC curve\n",
    "\n",
    "plt.figure(1)\n",
    "lw=2\n",
    "fpr_dt,tpr_dt,_=roc_curve(y_test,y_pred_proba)\n",
    "roc_auc_dt = auc(fpr_dt,tpr_dt)\n",
    "plt.plot(fpr_dt,tpr_dt,color='orange',lw=lw,label='Decision Tree(AUC = %0.2f)'%roc_auc_dt)\n",
    "plt.plot([0,1],[0,1],color='blue',lw=lw,linestyle='--')\n",
    "\n",
    "plt.xlim([0.0,1.0])\n",
    "plt.ylim([0.0,1.05])\n",
    "plt.xlabel(\"False Positive Rate\")\n",
    "plt.ylabel(\"True Positive Rate\")\n",
    "plt.title(\"area Under the Curve\")\n",
    "# plt.legend(loc=\"upper left\")\n",
    "plt.legend(loc=\"lower right\")"
   ]
  },
  {
   "cell_type": "code",
   "execution_count": 163,
   "id": "d5848ab8",
   "metadata": {},
   "outputs": [
    {
     "data": {
      "text/plain": [
       "(891, 20)"
      ]
     },
     "execution_count": 163,
     "metadata": {},
     "output_type": "execute_result"
    }
   ],
   "source": [
    "titanic.shape"
   ]
  },
  {
   "cell_type": "code",
   "execution_count": 77,
   "id": "1408754b",
   "metadata": {},
   "outputs": [],
   "source": [
    "####max depth=4###"
   ]
  },
  {
   "cell_type": "code",
   "execution_count": 164,
   "id": "dd9746ce",
   "metadata": {},
   "outputs": [],
   "source": [
    "###Decision Tree#####\n",
    "# Instatiating the DecisionTreeClassifer model , with a fixed random state and max_depth\n",
    "\n",
    "model=DecisionTreeClassifier(random_state=35,max_depth=4)    #constraint"
   ]
  },
  {
   "cell_type": "code",
   "execution_count": 165,
   "id": "34282885",
   "metadata": {},
   "outputs": [],
   "source": [
    "\n",
    "dt=model.fit(X_train,y_train)"
   ]
  },
  {
   "cell_type": "code",
   "execution_count": 166,
   "id": "205ce813",
   "metadata": {},
   "outputs": [],
   "source": [
    "y_pred=dt.predict(X_test)"
   ]
  },
  {
   "cell_type": "code",
   "execution_count": 167,
   "id": "14af3043",
   "metadata": {},
   "outputs": [],
   "source": [
    "y_pred_proba = dt.predict_proba(X_test)[::,1]  "
   ]
  },
  {
   "cell_type": "code",
   "execution_count": 168,
   "id": "d4b49591",
   "metadata": {},
   "outputs": [
    {
     "name": "stdout",
     "output_type": "stream",
     "text": [
      "0.797979797979798\n"
     ]
    }
   ],
   "source": [
    "###Evaluation of the model##\n",
    "print(accuracy_score(y_test,y_pred))"
   ]
  },
  {
   "cell_type": "code",
   "execution_count": 169,
   "id": "e84f5c4b",
   "metadata": {},
   "outputs": [
    {
     "name": "stdout",
     "output_type": "stream",
     "text": [
      "[[155  18]\n",
      " [ 42  82]]\n"
     ]
    }
   ],
   "source": [
    "print(confusion_matrix(y_test,y_pred))"
   ]
  },
  {
   "cell_type": "code",
   "execution_count": 170,
   "id": "f4425d2a",
   "metadata": {},
   "outputs": [
    {
     "data": {
      "text/plain": [
       "<AxesSubplot:>"
      ]
     },
     "execution_count": 170,
     "metadata": {},
     "output_type": "execute_result"
    },
    {
     "data": {
      "image/png": "[encoded data removed]",
      "text/plain": [
       "<Figure size 432x288 with 2 Axes>"
      ]
     },
     "metadata": {
      "needs_background": "light"
     },
     "output_type": "display_data"
    }
   ],
   "source": [
    "conf_matrix = confusion_matrix(y_test,y_pred)\n",
    "sns.heatmap(conf_matrix, annot = True , fmt=\"3\")"
   ]
  },
  {
   "cell_type": "code",
   "execution_count": 171,
   "id": "5721ad99",
   "metadata": {},
   "outputs": [
    {
     "data": {
      "text/plain": [
       "<matplotlib.legend.Legend at 0x18ce869f490>"
      ]
     },
     "execution_count": 171,
     "metadata": {},
     "output_type": "execute_result"
    },
    {
     "data": {
      "image/png": "[encoded data removed]",
      "text/plain": [
       "<Figure size 432x288 with 1 Axes>"
      ]
     },
     "metadata": {
      "needs_background": "light"
     },
     "output_type": "display_data"
    }
   ],
   "source": [
    "#Plotting the AUROC curve\n",
    "\n",
    "plt.figure(1)\n",
    "lw=2\n",
    "fpr_dt,tpr_dt,_=roc_curve(y_test,y_pred_proba)\n",
    "roc_auc_dt = auc(fpr_dt,tpr_dt)\n",
    "plt.plot(fpr_dt,tpr_dt,color='orange',lw=lw,label='Decision Tree(AUC = %0.2f)'%roc_auc_dt)\n",
    "plt.plot([0,1],[0,1],color='blue',lw=lw,linestyle='--')\n",
    "\n",
    "plt.xlim([0.0,1.0])\n",
    "plt.ylim([0.0,1.05])\n",
    "plt.xlabel(\"False Positive Rate\")\n",
    "plt.ylabel(\"True Positive Rate\")\n",
    "plt.title(\"area Under the Curve\")\n",
    "# plt.legend(loc=\"upper left\")\n",
    "plt.legend(loc=\"lower right\")"
   ]
  },
  {
   "cell_type": "code",
   "execution_count": null,
   "id": "1ca27896",
   "metadata": {},
   "outputs": [],
   "source": [
    "####Random forest ###"
   ]
  },
  {
   "cell_type": "code",
   "execution_count": 172,
   "id": "69391535",
   "metadata": {},
   "outputs": [],
   "source": [
    "#Assigning independent and dependent variables:\n",
    "\n",
    "feature_space = titanic.iloc[:, titanic.columns != 'Survived']#independent\n",
    "feature_class = titanic.iloc[:, titanic.columns == 'Survived']#target\n",
    "\n",
    "\n",
    "training_set, test_set, class_set, test_class_set = train_test_split(feature_space,\n",
    "                                                                    feature_class,\n",
    "                                                                    test_size = 0.20, \n",
    "                                                                    random_state = 42)\n",
    "#X_train,X_test,y_train,y_test"
   ]
  },
  {
   "cell_type": "code",
   "execution_count": 173,
   "id": "41a17269",
   "metadata": {},
   "outputs": [],
   "source": [
    "#import Random forest classifier and fit the data\n",
    "from sklearn.ensemble import RandomForestClassifier "
   ]
  },
  {
   "cell_type": "code",
   "execution_count": 174,
   "id": "6678e21c",
   "metadata": {},
   "outputs": [],
   "source": [
    "# Set the random state for reproducibility\n",
    "fit_rf = RandomForestClassifier(random_state=42)"
   ]
  },
  {
   "cell_type": "code",
   "execution_count": 175,
   "id": "e31992ac",
   "metadata": {},
   "outputs": [],
   "source": [
    "from sklearn.model_selection import train_test_split, GridSearchCV"
   ]
  },
  {
   "cell_type": "code",
   "execution_count": 176,
   "id": "669b04b5",
   "metadata": {},
   "outputs": [
    {
     "name": "stdout",
     "output_type": "stream",
     "text": [
      "Best Parameters using grid search: \n",
      " {'bootstrap': True, 'criterion': 'entropy', 'max_depth': 3, 'max_features': None}\n"
     ]
    }
   ],
   "source": [
    "#Providing random seed so that the same result is obtained everytime\n",
    "np.random.seed(42)\n",
    "\n",
    "# Providing the different values of hyperparameters\n",
    "param_dist = {'max_depth': [2, 3, 4],\n",
    "              'max_features': ['auto', 'sqrt', 'log2', None],\n",
    "                'bootstrap' : [True, False],\n",
    "              'criterion': ['gini', 'entropy']}\n",
    "\n",
    "# Running gridsearchCV to check for all the different PnCs of these parameter values\n",
    "cv_rf = GridSearchCV(fit_rf, cv = 10,\n",
    "                     param_grid=param_dist, \n",
    "                     n_jobs = 1)\n",
    "\n",
    "#Fitting the train set , so that grid search is executed on this dataset\n",
    "cv_rf.fit(training_set, class_set)\n",
    "\n",
    "#Printing the best parameters by using best_params\n",
    "print('Best Parameters using grid search: \\n', cv_rf.best_params_)"
   ]
  },
  {
   "cell_type": "code",
   "execution_count": 177,
   "id": "2b26c111",
   "metadata": {},
   "outputs": [
    {
     "data": {
      "text/plain": [
       "0.8258607198748044"
      ]
     },
     "execution_count": 177,
     "metadata": {},
     "output_type": "execute_result"
    }
   ],
   "source": [
    "####extra\n",
    "cv_rf.best_score_"
   ]
  },
  {
   "cell_type": "code",
   "execution_count": 178,
   "id": "063006a3",
   "metadata": {},
   "outputs": [
    {
     "data": {
      "text/plain": [
       "RandomForestClassifier(criterion='entropy', max_depth=3, max_features=None,\n",
       "                       random_state=42)"
      ]
     },
     "execution_count": 178,
     "metadata": {},
     "output_type": "execute_result"
    }
   ],
   "source": [
    "###extra\n",
    "rf_best = cv_rf.best_estimator_\n",
    "rf_best"
   ]
  },
  {
   "cell_type": "code",
   "execution_count": 179,
   "id": "e064f45c",
   "metadata": {},
   "outputs": [
    {
     "data": {
      "text/plain": [
       "array([2.02219688e-01, 2.48947474e-02, 1.05417902e-03, 8.57930121e-02,\n",
       "       9.21110490e-02, 2.80111625e-01, 2.38426565e-01, 2.82213943e-03,\n",
       "       0.00000000e+00, 7.33098880e-03, 0.00000000e+00, 6.87831751e-04,\n",
       "       7.03240505e-03, 2.62614993e-04, 2.66502938e-03, 0.00000000e+00,\n",
       "       0.00000000e+00, 0.00000000e+00, 5.45881248e-02])"
      ]
     },
     "execution_count": 179,
     "metadata": {},
     "output_type": "execute_result"
    }
   ],
   "source": [
    "rf_best.feature_importances_"
   ]
  },
  {
   "cell_type": "code",
   "execution_count": 196,
   "id": "7b69fe41",
   "metadata": {},
   "outputs": [
    {
     "data": {
      "text/plain": [
       "array([0.86111111, 0.77777778, 0.73239437, 0.97183099, 0.88732394,\n",
       "       0.76056338, 0.8028169 , 0.81690141, 0.74647887, 0.90140845])"
      ]
     },
     "execution_count": 196,
     "metadata": {},
     "output_type": "execute_result"
    }
   ],
   "source": [
    "from sklearn.model_selection import cross_val_score\n",
    "\n",
    "scores = cross_val_score(fit_rf, training_set, class_set, cv=10)\n",
    "scores "
   ]
  },
  {
   "cell_type": "code",
   "execution_count": 180,
   "id": "58c88668",
   "metadata": {},
   "outputs": [
    {
     "data": {
      "text/html": [
       "<div>\n",
       "<style scoped>\n",
       "    .dataframe tbody tr th:only-of-type {\n",
       "        vertical-align: middle;\n",
       "    }\n",
       "\n",
       "    .dataframe tbody tr th {\n",
       "        vertical-align: top;\n",
       "    }\n",
       "\n",
       "    .dataframe thead th {\n",
       "        text-align: right;\n",
       "    }\n",
       "</style>\n",
       "<table border=\"1\" class=\"dataframe\">\n",
       "  <thead>\n",
       "    <tr style=\"text-align: right;\">\n",
       "      <th></th>\n",
       "      <th>Varname</th>\n",
       "      <th>Imp</th>\n",
       "    </tr>\n",
       "  </thead>\n",
       "  <tbody>\n",
       "    <tr>\n",
       "      <th>5</th>\n",
       "      <td>Sex_female</td>\n",
       "      <td>0.280112</td>\n",
       "    </tr>\n",
       "    <tr>\n",
       "      <th>6</th>\n",
       "      <td>Sex_male</td>\n",
       "      <td>0.238427</td>\n",
       "    </tr>\n",
       "    <tr>\n",
       "      <th>0</th>\n",
       "      <td>Pclass</td>\n",
       "      <td>0.202220</td>\n",
       "    </tr>\n",
       "    <tr>\n",
       "      <th>4</th>\n",
       "      <td>Age_median</td>\n",
       "      <td>0.092111</td>\n",
       "    </tr>\n",
       "    <tr>\n",
       "      <th>3</th>\n",
       "      <td>Fare1</td>\n",
       "      <td>0.085793</td>\n",
       "    </tr>\n",
       "    <tr>\n",
       "      <th>18</th>\n",
       "      <td>Cabin_new_missing</td>\n",
       "      <td>0.054588</td>\n",
       "    </tr>\n",
       "    <tr>\n",
       "      <th>1</th>\n",
       "      <td>SibSp</td>\n",
       "      <td>0.024895</td>\n",
       "    </tr>\n",
       "    <tr>\n",
       "      <th>9</th>\n",
       "      <td>Embarked_S</td>\n",
       "      <td>0.007331</td>\n",
       "    </tr>\n",
       "    <tr>\n",
       "      <th>12</th>\n",
       "      <td>Cabin_new_C</td>\n",
       "      <td>0.007032</td>\n",
       "    </tr>\n",
       "    <tr>\n",
       "      <th>7</th>\n",
       "      <td>Embarked_C</td>\n",
       "      <td>0.002822</td>\n",
       "    </tr>\n",
       "    <tr>\n",
       "      <th>14</th>\n",
       "      <td>Cabin_new_E</td>\n",
       "      <td>0.002665</td>\n",
       "    </tr>\n",
       "    <tr>\n",
       "      <th>2</th>\n",
       "      <td>Parch</td>\n",
       "      <td>0.001054</td>\n",
       "    </tr>\n",
       "    <tr>\n",
       "      <th>11</th>\n",
       "      <td>Cabin_new_B</td>\n",
       "      <td>0.000688</td>\n",
       "    </tr>\n",
       "    <tr>\n",
       "      <th>13</th>\n",
       "      <td>Cabin_new_D</td>\n",
       "      <td>0.000263</td>\n",
       "    </tr>\n",
       "    <tr>\n",
       "      <th>8</th>\n",
       "      <td>Embarked_Q</td>\n",
       "      <td>0.000000</td>\n",
       "    </tr>\n",
       "    <tr>\n",
       "      <th>10</th>\n",
       "      <td>Cabin_new_A</td>\n",
       "      <td>0.000000</td>\n",
       "    </tr>\n",
       "    <tr>\n",
       "      <th>15</th>\n",
       "      <td>Cabin_new_F</td>\n",
       "      <td>0.000000</td>\n",
       "    </tr>\n",
       "    <tr>\n",
       "      <th>16</th>\n",
       "      <td>Cabin_new_G</td>\n",
       "      <td>0.000000</td>\n",
       "    </tr>\n",
       "    <tr>\n",
       "      <th>17</th>\n",
       "      <td>Cabin_new_T</td>\n",
       "      <td>0.000000</td>\n",
       "    </tr>\n",
       "  </tbody>\n",
       "</table>\n",
       "</div>"
      ],
      "text/plain": [
       "              Varname       Imp\n",
       "5          Sex_female  0.280112\n",
       "6            Sex_male  0.238427\n",
       "0              Pclass  0.202220\n",
       "4          Age_median  0.092111\n",
       "3               Fare1  0.085793\n",
       "18  Cabin_new_missing  0.054588\n",
       "1               SibSp  0.024895\n",
       "9          Embarked_S  0.007331\n",
       "12        Cabin_new_C  0.007032\n",
       "7          Embarked_C  0.002822\n",
       "14        Cabin_new_E  0.002665\n",
       "2               Parch  0.001054\n",
       "11        Cabin_new_B  0.000688\n",
       "13        Cabin_new_D  0.000263\n",
       "8          Embarked_Q  0.000000\n",
       "10        Cabin_new_A  0.000000\n",
       "15        Cabin_new_F  0.000000\n",
       "16        Cabin_new_G  0.000000\n",
       "17        Cabin_new_T  0.000000"
      ]
     },
     "execution_count": 180,
     "metadata": {},
     "output_type": "execute_result"
    }
   ],
   "source": [
    "\n",
    "\n",
    "\n",
    "\n"
   ]
  },
  {
   "cell_type": "code",
   "execution_count": 181,
   "id": "3b117b84",
   "metadata": {},
   "outputs": [
    {
     "data": {
      "text/plain": [
       "RandomForestClassifier(criterion='entropy', max_depth=3, max_features=None,\n",
       "                       random_state=42)"
      ]
     },
     "execution_count": 181,
     "metadata": {},
     "output_type": "execute_result"
    }
   ],
   "source": [
    "#Finally the best parameters are specifi\n",
    "fit_rf.set_params(criterion = 'entropy',\n",
    "                  max_features = None, \n",
    "                  bootstrap = True,\n",
    "                  max_depth = 3)\n"
   ]
  },
  {
   "cell_type": "code",
   "execution_count": 182,
   "id": "5f3ac2ab",
   "metadata": {},
   "outputs": [],
   "source": [
    "# Working on the OOB rate, OOB rate by default is 'FALSE'\n",
    "\n",
    "fit_rf.set_params(oob_score=True)\n",
    "\n",
    "min_estimators = 15\n",
    "max_estimators = 1000\n",
    "\n",
    "error_rate = {}\n",
    "\n",
    "for i in range(min_estimators, max_estimators + 1):\n",
    "    fit_rf.set_params(n_estimators=i)       #specifying the number of extimators or DTs\n",
    "    fit_rf.fit(training_set, class_set)     #fit to the train dataset\n",
    "\n",
    "    oob_error = 1 - fit_rf.oob_score_      #oob_score_ gives prediction score, subtract from 1 to find error\n",
    "    error_rate[i] = oob_error\n",
    "    \n",
    "# The aim of this entire process is to check for how many Decision Trees does the OOB error rate comes least & is stable too!"
   ]
  },
  {
   "cell_type": "code",
   "execution_count": 183,
   "id": "2f565806",
   "metadata": {},
   "outputs": [
    {
     "data": {
      "text/plain": [
       "{15: 0.1853932584269663,\n",
       " 16: 0.1896067415730337,\n",
       " 17: 0.1896067415730337,\n",
       " 18: 0.1867977528089888,\n",
       " 19: 0.1853932584269663,\n",
       " 20: 0.1853932584269663,\n",
       " 21: 0.1882022471910112,\n",
       " 22: 0.1896067415730337,\n",
       " 23: 0.1910112359550562,\n",
       " 24: 0.1910112359550562,\n",
       " 25: 0.1839887640449438,\n",
       " 26: 0.1839887640449438,\n",
       " 27: 0.1797752808988764,\n",
       " 28: 0.1811797752808989,\n",
       " 29: 0.1797752808988764,\n",
       " 30: 0.175561797752809,\n",
       " 31: 0.1825842696629213,\n",
       " 32: 0.1797752808988764,\n",
       " 33: 0.1797752808988764,\n",
       " 34: 0.1825842696629213,\n",
       " 35: 0.1825842696629213,\n",
       " 36: 0.1839887640449438,\n",
       " 37: 0.1839887640449438,\n",
       " 38: 0.1853932584269663,\n",
       " 39: 0.1853932584269663,\n",
       " 40: 0.1839887640449438,\n",
       " 41: 0.1839887640449438,\n",
       " 42: 0.1853932584269663,\n",
       " 43: 0.1853932584269663,\n",
       " 44: 0.1853932584269663,\n",
       " 45: 0.1839887640449438,\n",
       " 46: 0.1811797752808989,\n",
       " 47: 0.1825842696629213,\n",
       " 48: 0.1825842696629213,\n",
       " 49: 0.1825842696629213,\n",
       " 50: 0.1825842696629213,\n",
       " 51: 0.1825842696629213,\n",
       " 52: 0.1811797752808989,\n",
       " 53: 0.1811797752808989,\n",
       " 54: 0.1811797752808989,\n",
       " 55: 0.1811797752808989,\n",
       " 56: 0.1797752808988764,\n",
       " 57: 0.1783707865168539,\n",
       " 58: 0.1769662921348315,\n",
       " 59: 0.175561797752809,\n",
       " 60: 0.1741573033707865,\n",
       " 61: 0.1741573033707865,\n",
       " 62: 0.175561797752809,\n",
       " 63: 0.1769662921348315,\n",
       " 64: 0.1769662921348315,\n",
       " 65: 0.175561797752809,\n",
       " 66: 0.175561797752809,\n",
       " 67: 0.175561797752809,\n",
       " 68: 0.175561797752809,\n",
       " 69: 0.175561797752809,\n",
       " 70: 0.1769662921348315,\n",
       " 71: 0.175561797752809,\n",
       " 72: 0.1769662921348315,\n",
       " 73: 0.1769662921348315,\n",
       " 74: 0.1769662921348315,\n",
       " 75: 0.175561797752809,\n",
       " 76: 0.175561797752809,\n",
       " 77: 0.175561797752809,\n",
       " 78: 0.1741573033707865,\n",
       " 79: 0.1741573033707865,\n",
       " 80: 0.1741573033707865,\n",
       " 81: 0.172752808988764,\n",
       " 82: 0.172752808988764,\n",
       " 83: 0.172752808988764,\n",
       " 84: 0.172752808988764,\n",
       " 85: 0.172752808988764,\n",
       " 86: 0.172752808988764,\n",
       " 87: 0.172752808988764,\n",
       " 88: 0.172752808988764,\n",
       " 89: 0.172752808988764,\n",
       " 90: 0.172752808988764,\n",
       " 91: 0.172752808988764,\n",
       " 92: 0.172752808988764,\n",
       " 93: 0.172752808988764,\n",
       " 94: 0.172752808988764,\n",
       " 95: 0.1741573033707865,\n",
       " 96: 0.1741573033707865,\n",
       " 97: 0.1741573033707865,\n",
       " 98: 0.1741573033707865,\n",
       " 99: 0.1741573033707865,\n",
       " 100: 0.1741573033707865,\n",
       " 101: 0.172752808988764,\n",
       " 102: 0.172752808988764,\n",
       " 103: 0.172752808988764,\n",
       " 104: 0.172752808988764,\n",
       " 105: 0.172752808988764,\n",
       " 106: 0.172752808988764,\n",
       " 107: 0.172752808988764,\n",
       " 108: 0.172752808988764,\n",
       " 109: 0.172752808988764,\n",
       " 110: 0.172752808988764,\n",
       " 111: 0.172752808988764,\n",
       " 112: 0.172752808988764,\n",
       " 113: 0.172752808988764,\n",
       " 114: 0.172752808988764,\n",
       " 115: 0.172752808988764,\n",
       " 116: 0.172752808988764,\n",
       " 117: 0.172752808988764,\n",
       " 118: 0.172752808988764,\n",
       " 119: 0.172752808988764,\n",
       " 120: 0.172752808988764,\n",
       " 121: 0.172752808988764,\n",
       " 122: 0.172752808988764,\n",
       " 123: 0.172752808988764,\n",
       " 124: 0.172752808988764,\n",
       " 125: 0.172752808988764,\n",
       " 126: 0.172752808988764,\n",
       " 127: 0.172752808988764,\n",
       " 128: 0.172752808988764,\n",
       " 129: 0.172752808988764,\n",
       " 130: 0.172752808988764,\n",
       " 131: 0.172752808988764,\n",
       " 132: 0.172752808988764,\n",
       " 133: 0.172752808988764,\n",
       " 134: 0.172752808988764,\n",
       " 135: 0.172752808988764,\n",
       " 136: 0.172752808988764,\n",
       " 137: 0.172752808988764,\n",
       " 138: 0.172752808988764,\n",
       " 139: 0.172752808988764,\n",
       " 140: 0.172752808988764,\n",
       " 141: 0.172752808988764,\n",
       " 142: 0.172752808988764,\n",
       " 143: 0.172752808988764,\n",
       " 144: 0.172752808988764,\n",
       " 145: 0.172752808988764,\n",
       " 146: 0.172752808988764,\n",
       " 147: 0.172752808988764,\n",
       " 148: 0.172752808988764,\n",
       " 149: 0.172752808988764,\n",
       " 150: 0.172752808988764,\n",
       " 151: 0.172752808988764,\n",
       " 152: 0.172752808988764,\n",
       " 153: 0.172752808988764,\n",
       " 154: 0.172752808988764,\n",
       " 155: 0.172752808988764,\n",
       " 156: 0.172752808988764,\n",
       " 157: 0.172752808988764,\n",
       " 158: 0.172752808988764,\n",
       " 159: 0.172752808988764,\n",
       " 160: 0.172752808988764,\n",
       " 161: 0.172752808988764,\n",
       " 162: 0.172752808988764,\n",
       " 163: 0.172752808988764,\n",
       " 164: 0.172752808988764,\n",
       " 165: 0.172752808988764,\n",
       " 166: 0.172752808988764,\n",
       " 167: 0.172752808988764,\n",
       " 168: 0.172752808988764,\n",
       " 169: 0.172752808988764,\n",
       " 170: 0.172752808988764,\n",
       " 171: 0.172752808988764,\n",
       " 172: 0.172752808988764,\n",
       " 173: 0.172752808988764,\n",
       " 174: 0.172752808988764,\n",
       " 175: 0.172752808988764,\n",
       " 176: 0.172752808988764,\n",
       " 177: 0.172752808988764,\n",
       " 178: 0.172752808988764,\n",
       " 179: 0.172752808988764,\n",
       " 180: 0.172752808988764,\n",
       " 181: 0.172752808988764,\n",
       " 182: 0.172752808988764,\n",
       " 183: 0.172752808988764,\n",
       " 184: 0.172752808988764,\n",
       " 185: 0.172752808988764,\n",
       " 186: 0.172752808988764,\n",
       " 187: 0.172752808988764,\n",
       " 188: 0.172752808988764,\n",
       " 189: 0.172752808988764,\n",
       " 190: 0.172752808988764,\n",
       " 191: 0.172752808988764,\n",
       " 192: 0.172752808988764,\n",
       " 193: 0.172752808988764,\n",
       " 194: 0.172752808988764,\n",
       " 195: 0.172752808988764,\n",
       " 196: 0.172752808988764,\n",
       " 197: 0.172752808988764,\n",
       " 198: 0.172752808988764,\n",
       " 199: 0.172752808988764,\n",
       " 200: 0.172752808988764,\n",
       " 201: 0.172752808988764,\n",
       " 202: 0.172752808988764,\n",
       " 203: 0.172752808988764,\n",
       " 204: 0.172752808988764,\n",
       " 205: 0.172752808988764,\n",
       " 206: 0.172752808988764,\n",
       " 207: 0.172752808988764,\n",
       " 208: 0.172752808988764,\n",
       " 209: 0.172752808988764,\n",
       " 210: 0.172752808988764,\n",
       " 211: 0.172752808988764,\n",
       " 212: 0.172752808988764,\n",
       " 213: 0.172752808988764,\n",
       " 214: 0.172752808988764,\n",
       " 215: 0.172752808988764,\n",
       " 216: 0.172752808988764,\n",
       " 217: 0.172752808988764,\n",
       " 218: 0.172752808988764,\n",
       " 219: 0.172752808988764,\n",
       " 220: 0.172752808988764,\n",
       " 221: 0.172752808988764,\n",
       " 222: 0.172752808988764,\n",
       " 223: 0.172752808988764,\n",
       " 224: 0.172752808988764,\n",
       " 225: 0.172752808988764,\n",
       " 226: 0.172752808988764,\n",
       " 227: 0.172752808988764,\n",
       " 228: 0.172752808988764,\n",
       " 229: 0.172752808988764,\n",
       " 230: 0.172752808988764,\n",
       " 231: 0.1741573033707865,\n",
       " 232: 0.1741573033707865,\n",
       " 233: 0.1741573033707865,\n",
       " 234: 0.1741573033707865,\n",
       " 235: 0.1741573033707865,\n",
       " 236: 0.1741573033707865,\n",
       " 237: 0.1741573033707865,\n",
       " 238: 0.1741573033707865,\n",
       " 239: 0.1741573033707865,\n",
       " 240: 0.1741573033707865,\n",
       " 241: 0.1741573033707865,\n",
       " 242: 0.172752808988764,\n",
       " 243: 0.172752808988764,\n",
       " 244: 0.1741573033707865,\n",
       " 245: 0.1741573033707865,\n",
       " 246: 0.1741573033707865,\n",
       " 247: 0.1741573033707865,\n",
       " 248: 0.1741573033707865,\n",
       " 249: 0.1741573033707865,\n",
       " 250: 0.1741573033707865,\n",
       " 251: 0.1741573033707865,\n",
       " 252: 0.1741573033707865,\n",
       " 253: 0.1741573033707865,\n",
       " 254: 0.1741573033707865,\n",
       " 255: 0.1741573033707865,\n",
       " 256: 0.1741573033707865,\n",
       " 257: 0.1741573033707865,\n",
       " 258: 0.1741573033707865,\n",
       " 259: 0.1741573033707865,\n",
       " 260: 0.1741573033707865,\n",
       " 261: 0.1741573033707865,\n",
       " 262: 0.1741573033707865,\n",
       " 263: 0.1741573033707865,\n",
       " 264: 0.1741573033707865,\n",
       " 265: 0.1741573033707865,\n",
       " 266: 0.1741573033707865,\n",
       " 267: 0.1741573033707865,\n",
       " 268: 0.172752808988764,\n",
       " 269: 0.172752808988764,\n",
       " 270: 0.172752808988764,\n",
       " 271: 0.172752808988764,\n",
       " 272: 0.172752808988764,\n",
       " 273: 0.172752808988764,\n",
       " 274: 0.172752808988764,\n",
       " 275: 0.172752808988764,\n",
       " 276: 0.172752808988764,\n",
       " 277: 0.172752808988764,\n",
       " 278: 0.172752808988764,\n",
       " 279: 0.172752808988764,\n",
       " 280: 0.172752808988764,\n",
       " 281: 0.172752808988764,\n",
       " 282: 0.172752808988764,\n",
       " 283: 0.172752808988764,\n",
       " 284: 0.172752808988764,\n",
       " 285: 0.172752808988764,\n",
       " 286: 0.172752808988764,\n",
       " 287: 0.172752808988764,\n",
       " 288: 0.172752808988764,\n",
       " 289: 0.172752808988764,\n",
       " 290: 0.172752808988764,\n",
       " 291: 0.172752808988764,\n",
       " 292: 0.172752808988764,\n",
       " 293: 0.172752808988764,\n",
       " 294: 0.172752808988764,\n",
       " 295: 0.172752808988764,\n",
       " 296: 0.172752808988764,\n",
       " 297: 0.172752808988764,\n",
       " 298: 0.172752808988764,\n",
       " 299: 0.172752808988764,\n",
       " 300: 0.172752808988764,\n",
       " 301: 0.172752808988764,\n",
       " 302: 0.172752808988764,\n",
       " 303: 0.172752808988764,\n",
       " 304: 0.172752808988764,\n",
       " 305: 0.172752808988764,\n",
       " 306: 0.172752808988764,\n",
       " 307: 0.172752808988764,\n",
       " 308: 0.172752808988764,\n",
       " 309: 0.172752808988764,\n",
       " 310: 0.172752808988764,\n",
       " 311: 0.172752808988764,\n",
       " 312: 0.172752808988764,\n",
       " 313: 0.172752808988764,\n",
       " 314: 0.172752808988764,\n",
       " 315: 0.172752808988764,\n",
       " 316: 0.172752808988764,\n",
       " 317: 0.172752808988764,\n",
       " 318: 0.172752808988764,\n",
       " 319: 0.172752808988764,\n",
       " 320: 0.172752808988764,\n",
       " 321: 0.172752808988764,\n",
       " 322: 0.172752808988764,\n",
       " 323: 0.172752808988764,\n",
       " 324: 0.172752808988764,\n",
       " 325: 0.172752808988764,\n",
       " 326: 0.172752808988764,\n",
       " 327: 0.172752808988764,\n",
       " 328: 0.172752808988764,\n",
       " 329: 0.172752808988764,\n",
       " 330: 0.172752808988764,\n",
       " 331: 0.172752808988764,\n",
       " 332: 0.172752808988764,\n",
       " 333: 0.172752808988764,\n",
       " 334: 0.172752808988764,\n",
       " 335: 0.172752808988764,\n",
       " 336: 0.172752808988764,\n",
       " 337: 0.172752808988764,\n",
       " 338: 0.172752808988764,\n",
       " 339: 0.172752808988764,\n",
       " 340: 0.172752808988764,\n",
       " 341: 0.172752808988764,\n",
       " 342: 0.172752808988764,\n",
       " 343: 0.172752808988764,\n",
       " 344: 0.172752808988764,\n",
       " 345: 0.172752808988764,\n",
       " 346: 0.172752808988764,\n",
       " 347: 0.172752808988764,\n",
       " 348: 0.172752808988764,\n",
       " 349: 0.172752808988764,\n",
       " 350: 0.172752808988764,\n",
       " 351: 0.172752808988764,\n",
       " 352: 0.172752808988764,\n",
       " 353: 0.172752808988764,\n",
       " 354: 0.172752808988764,\n",
       " 355: 0.172752808988764,\n",
       " 356: 0.172752808988764,\n",
       " 357: 0.172752808988764,\n",
       " 358: 0.172752808988764,\n",
       " 359: 0.172752808988764,\n",
       " 360: 0.172752808988764,\n",
       " 361: 0.172752808988764,\n",
       " 362: 0.172752808988764,\n",
       " 363: 0.172752808988764,\n",
       " 364: 0.172752808988764,\n",
       " 365: 0.172752808988764,\n",
       " 366: 0.172752808988764,\n",
       " 367: 0.172752808988764,\n",
       " 368: 0.172752808988764,\n",
       " 369: 0.172752808988764,\n",
       " 370: 0.172752808988764,\n",
       " 371: 0.172752808988764,\n",
       " 372: 0.172752808988764,\n",
       " 373: 0.172752808988764,\n",
       " 374: 0.172752808988764,\n",
       " 375: 0.172752808988764,\n",
       " 376: 0.172752808988764,\n",
       " 377: 0.172752808988764,\n",
       " 378: 0.172752808988764,\n",
       " 379: 0.172752808988764,\n",
       " 380: 0.172752808988764,\n",
       " 381: 0.172752808988764,\n",
       " 382: 0.172752808988764,\n",
       " 383: 0.172752808988764,\n",
       " 384: 0.172752808988764,\n",
       " 385: 0.172752808988764,\n",
       " 386: 0.172752808988764,\n",
       " 387: 0.172752808988764,\n",
       " 388: 0.172752808988764,\n",
       " 389: 0.172752808988764,\n",
       " 390: 0.172752808988764,\n",
       " 391: 0.172752808988764,\n",
       " 392: 0.172752808988764,\n",
       " 393: 0.172752808988764,\n",
       " 394: 0.172752808988764,\n",
       " 395: 0.172752808988764,\n",
       " 396: 0.172752808988764,\n",
       " 397: 0.172752808988764,\n",
       " 398: 0.172752808988764,\n",
       " 399: 0.172752808988764,\n",
       " 400: 0.172752808988764,\n",
       " 401: 0.172752808988764,\n",
       " 402: 0.172752808988764,\n",
       " 403: 0.172752808988764,\n",
       " 404: 0.172752808988764,\n",
       " 405: 0.172752808988764,\n",
       " 406: 0.172752808988764,\n",
       " 407: 0.172752808988764,\n",
       " 408: 0.172752808988764,\n",
       " 409: 0.172752808988764,\n",
       " 410: 0.172752808988764,\n",
       " 411: 0.172752808988764,\n",
       " 412: 0.172752808988764,\n",
       " 413: 0.172752808988764,\n",
       " 414: 0.172752808988764,\n",
       " 415: 0.172752808988764,\n",
       " 416: 0.172752808988764,\n",
       " 417: 0.172752808988764,\n",
       " 418: 0.172752808988764,\n",
       " 419: 0.172752808988764,\n",
       " 420: 0.172752808988764,\n",
       " 421: 0.172752808988764,\n",
       " 422: 0.172752808988764,\n",
       " 423: 0.172752808988764,\n",
       " 424: 0.172752808988764,\n",
       " 425: 0.172752808988764,\n",
       " 426: 0.172752808988764,\n",
       " 427: 0.172752808988764,\n",
       " 428: 0.172752808988764,\n",
       " 429: 0.172752808988764,\n",
       " 430: 0.172752808988764,\n",
       " 431: 0.172752808988764,\n",
       " 432: 0.172752808988764,\n",
       " 433: 0.172752808988764,\n",
       " 434: 0.172752808988764,\n",
       " 435: 0.172752808988764,\n",
       " 436: 0.172752808988764,\n",
       " 437: 0.172752808988764,\n",
       " 438: 0.172752808988764,\n",
       " 439: 0.172752808988764,\n",
       " 440: 0.172752808988764,\n",
       " 441: 0.172752808988764,\n",
       " 442: 0.172752808988764,\n",
       " 443: 0.172752808988764,\n",
       " 444: 0.172752808988764,\n",
       " 445: 0.172752808988764,\n",
       " 446: 0.172752808988764,\n",
       " 447: 0.172752808988764,\n",
       " 448: 0.172752808988764,\n",
       " 449: 0.172752808988764,\n",
       " 450: 0.172752808988764,\n",
       " 451: 0.172752808988764,\n",
       " 452: 0.172752808988764,\n",
       " 453: 0.172752808988764,\n",
       " 454: 0.172752808988764,\n",
       " 455: 0.172752808988764,\n",
       " 456: 0.172752808988764,\n",
       " 457: 0.172752808988764,\n",
       " 458: 0.172752808988764,\n",
       " 459: 0.172752808988764,\n",
       " 460: 0.172752808988764,\n",
       " 461: 0.172752808988764,\n",
       " 462: 0.172752808988764,\n",
       " 463: 0.172752808988764,\n",
       " 464: 0.172752808988764,\n",
       " 465: 0.172752808988764,\n",
       " 466: 0.172752808988764,\n",
       " 467: 0.172752808988764,\n",
       " 468: 0.172752808988764,\n",
       " 469: 0.172752808988764,\n",
       " 470: 0.172752808988764,\n",
       " 471: 0.172752808988764,\n",
       " 472: 0.172752808988764,\n",
       " 473: 0.172752808988764,\n",
       " 474: 0.172752808988764,\n",
       " 475: 0.172752808988764,\n",
       " 476: 0.172752808988764,\n",
       " 477: 0.172752808988764,\n",
       " 478: 0.172752808988764,\n",
       " 479: 0.172752808988764,\n",
       " 480: 0.172752808988764,\n",
       " 481: 0.172752808988764,\n",
       " 482: 0.172752808988764,\n",
       " 483: 0.172752808988764,\n",
       " 484: 0.172752808988764,\n",
       " 485: 0.172752808988764,\n",
       " 486: 0.172752808988764,\n",
       " 487: 0.172752808988764,\n",
       " 488: 0.172752808988764,\n",
       " 489: 0.172752808988764,\n",
       " 490: 0.172752808988764,\n",
       " 491: 0.172752808988764,\n",
       " 492: 0.172752808988764,\n",
       " 493: 0.172752808988764,\n",
       " 494: 0.172752808988764,\n",
       " 495: 0.172752808988764,\n",
       " 496: 0.172752808988764,\n",
       " 497: 0.172752808988764,\n",
       " 498: 0.172752808988764,\n",
       " 499: 0.172752808988764,\n",
       " 500: 0.172752808988764,\n",
       " 501: 0.172752808988764,\n",
       " 502: 0.172752808988764,\n",
       " 503: 0.172752808988764,\n",
       " 504: 0.172752808988764,\n",
       " 505: 0.172752808988764,\n",
       " 506: 0.172752808988764,\n",
       " 507: 0.172752808988764,\n",
       " 508: 0.172752808988764,\n",
       " 509: 0.172752808988764,\n",
       " 510: 0.172752808988764,\n",
       " 511: 0.172752808988764,\n",
       " 512: 0.172752808988764,\n",
       " 513: 0.172752808988764,\n",
       " 514: 0.172752808988764,\n",
       " 515: 0.172752808988764,\n",
       " 516: 0.172752808988764,\n",
       " 517: 0.172752808988764,\n",
       " 518: 0.172752808988764,\n",
       " 519: 0.172752808988764,\n",
       " 520: 0.172752808988764,\n",
       " 521: 0.172752808988764,\n",
       " 522: 0.172752808988764,\n",
       " 523: 0.172752808988764,\n",
       " 524: 0.172752808988764,\n",
       " 525: 0.172752808988764,\n",
       " 526: 0.172752808988764,\n",
       " 527: 0.172752808988764,\n",
       " 528: 0.172752808988764,\n",
       " 529: 0.172752808988764,\n",
       " 530: 0.172752808988764,\n",
       " 531: 0.172752808988764,\n",
       " 532: 0.172752808988764,\n",
       " 533: 0.172752808988764,\n",
       " 534: 0.172752808988764,\n",
       " 535: 0.172752808988764,\n",
       " 536: 0.172752808988764,\n",
       " 537: 0.172752808988764,\n",
       " 538: 0.172752808988764,\n",
       " 539: 0.172752808988764,\n",
       " 540: 0.172752808988764,\n",
       " 541: 0.172752808988764,\n",
       " 542: 0.172752808988764,\n",
       " 543: 0.172752808988764,\n",
       " 544: 0.172752808988764,\n",
       " 545: 0.172752808988764,\n",
       " 546: 0.172752808988764,\n",
       " 547: 0.172752808988764,\n",
       " 548: 0.172752808988764,\n",
       " 549: 0.172752808988764,\n",
       " 550: 0.172752808988764,\n",
       " 551: 0.172752808988764,\n",
       " 552: 0.172752808988764,\n",
       " 553: 0.172752808988764,\n",
       " 554: 0.172752808988764,\n",
       " 555: 0.172752808988764,\n",
       " 556: 0.172752808988764,\n",
       " 557: 0.172752808988764,\n",
       " 558: 0.172752808988764,\n",
       " 559: 0.172752808988764,\n",
       " 560: 0.172752808988764,\n",
       " 561: 0.172752808988764,\n",
       " 562: 0.172752808988764,\n",
       " 563: 0.172752808988764,\n",
       " 564: 0.172752808988764,\n",
       " 565: 0.172752808988764,\n",
       " 566: 0.172752808988764,\n",
       " 567: 0.172752808988764,\n",
       " 568: 0.172752808988764,\n",
       " 569: 0.172752808988764,\n",
       " 570: 0.172752808988764,\n",
       " 571: 0.172752808988764,\n",
       " 572: 0.172752808988764,\n",
       " 573: 0.172752808988764,\n",
       " 574: 0.172752808988764,\n",
       " 575: 0.172752808988764,\n",
       " 576: 0.172752808988764,\n",
       " 577: 0.172752808988764,\n",
       " 578: 0.172752808988764,\n",
       " 579: 0.172752808988764,\n",
       " 580: 0.172752808988764,\n",
       " 581: 0.172752808988764,\n",
       " 582: 0.172752808988764,\n",
       " 583: 0.172752808988764,\n",
       " 584: 0.172752808988764,\n",
       " 585: 0.172752808988764,\n",
       " 586: 0.172752808988764,\n",
       " 587: 0.172752808988764,\n",
       " 588: 0.172752808988764,\n",
       " 589: 0.172752808988764,\n",
       " 590: 0.172752808988764,\n",
       " 591: 0.172752808988764,\n",
       " 592: 0.172752808988764,\n",
       " 593: 0.172752808988764,\n",
       " 594: 0.172752808988764,\n",
       " 595: 0.172752808988764,\n",
       " 596: 0.172752808988764,\n",
       " 597: 0.172752808988764,\n",
       " 598: 0.172752808988764,\n",
       " 599: 0.172752808988764,\n",
       " 600: 0.172752808988764,\n",
       " 601: 0.172752808988764,\n",
       " 602: 0.172752808988764,\n",
       " 603: 0.172752808988764,\n",
       " 604: 0.172752808988764,\n",
       " 605: 0.172752808988764,\n",
       " 606: 0.172752808988764,\n",
       " 607: 0.172752808988764,\n",
       " 608: 0.172752808988764,\n",
       " 609: 0.172752808988764,\n",
       " 610: 0.172752808988764,\n",
       " 611: 0.172752808988764,\n",
       " 612: 0.172752808988764,\n",
       " 613: 0.172752808988764,\n",
       " 614: 0.172752808988764,\n",
       " 615: 0.172752808988764,\n",
       " 616: 0.172752808988764,\n",
       " 617: 0.172752808988764,\n",
       " 618: 0.172752808988764,\n",
       " 619: 0.172752808988764,\n",
       " 620: 0.172752808988764,\n",
       " 621: 0.172752808988764,\n",
       " 622: 0.172752808988764,\n",
       " 623: 0.172752808988764,\n",
       " 624: 0.172752808988764,\n",
       " 625: 0.172752808988764,\n",
       " 626: 0.172752808988764,\n",
       " 627: 0.172752808988764,\n",
       " 628: 0.172752808988764,\n",
       " 629: 0.172752808988764,\n",
       " 630: 0.172752808988764,\n",
       " 631: 0.172752808988764,\n",
       " 632: 0.172752808988764,\n",
       " 633: 0.172752808988764,\n",
       " 634: 0.172752808988764,\n",
       " 635: 0.172752808988764,\n",
       " 636: 0.172752808988764,\n",
       " 637: 0.172752808988764,\n",
       " 638: 0.172752808988764,\n",
       " 639: 0.172752808988764,\n",
       " 640: 0.172752808988764,\n",
       " 641: 0.172752808988764,\n",
       " 642: 0.172752808988764,\n",
       " 643: 0.172752808988764,\n",
       " 644: 0.172752808988764,\n",
       " 645: 0.172752808988764,\n",
       " 646: 0.172752808988764,\n",
       " 647: 0.172752808988764,\n",
       " 648: 0.172752808988764,\n",
       " 649: 0.172752808988764,\n",
       " 650: 0.172752808988764,\n",
       " 651: 0.172752808988764,\n",
       " 652: 0.172752808988764,\n",
       " 653: 0.172752808988764,\n",
       " 654: 0.172752808988764,\n",
       " 655: 0.172752808988764,\n",
       " 656: 0.172752808988764,\n",
       " 657: 0.172752808988764,\n",
       " 658: 0.172752808988764,\n",
       " 659: 0.172752808988764,\n",
       " 660: 0.172752808988764,\n",
       " 661: 0.172752808988764,\n",
       " 662: 0.172752808988764,\n",
       " 663: 0.172752808988764,\n",
       " 664: 0.172752808988764,\n",
       " 665: 0.172752808988764,\n",
       " 666: 0.172752808988764,\n",
       " 667: 0.172752808988764,\n",
       " 668: 0.172752808988764,\n",
       " 669: 0.172752808988764,\n",
       " 670: 0.172752808988764,\n",
       " 671: 0.172752808988764,\n",
       " 672: 0.172752808988764,\n",
       " 673: 0.172752808988764,\n",
       " 674: 0.172752808988764,\n",
       " 675: 0.172752808988764,\n",
       " 676: 0.172752808988764,\n",
       " 677: 0.172752808988764,\n",
       " 678: 0.172752808988764,\n",
       " 679: 0.172752808988764,\n",
       " 680: 0.172752808988764,\n",
       " 681: 0.172752808988764,\n",
       " 682: 0.172752808988764,\n",
       " 683: 0.172752808988764,\n",
       " 684: 0.172752808988764,\n",
       " 685: 0.172752808988764,\n",
       " 686: 0.172752808988764,\n",
       " 687: 0.172752808988764,\n",
       " 688: 0.172752808988764,\n",
       " 689: 0.172752808988764,\n",
       " 690: 0.172752808988764,\n",
       " 691: 0.172752808988764,\n",
       " 692: 0.172752808988764,\n",
       " 693: 0.172752808988764,\n",
       " 694: 0.172752808988764,\n",
       " 695: 0.172752808988764,\n",
       " 696: 0.172752808988764,\n",
       " 697: 0.172752808988764,\n",
       " 698: 0.172752808988764,\n",
       " 699: 0.172752808988764,\n",
       " 700: 0.172752808988764,\n",
       " 701: 0.172752808988764,\n",
       " 702: 0.172752808988764,\n",
       " 703: 0.172752808988764,\n",
       " 704: 0.172752808988764,\n",
       " 705: 0.172752808988764,\n",
       " 706: 0.172752808988764,\n",
       " 707: 0.172752808988764,\n",
       " 708: 0.172752808988764,\n",
       " 709: 0.172752808988764,\n",
       " 710: 0.172752808988764,\n",
       " 711: 0.172752808988764,\n",
       " 712: 0.172752808988764,\n",
       " 713: 0.172752808988764,\n",
       " 714: 0.172752808988764,\n",
       " 715: 0.172752808988764,\n",
       " 716: 0.172752808988764,\n",
       " 717: 0.172752808988764,\n",
       " 718: 0.172752808988764,\n",
       " 719: 0.172752808988764,\n",
       " 720: 0.172752808988764,\n",
       " 721: 0.172752808988764,\n",
       " 722: 0.172752808988764,\n",
       " 723: 0.172752808988764,\n",
       " 724: 0.172752808988764,\n",
       " 725: 0.172752808988764,\n",
       " 726: 0.172752808988764,\n",
       " 727: 0.172752808988764,\n",
       " 728: 0.172752808988764,\n",
       " 729: 0.172752808988764,\n",
       " 730: 0.172752808988764,\n",
       " 731: 0.172752808988764,\n",
       " 732: 0.172752808988764,\n",
       " 733: 0.172752808988764,\n",
       " 734: 0.172752808988764,\n",
       " 735: 0.172752808988764,\n",
       " 736: 0.172752808988764,\n",
       " 737: 0.172752808988764,\n",
       " 738: 0.172752808988764,\n",
       " 739: 0.172752808988764,\n",
       " 740: 0.172752808988764,\n",
       " 741: 0.172752808988764,\n",
       " 742: 0.172752808988764,\n",
       " 743: 0.172752808988764,\n",
       " 744: 0.172752808988764,\n",
       " 745: 0.172752808988764,\n",
       " 746: 0.172752808988764,\n",
       " 747: 0.172752808988764,\n",
       " 748: 0.172752808988764,\n",
       " 749: 0.172752808988764,\n",
       " 750: 0.172752808988764,\n",
       " 751: 0.172752808988764,\n",
       " 752: 0.172752808988764,\n",
       " 753: 0.172752808988764,\n",
       " 754: 0.172752808988764,\n",
       " 755: 0.172752808988764,\n",
       " 756: 0.172752808988764,\n",
       " 757: 0.172752808988764,\n",
       " 758: 0.172752808988764,\n",
       " 759: 0.172752808988764,\n",
       " 760: 0.172752808988764,\n",
       " 761: 0.172752808988764,\n",
       " 762: 0.172752808988764,\n",
       " 763: 0.172752808988764,\n",
       " 764: 0.172752808988764,\n",
       " 765: 0.172752808988764,\n",
       " 766: 0.172752808988764,\n",
       " 767: 0.172752808988764,\n",
       " 768: 0.172752808988764,\n",
       " 769: 0.172752808988764,\n",
       " 770: 0.172752808988764,\n",
       " 771: 0.172752808988764,\n",
       " 772: 0.172752808988764,\n",
       " 773: 0.172752808988764,\n",
       " 774: 0.172752808988764,\n",
       " 775: 0.172752808988764,\n",
       " 776: 0.172752808988764,\n",
       " 777: 0.172752808988764,\n",
       " 778: 0.172752808988764,\n",
       " 779: 0.172752808988764,\n",
       " 780: 0.172752808988764,\n",
       " 781: 0.172752808988764,\n",
       " 782: 0.172752808988764,\n",
       " 783: 0.172752808988764,\n",
       " 784: 0.172752808988764,\n",
       " 785: 0.172752808988764,\n",
       " 786: 0.172752808988764,\n",
       " 787: 0.172752808988764,\n",
       " 788: 0.172752808988764,\n",
       " 789: 0.172752808988764,\n",
       " 790: 0.172752808988764,\n",
       " 791: 0.172752808988764,\n",
       " 792: 0.172752808988764,\n",
       " 793: 0.172752808988764,\n",
       " 794: 0.172752808988764,\n",
       " 795: 0.172752808988764,\n",
       " 796: 0.172752808988764,\n",
       " 797: 0.172752808988764,\n",
       " 798: 0.172752808988764,\n",
       " 799: 0.172752808988764,\n",
       " 800: 0.172752808988764,\n",
       " 801: 0.172752808988764,\n",
       " 802: 0.172752808988764,\n",
       " 803: 0.172752808988764,\n",
       " 804: 0.172752808988764,\n",
       " 805: 0.172752808988764,\n",
       " 806: 0.172752808988764,\n",
       " 807: 0.172752808988764,\n",
       " 808: 0.172752808988764,\n",
       " 809: 0.172752808988764,\n",
       " 810: 0.172752808988764,\n",
       " 811: 0.172752808988764,\n",
       " 812: 0.172752808988764,\n",
       " 813: 0.172752808988764,\n",
       " 814: 0.172752808988764,\n",
       " 815: 0.172752808988764,\n",
       " 816: 0.172752808988764,\n",
       " 817: 0.172752808988764,\n",
       " 818: 0.172752808988764,\n",
       " 819: 0.172752808988764,\n",
       " 820: 0.172752808988764,\n",
       " 821: 0.172752808988764,\n",
       " 822: 0.172752808988764,\n",
       " 823: 0.172752808988764,\n",
       " 824: 0.172752808988764,\n",
       " 825: 0.172752808988764,\n",
       " 826: 0.172752808988764,\n",
       " 827: 0.172752808988764,\n",
       " 828: 0.172752808988764,\n",
       " 829: 0.172752808988764,\n",
       " 830: 0.172752808988764,\n",
       " 831: 0.172752808988764,\n",
       " 832: 0.172752808988764,\n",
       " 833: 0.172752808988764,\n",
       " 834: 0.172752808988764,\n",
       " 835: 0.172752808988764,\n",
       " 836: 0.172752808988764,\n",
       " 837: 0.172752808988764,\n",
       " 838: 0.172752808988764,\n",
       " 839: 0.172752808988764,\n",
       " 840: 0.172752808988764,\n",
       " 841: 0.172752808988764,\n",
       " 842: 0.172752808988764,\n",
       " 843: 0.172752808988764,\n",
       " 844: 0.172752808988764,\n",
       " 845: 0.172752808988764,\n",
       " 846: 0.172752808988764,\n",
       " 847: 0.172752808988764,\n",
       " 848: 0.172752808988764,\n",
       " 849: 0.172752808988764,\n",
       " 850: 0.172752808988764,\n",
       " 851: 0.172752808988764,\n",
       " 852: 0.172752808988764,\n",
       " 853: 0.172752808988764,\n",
       " 854: 0.172752808988764,\n",
       " 855: 0.172752808988764,\n",
       " 856: 0.172752808988764,\n",
       " 857: 0.172752808988764,\n",
       " 858: 0.172752808988764,\n",
       " 859: 0.172752808988764,\n",
       " 860: 0.172752808988764,\n",
       " 861: 0.172752808988764,\n",
       " 862: 0.172752808988764,\n",
       " 863: 0.172752808988764,\n",
       " 864: 0.172752808988764,\n",
       " 865: 0.172752808988764,\n",
       " 866: 0.172752808988764,\n",
       " 867: 0.172752808988764,\n",
       " 868: 0.172752808988764,\n",
       " 869: 0.172752808988764,\n",
       " 870: 0.172752808988764,\n",
       " 871: 0.172752808988764,\n",
       " 872: 0.172752808988764,\n",
       " 873: 0.172752808988764,\n",
       " 874: 0.172752808988764,\n",
       " 875: 0.172752808988764,\n",
       " 876: 0.172752808988764,\n",
       " 877: 0.172752808988764,\n",
       " 878: 0.172752808988764,\n",
       " 879: 0.172752808988764,\n",
       " 880: 0.172752808988764,\n",
       " 881: 0.172752808988764,\n",
       " 882: 0.172752808988764,\n",
       " 883: 0.172752808988764,\n",
       " 884: 0.172752808988764,\n",
       " 885: 0.172752808988764,\n",
       " 886: 0.172752808988764,\n",
       " 887: 0.172752808988764,\n",
       " 888: 0.172752808988764,\n",
       " 889: 0.172752808988764,\n",
       " 890: 0.172752808988764,\n",
       " 891: 0.172752808988764,\n",
       " 892: 0.172752808988764,\n",
       " 893: 0.172752808988764,\n",
       " 894: 0.172752808988764,\n",
       " 895: 0.172752808988764,\n",
       " 896: 0.172752808988764,\n",
       " 897: 0.172752808988764,\n",
       " 898: 0.172752808988764,\n",
       " 899: 0.172752808988764,\n",
       " 900: 0.172752808988764,\n",
       " 901: 0.172752808988764,\n",
       " 902: 0.172752808988764,\n",
       " 903: 0.172752808988764,\n",
       " 904: 0.172752808988764,\n",
       " 905: 0.172752808988764,\n",
       " 906: 0.172752808988764,\n",
       " 907: 0.172752808988764,\n",
       " 908: 0.172752808988764,\n",
       " 909: 0.172752808988764,\n",
       " 910: 0.172752808988764,\n",
       " 911: 0.172752808988764,\n",
       " 912: 0.172752808988764,\n",
       " 913: 0.172752808988764,\n",
       " 914: 0.172752808988764,\n",
       " 915: 0.172752808988764,\n",
       " 916: 0.172752808988764,\n",
       " 917: 0.172752808988764,\n",
       " 918: 0.172752808988764,\n",
       " 919: 0.172752808988764,\n",
       " 920: 0.172752808988764,\n",
       " 921: 0.172752808988764,\n",
       " 922: 0.172752808988764,\n",
       " 923: 0.172752808988764,\n",
       " 924: 0.172752808988764,\n",
       " 925: 0.172752808988764,\n",
       " 926: 0.172752808988764,\n",
       " 927: 0.172752808988764,\n",
       " 928: 0.172752808988764,\n",
       " 929: 0.172752808988764,\n",
       " 930: 0.172752808988764,\n",
       " 931: 0.172752808988764,\n",
       " 932: 0.172752808988764,\n",
       " 933: 0.172752808988764,\n",
       " 934: 0.172752808988764,\n",
       " 935: 0.172752808988764,\n",
       " 936: 0.172752808988764,\n",
       " 937: 0.172752808988764,\n",
       " 938: 0.172752808988764,\n",
       " 939: 0.172752808988764,\n",
       " 940: 0.172752808988764,\n",
       " 941: 0.172752808988764,\n",
       " 942: 0.172752808988764,\n",
       " 943: 0.172752808988764,\n",
       " 944: 0.172752808988764,\n",
       " 945: 0.172752808988764,\n",
       " 946: 0.172752808988764,\n",
       " 947: 0.172752808988764,\n",
       " 948: 0.172752808988764,\n",
       " 949: 0.172752808988764,\n",
       " 950: 0.172752808988764,\n",
       " 951: 0.172752808988764,\n",
       " 952: 0.172752808988764,\n",
       " 953: 0.172752808988764,\n",
       " 954: 0.172752808988764,\n",
       " 955: 0.172752808988764,\n",
       " 956: 0.172752808988764,\n",
       " 957: 0.172752808988764,\n",
       " 958: 0.172752808988764,\n",
       " 959: 0.172752808988764,\n",
       " 960: 0.172752808988764,\n",
       " 961: 0.172752808988764,\n",
       " 962: 0.172752808988764,\n",
       " 963: 0.172752808988764,\n",
       " 964: 0.172752808988764,\n",
       " 965: 0.172752808988764,\n",
       " 966: 0.172752808988764,\n",
       " 967: 0.172752808988764,\n",
       " 968: 0.172752808988764,\n",
       " 969: 0.172752808988764,\n",
       " 970: 0.172752808988764,\n",
       " 971: 0.172752808988764,\n",
       " 972: 0.172752808988764,\n",
       " 973: 0.172752808988764,\n",
       " 974: 0.172752808988764,\n",
       " 975: 0.172752808988764,\n",
       " 976: 0.172752808988764,\n",
       " 977: 0.172752808988764,\n",
       " 978: 0.172752808988764,\n",
       " 979: 0.172752808988764,\n",
       " 980: 0.172752808988764,\n",
       " 981: 0.172752808988764,\n",
       " 982: 0.172752808988764,\n",
       " 983: 0.172752808988764,\n",
       " 984: 0.172752808988764,\n",
       " 985: 0.172752808988764,\n",
       " 986: 0.172752808988764,\n",
       " 987: 0.172752808988764,\n",
       " 988: 0.172752808988764,\n",
       " 989: 0.172752808988764,\n",
       " 990: 0.172752808988764,\n",
       " 991: 0.172752808988764,\n",
       " 992: 0.172752808988764,\n",
       " 993: 0.172752808988764,\n",
       " 994: 0.172752808988764,\n",
       " 995: 0.172752808988764,\n",
       " 996: 0.172752808988764,\n",
       " 997: 0.172752808988764,\n",
       " 998: 0.172752808988764,\n",
       " 999: 0.172752808988764,\n",
       " 1000: 0.172752808988764}"
      ]
     },
     "execution_count": 183,
     "metadata": {},
     "output_type": "execute_result"
    }
   ],
   "source": [
    "error_rate"
   ]
  },
  {
   "cell_type": "code",
   "execution_count": 184,
   "id": "bc6e73fa",
   "metadata": {},
   "outputs": [
    {
     "data": {
      "text/plain": [
       "15      0.185393\n",
       "16      0.189607\n",
       "17      0.189607\n",
       "18      0.186798\n",
       "19      0.185393\n",
       "          ...   \n",
       "996     0.172753\n",
       "997     0.172753\n",
       "998     0.172753\n",
       "999     0.172753\n",
       "1000    0.172753\n",
       "Length: 986, dtype: float64"
      ]
     },
     "execution_count": 184,
     "metadata": {},
     "output_type": "execute_result"
    }
   ],
   "source": [
    "# Convert dictionary to a pandas series for easy plotting \n",
    "oob_series = pd.Series(error_rate)\n",
    "oob_series"
   ]
  },
  {
   "cell_type": "code",
   "execution_count": 185,
   "id": "323a7f0a",
   "metadata": {},
   "outputs": [
    {
     "data": {
      "text/plain": [
       "Text(0.5, 1.0, 'OOB Error Rate Across various Forest sizes (From 15 to 1000 trees)')"
      ]
     },
     "execution_count": 185,
     "metadata": {},
     "output_type": "execute_result"
    },
    {
     "data": {
      "image/png": "[encoded data removed]",
      "text/plain": [
       "<Figure size 1008x720 with 1 Axes>"
      ]
     },
     "metadata": {
      "needs_background": "light"
     },
     "output_type": "display_data"
    }
   ],
   "source": [
    "fig, ax = plt.subplots(figsize=(14, 10))\n",
    "\n",
    "ax.set_facecolor('#fafafa')\n",
    "\n",
    "oob_series.plot(kind='line',color = 'red')\n",
    "#plt.axhline(0.042, color='#875FDB',linestyle='--')\n",
    "#plt.axhline(0.037, color='#875FDB',linestyle='--')\n",
    "plt.xlabel('n_estimators (decision trees)')\n",
    "plt.ylabel('OOB Error Rate')\n",
    "plt.title('OOB Error Rate Across various Forest sizes (From 15 to 1000 trees)')"
   ]
  },
  {
   "cell_type": "code",
   "execution_count": 186,
   "id": "8fcfac5d",
   "metadata": {},
   "outputs": [
    {
     "name": "stdout",
     "output_type": "stream",
     "text": [
      "OOB Error rate for 110 trees is: 0.17275\n"
     ]
    }
   ],
   "source": [
    "print('OOB Error rate for 110 trees is: {0:.5f}'.format(oob_series[110]))"
   ]
  },
  {
   "cell_type": "code",
   "execution_count": 187,
   "id": "40bdbc5d",
   "metadata": {},
   "outputs": [
    {
     "data": {
      "text/plain": [
       "RandomForestClassifier(criterion='entropy', max_depth=3, max_features=None,\n",
       "                       n_estimators=110, random_state=42)"
      ]
     },
     "execution_count": 187,
     "metadata": {},
     "output_type": "execute_result"
    }
   ],
   "source": [
    "# Refine the tree via OOB Output\n",
    "fit_rf.set_params(n_estimators=110,\n",
    "                  bootstrap = True,\n",
    "                  oob_score=False)"
   ]
  },
  {
   "cell_type": "code",
   "execution_count": 188,
   "id": "898aa3b8",
   "metadata": {},
   "outputs": [
    {
     "data": {
      "text/plain": [
       "RandomForestClassifier(criterion='entropy', max_depth=3, max_features=None,\n",
       "                       n_estimators=110, random_state=42)"
      ]
     },
     "execution_count": 188,
     "metadata": {},
     "output_type": "execute_result"
    }
   ],
   "source": [
    "fit_rf.fit(training_set, class_set)"
   ]
  },
  {
   "cell_type": "code",
   "execution_count": 1,
   "id": "1bbfad05",
   "metadata": {},
   "outputs": [
    {
     "ename": "NameError",
     "evalue": "name 'fit_rf' is not defined",
     "output_type": "error",
     "traceback": [
      "\u001b[1;31m---------------------------------------------------------------------------\u001b[0m",
      "\u001b[1;31mNameError\u001b[0m                                 Traceback (most recent call last)",
      "\u001b[1;32m<ipython-input-1-843c5addec37>\u001b[0m in \u001b[0;36m<module>\u001b[1;34m\u001b[0m\n\u001b[1;32m----> 1\u001b[1;33m \u001b[0mpredictions_rf\u001b[0m \u001b[1;33m=\u001b[0m \u001b[0mfit_rf\u001b[0m\u001b[1;33m.\u001b[0m\u001b[0mpredict\u001b[0m\u001b[1;33m(\u001b[0m\u001b[0mtest_set\u001b[0m\u001b[1;33m)\u001b[0m\u001b[1;33m\u001b[0m\u001b[1;33m\u001b[0m\u001b[0m\n\u001b[0m\u001b[0;32m      2\u001b[0m \u001b[0mprediction_rf\u001b[0m\u001b[1;33m\u001b[0m\u001b[1;33m\u001b[0m\u001b[0m\n",
      "\u001b[1;31mNameError\u001b[0m: name 'fit_rf' is not defined"
     ]
    }
   ],
   "source": [
    "predictions_rf = fit_rf.predict(test_set)\n"
   ]
  },
  {
   "cell_type": "code",
   "execution_count": 190,
   "id": "e0c7b215",
   "metadata": {},
   "outputs": [
    {
     "data": {
      "text/plain": [
       "array([[92, 13],\n",
       "       [22, 52]], dtype=int64)"
      ]
     },
     "execution_count": 190,
     "metadata": {},
     "output_type": "execute_result"
    }
   ],
   "source": [
    "confusion_matrix(test_class_set,predictions_rf)"
   ]
  },
  {
   "cell_type": "code",
   "execution_count": 191,
   "id": "ae1097f5",
   "metadata": {},
   "outputs": [
    {
     "data": {
      "image/png": "[encoded data removed]",
      "text/plain": [
       "<Figure size 432x288 with 2 Axes>"
      ]
     },
     "metadata": {
      "needs_background": "light"
     },
     "output_type": "display_data"
    }
   ],
   "source": [
    "cm=confusion_matrix(test_class_set,predictions_rf)\n",
    "ax= plt.subplot()\n",
    "sns.heatmap(cm,annot=True, ax= ax)\n",
    "\n",
    "ax.set_xlabel('Predicted labels');ax.set_ylabel('Actual labels'); \n",
    "ax.set_title('Actual vs. Predicted Confusion Matrix'); \n",
    "ax.xaxis.set_ticklabels(['Not Survived','Survived']); ax.yaxis.set_ticklabels(['Not Survived','Survived']);\n",
    "\n",
    "plt.show()"
   ]
  },
  {
   "cell_type": "code",
   "execution_count": 192,
   "id": "8d694aa5",
   "metadata": {},
   "outputs": [
    {
     "data": {
      "text/plain": [
       "0.8044692737430168"
      ]
     },
     "execution_count": 192,
     "metadata": {},
     "output_type": "execute_result"
    }
   ],
   "source": [
    "from sklearn.metrics import accuracy_score\n",
    "accuracy_rf = accuracy_score(test_class_set,predictions_rf)\n",
    "accuracy_rf"
   ]
  },
  {
   "cell_type": "code",
   "execution_count": 193,
   "id": "d3737960",
   "metadata": {},
   "outputs": [],
   "source": [
    "predictions_prob = fit_rf.predict_proba(test_set)[:, 1]   #y_pred_proba = log_reg.predict_proba(x_test)[::,1]\n",
    "\n",
    "fpr2, tpr2, _ = roc_curve(test_class_set,\n",
    "                          predictions_prob,\n",
    "                          pos_label = 1)     #fpr, tpr, thresholds = metrics.roc_curve(y_test,  y_pred_proba)"
   ]
  },
  {
   "cell_type": "code",
   "execution_count": 124,
   "id": "d258f620",
   "metadata": {},
   "outputs": [
    {
     "data": {
      "image/png": "[encoded data removed]",
      "text/plain": [
       "<Figure size 864x720 with 1 Axes>"
      ]
     },
     "metadata": {
      "needs_background": "light"
     },
     "output_type": "display_data"
    }
   ],
   "source": [
    "from sklearn import metrics\n",
    "#metrics.roc_auc_score directly returns the auc for y_actual and corresponding prob values of success for each row\n",
    "auc_rf = metrics.roc_auc_score(test_class_set, predictions_prob )\n",
    "\n",
    "# Plotting the AUC curve\n",
    "plt.figure(figsize=(12,10))\n",
    "plt.plot(fpr2,tpr2,label=\"auc=\"+str(auc_rf))\n",
    "plt.legend(loc=4)\n",
    "plt.title(\"Receiver Operating Characteristic Curve (ROC)\")\n",
    "plt.xlabel(\"FPR ---->\")\n",
    "plt.ylabel(\"TPR ---->\")\n",
    "plt.show()"
   ]
  },
  {
   "cell_type": "code",
   "execution_count": 194,
   "id": "53a57158",
   "metadata": {},
   "outputs": [
    {
     "data": {
      "text/plain": [
       "0.8776705276705277"
      ]
     },
     "execution_count": 194,
     "metadata": {},
     "output_type": "execute_result"
    }
   ],
   "source": [
    "auc_rf"
   ]
  },
  {
   "cell_type": "code",
   "execution_count": 197,
   "id": "3cd8268c",
   "metadata": {},
   "outputs": [],
   "source": [
    "##The accuracy of RF is higher than the Decision tree and LR.\n"
   ]
  },
  {
   "cell_type": "code",
   "execution_count": 198,
   "id": "679d78ad",
   "metadata": {},
   "outputs": [],
   "source": [
    "####   KNN Algorithm  ###########\n",
    "from sklearn.neighbors import KNeighborsClassifier"
   ]
  },
  {
   "cell_type": "code",
   "execution_count": 199,
   "id": "643021df",
   "metadata": {},
   "outputs": [],
   "source": [
    "knn = KNeighborsClassifier(n_neighbors=3)    #Instantiate\n",
    "knn.fit(X_train,y_train)                     #fit\n",
    "pred = knn.predict(X_test)                   #Predict"
   ]
  },
  {
   "cell_type": "code",
   "execution_count": 200,
   "id": "bd514810",
   "metadata": {},
   "outputs": [
    {
     "name": "stdout",
     "output_type": "stream",
     "text": [
      "[[144  29]\n",
      " [ 47  77]]\n"
     ]
    }
   ],
   "source": [
    "#Predictions ans evaluations\n",
    "print(confusion_matrix(y_test,pred))"
   ]
  },
  {
   "cell_type": "code",
   "execution_count": 201,
   "id": "792bea1c",
   "metadata": {},
   "outputs": [
    {
     "name": "stdout",
     "output_type": "stream",
     "text": [
      "              precision    recall  f1-score   support\n",
      "\n",
      "           0       0.75      0.83      0.79       173\n",
      "           1       0.73      0.62      0.67       124\n",
      "\n",
      "    accuracy                           0.74       297\n",
      "   macro avg       0.74      0.73      0.73       297\n",
      "weighted avg       0.74      0.74      0.74       297\n",
      "\n"
     ]
    }
   ],
   "source": [
    "print(classification_report(y_test,pred))"
   ]
  },
  {
   "cell_type": "code",
   "execution_count": 203,
   "id": "8d7f1a70",
   "metadata": {},
   "outputs": [],
   "source": [
    "accuracy_rate = []\n",
    "for i in range(1,40):    # May take some time\n",
    "    knn = KNeighborsClassifier(n_neighbors=i)\n",
    "    score=cross_val_score(knn,scaled_features,y,cv=10)\n",
    "    accuracy_rate.append(score.mean())"
   ]
  },
  {
   "cell_type": "code",
   "execution_count": 206,
   "id": "40a49ee6",
   "metadata": {},
   "outputs": [
    {
     "data": {
      "text/plain": [
       "Text(0, 0.5, 'Accuracy Rate')"
      ]
     },
     "execution_count": 206,
     "metadata": {},
     "output_type": "execute_result"
    },
    {
     "data": {
      "image/png": "[encoded data removed]",
      "text/plain": [
       "<Figure size 720x576 with 1 Axes>"
      ]
     },
     "metadata": {
      "needs_background": "light"
     },
     "output_type": "display_data"
    }
   ],
   "source": [
    "#Plotting the mean accuracy socre against all the K values\n",
    "\n",
    "plt.figure(figsize = (10,8))\n",
    "plt.plot(range(1,40),accuracy_rate,color='blue', linestyle='dashed', marker='o',\n",
    "         markerfacecolor='red', markersize=10)\n",
    "plt.title('Accuracy Rate vs. K Value')\n",
    "plt.xlabel('K Neighbors')\n",
    "plt.ylabel('Accuracy Rate')"
   ]
  },
  {
   "cell_type": "code",
   "execution_count": 214,
   "id": "11bf973d",
   "metadata": {},
   "outputs": [
    {
     "name": "stdout",
     "output_type": "stream",
     "text": [
      "[[157  16]\n",
      " [ 75  49]]\n",
      "              precision    recall  f1-score   support\n",
      "\n",
      "           0       0.68      0.91      0.78       173\n",
      "           1       0.75      0.40      0.52       124\n",
      "\n",
      "    accuracy                           0.69       297\n",
      "   macro avg       0.72      0.65      0.65       297\n",
      "weighted avg       0.71      0.69      0.67       297\n",
      "\n"
     ]
    }
   ],
   "source": [
    "#Finally using the optimum value of K = 20\n",
    "\n",
    "knn = KNeighborsClassifier(n_neighbors=20)    #Instantiate\n",
    "knn.fit(X_train,y_train)                     #fit\n",
    "pred = knn.predict(X_test)                   #Predict\n",
    "\n",
    "print(confusion_matrix(y_test,pred))\n",
    "print(classification_report(y_test,pred))"
   ]
  },
  {
   "cell_type": "code",
   "execution_count": 215,
   "id": "7c84d689",
   "metadata": {
    "collapsed": true
   },
   "outputs": [
    {
     "data": {
      "text/plain": [
       "0.7389054633600597"
      ]
     },
     "execution_count": 215,
     "metadata": {},
     "output_type": "execute_result"
    }
   ],
   "source": [
    "pred_prob = knn.predict_proba(X_test)[::, 1]\n",
    "\n",
    "fpr2, tpr2, _ = roc_curve(y_test,\n",
    "                          pred_prob)\n",
    "\n",
    "auc(fpr2,tpr2)"
   ]
  },
  {
   "cell_type": "code",
   "execution_count": 45,
   "id": "a72acee7",
   "metadata": {},
   "outputs": [],
   "source": [
    "####comparing the models\n",
    "# train models\n",
    "from sklearn.linear_model import LogisticRegression\n",
    "from sklearn.neighbors import KNeighborsClassifier\n",
    "#import Random forest classifier and fit the data\n",
    "from sklearn.ensemble import RandomForestClassifier \n",
    "\n",
    "# logistic regression\n",
    "model1 = LogisticRegression()\n",
    "# knn\n",
    "model2 = KNeighborsClassifier(n_neighbors=4)\n",
    "#Random forest\n",
    "model3 = RandomForestClassifier(random_state=42)\n",
    "# fit model\n",
    "model1.fit(X_train, y_train)\n",
    "model2.fit(X_train, y_train)\n",
    "model3.fit(X_train,y_train)\n",
    "\n",
    "# predict probabilities\n",
    "pred_prob1 = model1.predict_proba(X_test)\n",
    "pred_prob2 = model2.predict_proba(X_test)\n",
    "pred_prob3 = model3.predict_proba(X_test)\n"
   ]
  },
  {
   "cell_type": "code",
   "execution_count": 46,
   "id": "2cbc5f52",
   "metadata": {},
   "outputs": [],
   "source": [
    "from sklearn.metrics import roc_curve\n",
    "\n",
    "# roc curve for models\n",
    "fpr1, tpr1, thresh1 = roc_curve(y_test, pred_prob1[:,1], pos_label=1)\n",
    "fpr2, tpr2, thresh2 = roc_curve(y_test, pred_prob2[:,1], pos_label=1)\n",
    "fpr3, tpr3, thresh3 = roc_curve(y_test, pred_prob3[:,1], pos_label=1)\n",
    "# roc curve for tpr = fpr \n",
    "random_probs = [0 for i in range(len(y_test))]\n",
    "p_fpr, p_tpr, _ = roc_curve(y_test, random_probs, pos_label=1)\n"
   ]
  },
  {
   "cell_type": "code",
   "execution_count": 53,
   "id": "5360510f",
   "metadata": {},
   "outputs": [
    {
     "name": "stdout",
     "output_type": "stream",
     "text": [
      "AUC score for Logistic Regression is: 0.8401081484243893\n",
      "AUC score for KNN is: 0.8031652060413947\n",
      "AUC score for Random Forest is: 0.8401081484243893\n"
     ]
    }
   ],
   "source": [
    "from sklearn.metrics import roc_auc_score\n",
    "\n",
    "# auc scores\n",
    "auc_score1 = roc_auc_score(y_test, pred_prob1[:,1])\n",
    "auc_score2 = roc_auc_score(y_test, pred_prob2[:,1])\n",
    "auc_score3 = roc_auc_score(y_test, pred_prob3[:,1])\n",
    "\n",
    "print('AUC score for Logistic Regression is:' , auc_score3)\n",
    "print('AUC score for KNN is:' , auc_score2)\n",
    "print('AUC score for Random Forest is:' , auc_score3) "
   ]
  },
  {
   "cell_type": "code",
   "execution_count": 50,
   "id": "89ac10e8",
   "metadata": {},
   "outputs": [
    {
     "data": {
      "image/png": "[encoded data removed]",
      "text/plain": [
       "<Figure size 576x396 with 1 Axes>"
      ]
     },
     "metadata": {},
     "output_type": "display_data"
    }
   ],
   "source": [
    "import matplotlib.pyplot as plt\n",
    "plt.style.use('seaborn')\n",
    "\n",
    "# plot roc curves\n",
    "plt.plot(fpr1, tpr1, linestyle='--',color='orange', label='Logistic Regression')\n",
    "plt.plot(fpr2, tpr2, linestyle='--',color='green', label='KNN')\n",
    "plt.plot(fpr3, tpr3, linestyle='--',color='red', label='Random Forest')\n",
    "\n",
    "plt.plot(p_fpr, p_tpr, linestyle='--', color='blue')\n",
    "# title\n",
    "plt.title('ROC curve')\n",
    "# x label\n",
    "plt.xlabel('False Positive Rate')\n",
    "# y label\n",
    "plt.ylabel('True Positive rate')\n",
    "\n",
    "plt.legend(loc='best')\n",
    "plt.savefig('ROC',dpi=300)\n",
    "plt.show();"
   ]
  },
  {
   "cell_type": "code",
   "execution_count": null,
   "id": "44cc900a",
   "metadata": {},
   "outputs": [],
   "source": []
  },
  {
   "cell_type": "code",
   "execution_count": null,
   "id": "fe5d27e2",
   "metadata": {},
   "outputs": [],
   "source": []
  },
  {
   "cell_type": "code",
   "execution_count": null,
   "id": "ebdf80f1",
   "metadata": {},
   "outputs": [],
   "source": []
  }
 ],
 "metadata": {
  "kernelspec": {
   "display_name": "Python 3",
   "language": "python",
   "name": "python3"
  },
  "language_info": {
   "codemirror_mode": {
    "name": "ipython",
    "version": 3
   },
   "file_extension": ".py",
   "mimetype": "text/x-python",
   "name": "python",
   "nbconvert_exporter": "python",
   "pygments_lexer": "ipython3",
   "version": "3.8.8"
  }
 },
 "nbformat": 4,
 "nbformat_minor": 5
}
